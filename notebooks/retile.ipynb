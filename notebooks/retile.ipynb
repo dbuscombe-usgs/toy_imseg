{
 "cells": [
  {
   "cell_type": "code",
   "execution_count": 11,
   "metadata": {
    "collapsed": false
   },
   "outputs": [],
   "source": [
    "from __future__ import division\n",
    "from joblib import Parallel, delayed\n",
    "from glob import glob\n",
    "import numpy as np \n",
    "from scipy.misc import imread\n",
    "from scipy.io import loadmat\n",
    "import sys, getopt, os\n",
    "\n",
    "from tile_utils import *\n",
    "\n",
    "from scipy.stats import mode as md\n",
    "from scipy.misc import imsave"
   ]
  },
  {
   "cell_type": "code",
   "execution_count": 12,
   "metadata": {
    "collapsed": true
   },
   "outputs": [],
   "source": [
    "# =========================================================\n",
    "def writeout(tmp, cl, labels, outpath, thres):\n",
    "\n",
    "   l, cnt = md(cl.flatten())\n",
    "   l = np.squeeze(l)\n",
    "   if cnt/len(cl.flatten()) > thres:\n",
    "      outfile = id_generator()+'.jpg'\n",
    "      fp = outpath+os.sep+labels[l]+os.sep+outfile\n",
    "      imsave(fp, tmp)"
   ]
  },
  {
   "cell_type": "code",
   "execution_count": 13,
   "metadata": {
    "collapsed": false
   },
   "outputs": [],
   "source": [
    "direc = 'train'\n",
    "tile = 96\n",
    "thres = 0.9"
   ]
  },
  {
   "cell_type": "code",
   "execution_count": 14,
   "metadata": {
    "collapsed": true
   },
   "outputs": [],
   "source": [
    "tile = int(tile)\n",
    "thres = float(thres)\n",
    "\n",
    "outpath = 'tile_'+str(tile)\n",
    "files = sorted(glob(direc+os.sep+'*.mat'))\n",
    "\n",
    "labels = loadmat(files[0])['labels']\n",
    "labels = [label.replace(' ','') for label in labels]"
   ]
  },
  {
   "cell_type": "code",
   "execution_count": 15,
   "metadata": {
    "collapsed": false
   },
   "outputs": [
    {
     "data": {
      "text/plain": [
       "[u'anthro', u'foam', u'terrain', u'water', u'veg', u'sand', u'road']"
      ]
     },
     "execution_count": 15,
     "metadata": {},
     "output_type": "execute_result"
    }
   ],
   "source": [
    "labels"
   ]
  },
  {
   "cell_type": "code",
   "execution_count": 16,
   "metadata": {
    "collapsed": true
   },
   "outputs": [],
   "source": [
    "try:\n",
    "   os.mkdir(outpath)\n",
    "except:\n",
    "   pass\n",
    "\n",
    "for f in labels:\n",
    "   try:\n",
    "      os.mkdir(outpath+os.sep+f)\n",
    "   except:\n",
    "      pass"
   ]
  },
  {
   "cell_type": "code",
   "execution_count": 10,
   "metadata": {
    "collapsed": false
   },
   "outputs": [
    {
     "name": "stdout",
     "output_type": "stream",
     "text": [
      "working on train/usgs_pcmsc_2016_02_05_223925.TIF-0_ares.mat\n",
      "Generating tiles from dense class map ....\n",
      "working on train/usgs_pcmsc_2016_02_05_223945.TIF-0_ares.mat\n",
      "Generating tiles from dense class map ....\n"
     ]
    }
   ],
   "source": [
    "for f in files:\n",
    "   print('working on '+str(f))\n",
    "   dat = loadmat(f)\n",
    "   res = dat['class']\n",
    "   fim = direc+os.sep+f.split(os.sep)[-1].replace('_ares.mat','.jpg')\n",
    "\n",
    "   print('Generating tiles from dense class map ....')\n",
    "   Z,ind = sliding_window(imread(fim), (tile,tile,3), (int(tile/2), int(tile/2),3)) \n",
    "\n",
    "   C,ind = sliding_window(res, (tile,tile), (int(tile/2), int(tile/2))) \n",
    "\n",
    "   w = Parallel(n_jobs=-1, verbose=0, pre_dispatch='2 * n_jobs', max_nbytes=None)(delayed(writeout)(Z[k], C[k], labels, outpath, thres) for k in range(len(Z))) "
   ]
  },
  {
   "cell_type": "code",
   "execution_count": null,
   "metadata": {
    "collapsed": true
   },
   "outputs": [],
   "source": []
  }
 ],
 "metadata": {
  "kernelspec": {
   "display_name": "Python 2",
   "language": "python",
   "name": "python2"
  },
  "language_info": {
   "codemirror_mode": {
    "name": "ipython",
    "version": 2
   },
   "file_extension": ".py",
   "mimetype": "text/x-python",
   "name": "python",
   "nbconvert_exporter": "python",
   "pygments_lexer": "ipython2",
   "version": "2.7.14"
  }
 },
 "nbformat": 4,
 "nbformat_minor": 2
}
