{
 "cells": [
  {
   "cell_type": "code",
   "execution_count": null,
   "metadata": {
    "collapsed": false
   },
   "outputs": [
    {
     "name": "stdout",
     "output_type": "stream",
     "text": [
      "INFO:tensorflow:Looking for images in 'anthro '\n"
     ]
    },
    {
     "name": "stderr",
     "output_type": "stream",
     "text": [
      "INFO:tensorflow:Looking for images in 'anthro '\n"
     ]
    },
    {
     "name": "stdout",
     "output_type": "stream",
     "text": [
      "INFO:tensorflow:Looking for images in 'foam   '\n"
     ]
    },
    {
     "name": "stderr",
     "output_type": "stream",
     "text": [
      "INFO:tensorflow:Looking for images in 'foam   '\n"
     ]
    },
    {
     "name": "stdout",
     "output_type": "stream",
     "text": [
      "INFO:tensorflow:Looking for images in 'road   '\n"
     ]
    },
    {
     "name": "stderr",
     "output_type": "stream",
     "text": [
      "INFO:tensorflow:Looking for images in 'road   '\n"
     ]
    },
    {
     "name": "stdout",
     "output_type": "stream",
     "text": [
      "INFO:tensorflow:Looking for images in 'sand   '\n"
     ]
    },
    {
     "name": "stderr",
     "output_type": "stream",
     "text": [
      "INFO:tensorflow:Looking for images in 'sand   '\n"
     ]
    },
    {
     "name": "stdout",
     "output_type": "stream",
     "text": [
      "INFO:tensorflow:Looking for images in 'terrain'\n"
     ]
    },
    {
     "name": "stderr",
     "output_type": "stream",
     "text": [
      "INFO:tensorflow:Looking for images in 'terrain'\n"
     ]
    },
    {
     "name": "stdout",
     "output_type": "stream",
     "text": [
      "INFO:tensorflow:Looking for images in 'veg    '\n"
     ]
    },
    {
     "name": "stderr",
     "output_type": "stream",
     "text": [
      "INFO:tensorflow:Looking for images in 'veg    '\n"
     ]
    },
    {
     "name": "stdout",
     "output_type": "stream",
     "text": [
      "INFO:tensorflow:Looking for images in 'water  '\n"
     ]
    },
    {
     "name": "stderr",
     "output_type": "stream",
     "text": [
      "INFO:tensorflow:Looking for images in 'water  '\n"
     ]
    },
    {
     "name": "stdout",
     "output_type": "stream",
     "text": [
      "INFO:tensorflow:Downloading TF-Hub Module 'https://tfhub.dev/google/imagenet/mobilenet_v2_100_96/classification/1'.\n"
     ]
    },
    {
     "name": "stderr",
     "output_type": "stream",
     "text": [
      "INFO:tensorflow:Downloading TF-Hub Module 'https://tfhub.dev/google/imagenet/mobilenet_v2_100_96/classification/1'.\n"
     ]
    },
    {
     "name": "stdout",
     "output_type": "stream",
     "text": [
      "INFO:tensorflow:Downloaded TF-Hub Module 'https://tfhub.dev/google/imagenet/mobilenet_v2_100_96/classification/1'.\n"
     ]
    },
    {
     "name": "stderr",
     "output_type": "stream",
     "text": [
      "INFO:tensorflow:Downloaded TF-Hub Module 'https://tfhub.dev/google/imagenet/mobilenet_v2_100_96/classification/1'.\n"
     ]
    },
    {
     "name": "stdout",
     "output_type": "stream",
     "text": [
      "INFO:tensorflow:Initialize variable module/MobilenetV2/Conv/BatchNorm/beta:0 from checkpoint /tmp/tfhub_modules/2febfc4e01f38d50fac8ac922d87e18391e34060/variables/variables with MobilenetV2/Conv/BatchNorm/beta\n"
     ]
    },
    {
     "name": "stderr",
     "output_type": "stream",
     "text": [
      "INFO:tensorflow:Initialize variable module/MobilenetV2/Conv/BatchNorm/beta:0 from checkpoint /tmp/tfhub_modules/2febfc4e01f38d50fac8ac922d87e18391e34060/variables/variables with MobilenetV2/Conv/BatchNorm/beta\n"
     ]
    },
    {
     "name": "stdout",
     "output_type": "stream",
     "text": [
      "INFO:tensorflow:Initialize variable module/MobilenetV2/Conv/BatchNorm/gamma:0 from checkpoint /tmp/tfhub_modules/2febfc4e01f38d50fac8ac922d87e18391e34060/variables/variables with MobilenetV2/Conv/BatchNorm/gamma\n"
     ]
    },
    {
     "name": "stderr",
     "output_type": "stream",
     "text": [
      "INFO:tensorflow:Initialize variable module/MobilenetV2/Conv/BatchNorm/gamma:0 from checkpoint /tmp/tfhub_modules/2febfc4e01f38d50fac8ac922d87e18391e34060/variables/variables with MobilenetV2/Conv/BatchNorm/gamma\n"
     ]
    },
    {
     "name": "stdout",
     "output_type": "stream",
     "text": [
      "INFO:tensorflow:Initialize variable module/MobilenetV2/Conv/BatchNorm/moving_mean:0 from checkpoint /tmp/tfhub_modules/2febfc4e01f38d50fac8ac922d87e18391e34060/variables/variables with MobilenetV2/Conv/BatchNorm/moving_mean\n"
     ]
    },
    {
     "name": "stderr",
     "output_type": "stream",
     "text": [
      "INFO:tensorflow:Initialize variable module/MobilenetV2/Conv/BatchNorm/moving_mean:0 from checkpoint /tmp/tfhub_modules/2febfc4e01f38d50fac8ac922d87e18391e34060/variables/variables with MobilenetV2/Conv/BatchNorm/moving_mean\n"
     ]
    },
    {
     "name": "stdout",
     "output_type": "stream",
     "text": [
      "INFO:tensorflow:Initialize variable module/MobilenetV2/Conv/BatchNorm/moving_variance:0 from checkpoint /tmp/tfhub_modules/2febfc4e01f38d50fac8ac922d87e18391e34060/variables/variables with MobilenetV2/Conv/BatchNorm/moving_variance\n"
     ]
    },
    {
     "name": "stderr",
     "output_type": "stream",
     "text": [
      "INFO:tensorflow:Initialize variable module/MobilenetV2/Conv/BatchNorm/moving_variance:0 from checkpoint /tmp/tfhub_modules/2febfc4e01f38d50fac8ac922d87e18391e34060/variables/variables with MobilenetV2/Conv/BatchNorm/moving_variance\n"
     ]
    },
    {
     "name": "stdout",
     "output_type": "stream",
     "text": [
      "INFO:tensorflow:Initialize variable module/MobilenetV2/Conv/weights:0 from checkpoint /tmp/tfhub_modules/2febfc4e01f38d50fac8ac922d87e18391e34060/variables/variables with MobilenetV2/Conv/weights\n"
     ]
    },
    {
     "name": "stderr",
     "output_type": "stream",
     "text": [
      "INFO:tensorflow:Initialize variable module/MobilenetV2/Conv/weights:0 from checkpoint /tmp/tfhub_modules/2febfc4e01f38d50fac8ac922d87e18391e34060/variables/variables with MobilenetV2/Conv/weights\n"
     ]
    },
    {
     "name": "stdout",
     "output_type": "stream",
     "text": [
      "INFO:tensorflow:Initialize variable module/MobilenetV2/Conv_1/BatchNorm/beta:0 from checkpoint /tmp/tfhub_modules/2febfc4e01f38d50fac8ac922d87e18391e34060/variables/variables with MobilenetV2/Conv_1/BatchNorm/beta\n"
     ]
    },
    {
     "name": "stderr",
     "output_type": "stream",
     "text": [
      "INFO:tensorflow:Initialize variable module/MobilenetV2/Conv_1/BatchNorm/beta:0 from checkpoint /tmp/tfhub_modules/2febfc4e01f38d50fac8ac922d87e18391e34060/variables/variables with MobilenetV2/Conv_1/BatchNorm/beta\n"
     ]
    },
    {
     "name": "stdout",
     "output_type": "stream",
     "text": [
      "INFO:tensorflow:Initialize variable module/MobilenetV2/Conv_1/BatchNorm/gamma:0 from checkpoint /tmp/tfhub_modules/2febfc4e01f38d50fac8ac922d87e18391e34060/variables/variables with MobilenetV2/Conv_1/BatchNorm/gamma\n"
     ]
    },
    {
     "name": "stderr",
     "output_type": "stream",
     "text": [
      "INFO:tensorflow:Initialize variable module/MobilenetV2/Conv_1/BatchNorm/gamma:0 from checkpoint /tmp/tfhub_modules/2febfc4e01f38d50fac8ac922d87e18391e34060/variables/variables with MobilenetV2/Conv_1/BatchNorm/gamma\n"
     ]
    },
    {
     "name": "stdout",
     "output_type": "stream",
     "text": [
      "INFO:tensorflow:Initialize variable module/MobilenetV2/Conv_1/BatchNorm/moving_mean:0 from checkpoint /tmp/tfhub_modules/2febfc4e01f38d50fac8ac922d87e18391e34060/variables/variables with MobilenetV2/Conv_1/BatchNorm/moving_mean\n"
     ]
    },
    {
     "name": "stderr",
     "output_type": "stream",
     "text": [
      "INFO:tensorflow:Initialize variable module/MobilenetV2/Conv_1/BatchNorm/moving_mean:0 from checkpoint /tmp/tfhub_modules/2febfc4e01f38d50fac8ac922d87e18391e34060/variables/variables with MobilenetV2/Conv_1/BatchNorm/moving_mean\n"
     ]
    },
    {
     "name": "stdout",
     "output_type": "stream",
     "text": [
      "INFO:tensorflow:Initialize variable module/MobilenetV2/Conv_1/BatchNorm/moving_variance:0 from checkpoint /tmp/tfhub_modules/2febfc4e01f38d50fac8ac922d87e18391e34060/variables/variables with MobilenetV2/Conv_1/BatchNorm/moving_variance\n"
     ]
    },
    {
     "name": "stderr",
     "output_type": "stream",
     "text": [
      "INFO:tensorflow:Initialize variable module/MobilenetV2/Conv_1/BatchNorm/moving_variance:0 from checkpoint /tmp/tfhub_modules/2febfc4e01f38d50fac8ac922d87e18391e34060/variables/variables with MobilenetV2/Conv_1/BatchNorm/moving_variance\n"
     ]
    },
    {
     "name": "stdout",
     "output_type": "stream",
     "text": [
      "INFO:tensorflow:Initialize variable module/MobilenetV2/Conv_1/weights:0 from checkpoint /tmp/tfhub_modules/2febfc4e01f38d50fac8ac922d87e18391e34060/variables/variables with MobilenetV2/Conv_1/weights\n"
     ]
    },
    {
     "name": "stderr",
     "output_type": "stream",
     "text": [
      "INFO:tensorflow:Initialize variable module/MobilenetV2/Conv_1/weights:0 from checkpoint /tmp/tfhub_modules/2febfc4e01f38d50fac8ac922d87e18391e34060/variables/variables with MobilenetV2/Conv_1/weights\n"
     ]
    },
    {
     "name": "stdout",
     "output_type": "stream",
     "text": [
      "INFO:tensorflow:Initialize variable module/MobilenetV2/Logits/Conv2d_1c_1x1/biases:0 from checkpoint /tmp/tfhub_modules/2febfc4e01f38d50fac8ac922d87e18391e34060/variables/variables with MobilenetV2/Logits/Conv2d_1c_1x1/biases\n"
     ]
    },
    {
     "name": "stderr",
     "output_type": "stream",
     "text": [
      "INFO:tensorflow:Initialize variable module/MobilenetV2/Logits/Conv2d_1c_1x1/biases:0 from checkpoint /tmp/tfhub_modules/2febfc4e01f38d50fac8ac922d87e18391e34060/variables/variables with MobilenetV2/Logits/Conv2d_1c_1x1/biases\n"
     ]
    },
    {
     "name": "stdout",
     "output_type": "stream",
     "text": [
      "INFO:tensorflow:Initialize variable module/MobilenetV2/Logits/Conv2d_1c_1x1/weights:0 from checkpoint /tmp/tfhub_modules/2febfc4e01f38d50fac8ac922d87e18391e34060/variables/variables with MobilenetV2/Logits/Conv2d_1c_1x1/weights\n"
     ]
    },
    {
     "name": "stderr",
     "output_type": "stream",
     "text": [
      "INFO:tensorflow:Initialize variable module/MobilenetV2/Logits/Conv2d_1c_1x1/weights:0 from checkpoint /tmp/tfhub_modules/2febfc4e01f38d50fac8ac922d87e18391e34060/variables/variables with MobilenetV2/Logits/Conv2d_1c_1x1/weights\n"
     ]
    },
    {
     "name": "stdout",
     "output_type": "stream",
     "text": [
      "INFO:tensorflow:Initialize variable module/MobilenetV2/expanded_conv/depthwise/BatchNorm/beta:0 from checkpoint /tmp/tfhub_modules/2febfc4e01f38d50fac8ac922d87e18391e34060/variables/variables with MobilenetV2/expanded_conv/depthwise/BatchNorm/beta\n"
     ]
    },
    {
     "name": "stderr",
     "output_type": "stream",
     "text": [
      "INFO:tensorflow:Initialize variable module/MobilenetV2/expanded_conv/depthwise/BatchNorm/beta:0 from checkpoint /tmp/tfhub_modules/2febfc4e01f38d50fac8ac922d87e18391e34060/variables/variables with MobilenetV2/expanded_conv/depthwise/BatchNorm/beta\n"
     ]
    },
    {
     "name": "stdout",
     "output_type": "stream",
     "text": [
      "INFO:tensorflow:Initialize variable module/MobilenetV2/expanded_conv/depthwise/BatchNorm/gamma:0 from checkpoint /tmp/tfhub_modules/2febfc4e01f38d50fac8ac922d87e18391e34060/variables/variables with MobilenetV2/expanded_conv/depthwise/BatchNorm/gamma\n"
     ]
    },
    {
     "name": "stderr",
     "output_type": "stream",
     "text": [
      "INFO:tensorflow:Initialize variable module/MobilenetV2/expanded_conv/depthwise/BatchNorm/gamma:0 from checkpoint /tmp/tfhub_modules/2febfc4e01f38d50fac8ac922d87e18391e34060/variables/variables with MobilenetV2/expanded_conv/depthwise/BatchNorm/gamma\n"
     ]
    },
    {
     "name": "stdout",
     "output_type": "stream",
     "text": [
      "INFO:tensorflow:Initialize variable module/MobilenetV2/expanded_conv/depthwise/BatchNorm/moving_mean:0 from checkpoint /tmp/tfhub_modules/2febfc4e01f38d50fac8ac922d87e18391e34060/variables/variables with MobilenetV2/expanded_conv/depthwise/BatchNorm/moving_mean\n"
     ]
    },
    {
     "name": "stderr",
     "output_type": "stream",
     "text": [
      "INFO:tensorflow:Initialize variable module/MobilenetV2/expanded_conv/depthwise/BatchNorm/moving_mean:0 from checkpoint /tmp/tfhub_modules/2febfc4e01f38d50fac8ac922d87e18391e34060/variables/variables with MobilenetV2/expanded_conv/depthwise/BatchNorm/moving_mean\n"
     ]
    },
    {
     "name": "stdout",
     "output_type": "stream",
     "text": [
      "INFO:tensorflow:Initialize variable module/MobilenetV2/expanded_conv/depthwise/BatchNorm/moving_variance:0 from checkpoint /tmp/tfhub_modules/2febfc4e01f38d50fac8ac922d87e18391e34060/variables/variables with MobilenetV2/expanded_conv/depthwise/BatchNorm/moving_variance\n"
     ]
    },
    {
     "name": "stderr",
     "output_type": "stream",
     "text": [
      "INFO:tensorflow:Initialize variable module/MobilenetV2/expanded_conv/depthwise/BatchNorm/moving_variance:0 from checkpoint /tmp/tfhub_modules/2febfc4e01f38d50fac8ac922d87e18391e34060/variables/variables with MobilenetV2/expanded_conv/depthwise/BatchNorm/moving_variance\n"
     ]
    },
    {
     "name": "stdout",
     "output_type": "stream",
     "text": [
      "INFO:tensorflow:Initialize variable module/MobilenetV2/expanded_conv/depthwise/depthwise_weights:0 from checkpoint /tmp/tfhub_modules/2febfc4e01f38d50fac8ac922d87e18391e34060/variables/variables with MobilenetV2/expanded_conv/depthwise/depthwise_weights\n"
     ]
    },
    {
     "name": "stderr",
     "output_type": "stream",
     "text": [
      "INFO:tensorflow:Initialize variable module/MobilenetV2/expanded_conv/depthwise/depthwise_weights:0 from checkpoint /tmp/tfhub_modules/2febfc4e01f38d50fac8ac922d87e18391e34060/variables/variables with MobilenetV2/expanded_conv/depthwise/depthwise_weights\n"
     ]
    },
    {
     "name": "stdout",
     "output_type": "stream",
     "text": [
      "INFO:tensorflow:Initialize variable module/MobilenetV2/expanded_conv/project/BatchNorm/beta:0 from checkpoint /tmp/tfhub_modules/2febfc4e01f38d50fac8ac922d87e18391e34060/variables/variables with MobilenetV2/expanded_conv/project/BatchNorm/beta\n"
     ]
    },
    {
     "name": "stderr",
     "output_type": "stream",
     "text": [
      "INFO:tensorflow:Initialize variable module/MobilenetV2/expanded_conv/project/BatchNorm/beta:0 from checkpoint /tmp/tfhub_modules/2febfc4e01f38d50fac8ac922d87e18391e34060/variables/variables with MobilenetV2/expanded_conv/project/BatchNorm/beta\n"
     ]
    },
    {
     "name": "stdout",
     "output_type": "stream",
     "text": [
      "INFO:tensorflow:Initialize variable module/MobilenetV2/expanded_conv/project/BatchNorm/gamma:0 from checkpoint /tmp/tfhub_modules/2febfc4e01f38d50fac8ac922d87e18391e34060/variables/variables with MobilenetV2/expanded_conv/project/BatchNorm/gamma\n"
     ]
    },
    {
     "name": "stderr",
     "output_type": "stream",
     "text": [
      "INFO:tensorflow:Initialize variable module/MobilenetV2/expanded_conv/project/BatchNorm/gamma:0 from checkpoint /tmp/tfhub_modules/2febfc4e01f38d50fac8ac922d87e18391e34060/variables/variables with MobilenetV2/expanded_conv/project/BatchNorm/gamma\n"
     ]
    },
    {
     "name": "stdout",
     "output_type": "stream",
     "text": [
      "INFO:tensorflow:Initialize variable module/MobilenetV2/expanded_conv/project/BatchNorm/moving_mean:0 from checkpoint /tmp/tfhub_modules/2febfc4e01f38d50fac8ac922d87e18391e34060/variables/variables with MobilenetV2/expanded_conv/project/BatchNorm/moving_mean\n"
     ]
    },
    {
     "name": "stderr",
     "output_type": "stream",
     "text": [
      "INFO:tensorflow:Initialize variable module/MobilenetV2/expanded_conv/project/BatchNorm/moving_mean:0 from checkpoint /tmp/tfhub_modules/2febfc4e01f38d50fac8ac922d87e18391e34060/variables/variables with MobilenetV2/expanded_conv/project/BatchNorm/moving_mean\n"
     ]
    },
    {
     "name": "stdout",
     "output_type": "stream",
     "text": [
      "INFO:tensorflow:Initialize variable module/MobilenetV2/expanded_conv/project/BatchNorm/moving_variance:0 from checkpoint /tmp/tfhub_modules/2febfc4e01f38d50fac8ac922d87e18391e34060/variables/variables with MobilenetV2/expanded_conv/project/BatchNorm/moving_variance\n"
     ]
    },
    {
     "name": "stderr",
     "output_type": "stream",
     "text": [
      "INFO:tensorflow:Initialize variable module/MobilenetV2/expanded_conv/project/BatchNorm/moving_variance:0 from checkpoint /tmp/tfhub_modules/2febfc4e01f38d50fac8ac922d87e18391e34060/variables/variables with MobilenetV2/expanded_conv/project/BatchNorm/moving_variance\n"
     ]
    },
    {
     "name": "stdout",
     "output_type": "stream",
     "text": [
      "INFO:tensorflow:Initialize variable module/MobilenetV2/expanded_conv/project/weights:0 from checkpoint /tmp/tfhub_modules/2febfc4e01f38d50fac8ac922d87e18391e34060/variables/variables with MobilenetV2/expanded_conv/project/weights\n"
     ]
    },
    {
     "name": "stderr",
     "output_type": "stream",
     "text": [
      "INFO:tensorflow:Initialize variable module/MobilenetV2/expanded_conv/project/weights:0 from checkpoint /tmp/tfhub_modules/2febfc4e01f38d50fac8ac922d87e18391e34060/variables/variables with MobilenetV2/expanded_conv/project/weights\n"
     ]
    },
    {
     "name": "stdout",
     "output_type": "stream",
     "text": [
      "INFO:tensorflow:Initialize variable module/MobilenetV2/expanded_conv_1/depthwise/BatchNorm/beta:0 from checkpoint /tmp/tfhub_modules/2febfc4e01f38d50fac8ac922d87e18391e34060/variables/variables with MobilenetV2/expanded_conv_1/depthwise/BatchNorm/beta\n"
     ]
    },
    {
     "name": "stderr",
     "output_type": "stream",
     "text": [
      "INFO:tensorflow:Initialize variable module/MobilenetV2/expanded_conv_1/depthwise/BatchNorm/beta:0 from checkpoint /tmp/tfhub_modules/2febfc4e01f38d50fac8ac922d87e18391e34060/variables/variables with MobilenetV2/expanded_conv_1/depthwise/BatchNorm/beta\n"
     ]
    },
    {
     "name": "stdout",
     "output_type": "stream",
     "text": [
      "INFO:tensorflow:Initialize variable module/MobilenetV2/expanded_conv_1/depthwise/BatchNorm/gamma:0 from checkpoint /tmp/tfhub_modules/2febfc4e01f38d50fac8ac922d87e18391e34060/variables/variables with MobilenetV2/expanded_conv_1/depthwise/BatchNorm/gamma\n"
     ]
    },
    {
     "name": "stderr",
     "output_type": "stream",
     "text": [
      "INFO:tensorflow:Initialize variable module/MobilenetV2/expanded_conv_1/depthwise/BatchNorm/gamma:0 from checkpoint /tmp/tfhub_modules/2febfc4e01f38d50fac8ac922d87e18391e34060/variables/variables with MobilenetV2/expanded_conv_1/depthwise/BatchNorm/gamma\n"
     ]
    },
    {
     "name": "stdout",
     "output_type": "stream",
     "text": [
      "INFO:tensorflow:Initialize variable module/MobilenetV2/expanded_conv_1/depthwise/BatchNorm/moving_mean:0 from checkpoint /tmp/tfhub_modules/2febfc4e01f38d50fac8ac922d87e18391e34060/variables/variables with MobilenetV2/expanded_conv_1/depthwise/BatchNorm/moving_mean\n"
     ]
    },
    {
     "name": "stderr",
     "output_type": "stream",
     "text": [
      "INFO:tensorflow:Initialize variable module/MobilenetV2/expanded_conv_1/depthwise/BatchNorm/moving_mean:0 from checkpoint /tmp/tfhub_modules/2febfc4e01f38d50fac8ac922d87e18391e34060/variables/variables with MobilenetV2/expanded_conv_1/depthwise/BatchNorm/moving_mean\n"
     ]
    },
    {
     "name": "stdout",
     "output_type": "stream",
     "text": [
      "INFO:tensorflow:Initialize variable module/MobilenetV2/expanded_conv_1/depthwise/BatchNorm/moving_variance:0 from checkpoint /tmp/tfhub_modules/2febfc4e01f38d50fac8ac922d87e18391e34060/variables/variables with MobilenetV2/expanded_conv_1/depthwise/BatchNorm/moving_variance\n"
     ]
    },
    {
     "name": "stderr",
     "output_type": "stream",
     "text": [
      "INFO:tensorflow:Initialize variable module/MobilenetV2/expanded_conv_1/depthwise/BatchNorm/moving_variance:0 from checkpoint /tmp/tfhub_modules/2febfc4e01f38d50fac8ac922d87e18391e34060/variables/variables with MobilenetV2/expanded_conv_1/depthwise/BatchNorm/moving_variance\n"
     ]
    },
    {
     "name": "stdout",
     "output_type": "stream",
     "text": [
      "INFO:tensorflow:Initialize variable module/MobilenetV2/expanded_conv_1/depthwise/depthwise_weights:0 from checkpoint /tmp/tfhub_modules/2febfc4e01f38d50fac8ac922d87e18391e34060/variables/variables with MobilenetV2/expanded_conv_1/depthwise/depthwise_weights\n"
     ]
    },
    {
     "name": "stderr",
     "output_type": "stream",
     "text": [
      "INFO:tensorflow:Initialize variable module/MobilenetV2/expanded_conv_1/depthwise/depthwise_weights:0 from checkpoint /tmp/tfhub_modules/2febfc4e01f38d50fac8ac922d87e18391e34060/variables/variables with MobilenetV2/expanded_conv_1/depthwise/depthwise_weights\n"
     ]
    },
    {
     "name": "stdout",
     "output_type": "stream",
     "text": [
      "INFO:tensorflow:Initialize variable module/MobilenetV2/expanded_conv_1/expand/BatchNorm/beta:0 from checkpoint /tmp/tfhub_modules/2febfc4e01f38d50fac8ac922d87e18391e34060/variables/variables with MobilenetV2/expanded_conv_1/expand/BatchNorm/beta\n"
     ]
    },
    {
     "name": "stderr",
     "output_type": "stream",
     "text": [
      "INFO:tensorflow:Initialize variable module/MobilenetV2/expanded_conv_1/expand/BatchNorm/beta:0 from checkpoint /tmp/tfhub_modules/2febfc4e01f38d50fac8ac922d87e18391e34060/variables/variables with MobilenetV2/expanded_conv_1/expand/BatchNorm/beta\n"
     ]
    },
    {
     "name": "stdout",
     "output_type": "stream",
     "text": [
      "INFO:tensorflow:Initialize variable module/MobilenetV2/expanded_conv_1/expand/BatchNorm/gamma:0 from checkpoint /tmp/tfhub_modules/2febfc4e01f38d50fac8ac922d87e18391e34060/variables/variables with MobilenetV2/expanded_conv_1/expand/BatchNorm/gamma\n"
     ]
    },
    {
     "name": "stderr",
     "output_type": "stream",
     "text": [
      "INFO:tensorflow:Initialize variable module/MobilenetV2/expanded_conv_1/expand/BatchNorm/gamma:0 from checkpoint /tmp/tfhub_modules/2febfc4e01f38d50fac8ac922d87e18391e34060/variables/variables with MobilenetV2/expanded_conv_1/expand/BatchNorm/gamma\n"
     ]
    },
    {
     "name": "stdout",
     "output_type": "stream",
     "text": [
      "INFO:tensorflow:Initialize variable module/MobilenetV2/expanded_conv_1/expand/BatchNorm/moving_mean:0 from checkpoint /tmp/tfhub_modules/2febfc4e01f38d50fac8ac922d87e18391e34060/variables/variables with MobilenetV2/expanded_conv_1/expand/BatchNorm/moving_mean\n"
     ]
    },
    {
     "name": "stderr",
     "output_type": "stream",
     "text": [
      "INFO:tensorflow:Initialize variable module/MobilenetV2/expanded_conv_1/expand/BatchNorm/moving_mean:0 from checkpoint /tmp/tfhub_modules/2febfc4e01f38d50fac8ac922d87e18391e34060/variables/variables with MobilenetV2/expanded_conv_1/expand/BatchNorm/moving_mean\n"
     ]
    },
    {
     "name": "stdout",
     "output_type": "stream",
     "text": [
      "INFO:tensorflow:Initialize variable module/MobilenetV2/expanded_conv_1/expand/BatchNorm/moving_variance:0 from checkpoint /tmp/tfhub_modules/2febfc4e01f38d50fac8ac922d87e18391e34060/variables/variables with MobilenetV2/expanded_conv_1/expand/BatchNorm/moving_variance\n"
     ]
    },
    {
     "name": "stderr",
     "output_type": "stream",
     "text": [
      "INFO:tensorflow:Initialize variable module/MobilenetV2/expanded_conv_1/expand/BatchNorm/moving_variance:0 from checkpoint /tmp/tfhub_modules/2febfc4e01f38d50fac8ac922d87e18391e34060/variables/variables with MobilenetV2/expanded_conv_1/expand/BatchNorm/moving_variance\n"
     ]
    },
    {
     "name": "stdout",
     "output_type": "stream",
     "text": [
      "INFO:tensorflow:Initialize variable module/MobilenetV2/expanded_conv_1/expand/weights:0 from checkpoint /tmp/tfhub_modules/2febfc4e01f38d50fac8ac922d87e18391e34060/variables/variables with MobilenetV2/expanded_conv_1/expand/weights\n"
     ]
    },
    {
     "name": "stderr",
     "output_type": "stream",
     "text": [
      "INFO:tensorflow:Initialize variable module/MobilenetV2/expanded_conv_1/expand/weights:0 from checkpoint /tmp/tfhub_modules/2febfc4e01f38d50fac8ac922d87e18391e34060/variables/variables with MobilenetV2/expanded_conv_1/expand/weights\n"
     ]
    },
    {
     "name": "stdout",
     "output_type": "stream",
     "text": [
      "INFO:tensorflow:Initialize variable module/MobilenetV2/expanded_conv_1/project/BatchNorm/beta:0 from checkpoint /tmp/tfhub_modules/2febfc4e01f38d50fac8ac922d87e18391e34060/variables/variables with MobilenetV2/expanded_conv_1/project/BatchNorm/beta\n"
     ]
    },
    {
     "name": "stderr",
     "output_type": "stream",
     "text": [
      "INFO:tensorflow:Initialize variable module/MobilenetV2/expanded_conv_1/project/BatchNorm/beta:0 from checkpoint /tmp/tfhub_modules/2febfc4e01f38d50fac8ac922d87e18391e34060/variables/variables with MobilenetV2/expanded_conv_1/project/BatchNorm/beta\n"
     ]
    },
    {
     "name": "stdout",
     "output_type": "stream",
     "text": [
      "INFO:tensorflow:Initialize variable module/MobilenetV2/expanded_conv_1/project/BatchNorm/gamma:0 from checkpoint /tmp/tfhub_modules/2febfc4e01f38d50fac8ac922d87e18391e34060/variables/variables with MobilenetV2/expanded_conv_1/project/BatchNorm/gamma\n"
     ]
    },
    {
     "name": "stderr",
     "output_type": "stream",
     "text": [
      "INFO:tensorflow:Initialize variable module/MobilenetV2/expanded_conv_1/project/BatchNorm/gamma:0 from checkpoint /tmp/tfhub_modules/2febfc4e01f38d50fac8ac922d87e18391e34060/variables/variables with MobilenetV2/expanded_conv_1/project/BatchNorm/gamma\n"
     ]
    },
    {
     "name": "stdout",
     "output_type": "stream",
     "text": [
      "INFO:tensorflow:Initialize variable module/MobilenetV2/expanded_conv_1/project/BatchNorm/moving_mean:0 from checkpoint /tmp/tfhub_modules/2febfc4e01f38d50fac8ac922d87e18391e34060/variables/variables with MobilenetV2/expanded_conv_1/project/BatchNorm/moving_mean\n"
     ]
    },
    {
     "name": "stderr",
     "output_type": "stream",
     "text": [
      "INFO:tensorflow:Initialize variable module/MobilenetV2/expanded_conv_1/project/BatchNorm/moving_mean:0 from checkpoint /tmp/tfhub_modules/2febfc4e01f38d50fac8ac922d87e18391e34060/variables/variables with MobilenetV2/expanded_conv_1/project/BatchNorm/moving_mean\n"
     ]
    },
    {
     "name": "stdout",
     "output_type": "stream",
     "text": [
      "INFO:tensorflow:Initialize variable module/MobilenetV2/expanded_conv_1/project/BatchNorm/moving_variance:0 from checkpoint /tmp/tfhub_modules/2febfc4e01f38d50fac8ac922d87e18391e34060/variables/variables with MobilenetV2/expanded_conv_1/project/BatchNorm/moving_variance\n"
     ]
    },
    {
     "name": "stderr",
     "output_type": "stream",
     "text": [
      "INFO:tensorflow:Initialize variable module/MobilenetV2/expanded_conv_1/project/BatchNorm/moving_variance:0 from checkpoint /tmp/tfhub_modules/2febfc4e01f38d50fac8ac922d87e18391e34060/variables/variables with MobilenetV2/expanded_conv_1/project/BatchNorm/moving_variance\n"
     ]
    },
    {
     "name": "stdout",
     "output_type": "stream",
     "text": [
      "INFO:tensorflow:Initialize variable module/MobilenetV2/expanded_conv_1/project/weights:0 from checkpoint /tmp/tfhub_modules/2febfc4e01f38d50fac8ac922d87e18391e34060/variables/variables with MobilenetV2/expanded_conv_1/project/weights\n"
     ]
    },
    {
     "name": "stderr",
     "output_type": "stream",
     "text": [
      "INFO:tensorflow:Initialize variable module/MobilenetV2/expanded_conv_1/project/weights:0 from checkpoint /tmp/tfhub_modules/2febfc4e01f38d50fac8ac922d87e18391e34060/variables/variables with MobilenetV2/expanded_conv_1/project/weights\n"
     ]
    },
    {
     "name": "stdout",
     "output_type": "stream",
     "text": [
      "INFO:tensorflow:Initialize variable module/MobilenetV2/expanded_conv_10/depthwise/BatchNorm/beta:0 from checkpoint /tmp/tfhub_modules/2febfc4e01f38d50fac8ac922d87e18391e34060/variables/variables with MobilenetV2/expanded_conv_10/depthwise/BatchNorm/beta\n"
     ]
    },
    {
     "name": "stderr",
     "output_type": "stream",
     "text": [
      "INFO:tensorflow:Initialize variable module/MobilenetV2/expanded_conv_10/depthwise/BatchNorm/beta:0 from checkpoint /tmp/tfhub_modules/2febfc4e01f38d50fac8ac922d87e18391e34060/variables/variables with MobilenetV2/expanded_conv_10/depthwise/BatchNorm/beta\n"
     ]
    },
    {
     "name": "stdout",
     "output_type": "stream",
     "text": [
      "INFO:tensorflow:Initialize variable module/MobilenetV2/expanded_conv_10/depthwise/BatchNorm/gamma:0 from checkpoint /tmp/tfhub_modules/2febfc4e01f38d50fac8ac922d87e18391e34060/variables/variables with MobilenetV2/expanded_conv_10/depthwise/BatchNorm/gamma\n"
     ]
    },
    {
     "name": "stderr",
     "output_type": "stream",
     "text": [
      "INFO:tensorflow:Initialize variable module/MobilenetV2/expanded_conv_10/depthwise/BatchNorm/gamma:0 from checkpoint /tmp/tfhub_modules/2febfc4e01f38d50fac8ac922d87e18391e34060/variables/variables with MobilenetV2/expanded_conv_10/depthwise/BatchNorm/gamma\n"
     ]
    },
    {
     "name": "stdout",
     "output_type": "stream",
     "text": [
      "INFO:tensorflow:Initialize variable module/MobilenetV2/expanded_conv_10/depthwise/BatchNorm/moving_mean:0 from checkpoint /tmp/tfhub_modules/2febfc4e01f38d50fac8ac922d87e18391e34060/variables/variables with MobilenetV2/expanded_conv_10/depthwise/BatchNorm/moving_mean\n"
     ]
    },
    {
     "name": "stderr",
     "output_type": "stream",
     "text": [
      "INFO:tensorflow:Initialize variable module/MobilenetV2/expanded_conv_10/depthwise/BatchNorm/moving_mean:0 from checkpoint /tmp/tfhub_modules/2febfc4e01f38d50fac8ac922d87e18391e34060/variables/variables with MobilenetV2/expanded_conv_10/depthwise/BatchNorm/moving_mean\n"
     ]
    },
    {
     "name": "stdout",
     "output_type": "stream",
     "text": [
      "INFO:tensorflow:Initialize variable module/MobilenetV2/expanded_conv_10/depthwise/BatchNorm/moving_variance:0 from checkpoint /tmp/tfhub_modules/2febfc4e01f38d50fac8ac922d87e18391e34060/variables/variables with MobilenetV2/expanded_conv_10/depthwise/BatchNorm/moving_variance\n"
     ]
    },
    {
     "name": "stderr",
     "output_type": "stream",
     "text": [
      "INFO:tensorflow:Initialize variable module/MobilenetV2/expanded_conv_10/depthwise/BatchNorm/moving_variance:0 from checkpoint /tmp/tfhub_modules/2febfc4e01f38d50fac8ac922d87e18391e34060/variables/variables with MobilenetV2/expanded_conv_10/depthwise/BatchNorm/moving_variance\n"
     ]
    },
    {
     "name": "stdout",
     "output_type": "stream",
     "text": [
      "INFO:tensorflow:Initialize variable module/MobilenetV2/expanded_conv_10/depthwise/depthwise_weights:0 from checkpoint /tmp/tfhub_modules/2febfc4e01f38d50fac8ac922d87e18391e34060/variables/variables with MobilenetV2/expanded_conv_10/depthwise/depthwise_weights\n"
     ]
    },
    {
     "name": "stderr",
     "output_type": "stream",
     "text": [
      "INFO:tensorflow:Initialize variable module/MobilenetV2/expanded_conv_10/depthwise/depthwise_weights:0 from checkpoint /tmp/tfhub_modules/2febfc4e01f38d50fac8ac922d87e18391e34060/variables/variables with MobilenetV2/expanded_conv_10/depthwise/depthwise_weights\n"
     ]
    },
    {
     "name": "stdout",
     "output_type": "stream",
     "text": [
      "INFO:tensorflow:Initialize variable module/MobilenetV2/expanded_conv_10/expand/BatchNorm/beta:0 from checkpoint /tmp/tfhub_modules/2febfc4e01f38d50fac8ac922d87e18391e34060/variables/variables with MobilenetV2/expanded_conv_10/expand/BatchNorm/beta\n"
     ]
    },
    {
     "name": "stderr",
     "output_type": "stream",
     "text": [
      "INFO:tensorflow:Initialize variable module/MobilenetV2/expanded_conv_10/expand/BatchNorm/beta:0 from checkpoint /tmp/tfhub_modules/2febfc4e01f38d50fac8ac922d87e18391e34060/variables/variables with MobilenetV2/expanded_conv_10/expand/BatchNorm/beta\n"
     ]
    },
    {
     "name": "stdout",
     "output_type": "stream",
     "text": [
      "INFO:tensorflow:Initialize variable module/MobilenetV2/expanded_conv_10/expand/BatchNorm/gamma:0 from checkpoint /tmp/tfhub_modules/2febfc4e01f38d50fac8ac922d87e18391e34060/variables/variables with MobilenetV2/expanded_conv_10/expand/BatchNorm/gamma\n"
     ]
    },
    {
     "name": "stderr",
     "output_type": "stream",
     "text": [
      "INFO:tensorflow:Initialize variable module/MobilenetV2/expanded_conv_10/expand/BatchNorm/gamma:0 from checkpoint /tmp/tfhub_modules/2febfc4e01f38d50fac8ac922d87e18391e34060/variables/variables with MobilenetV2/expanded_conv_10/expand/BatchNorm/gamma\n"
     ]
    },
    {
     "name": "stdout",
     "output_type": "stream",
     "text": [
      "INFO:tensorflow:Initialize variable module/MobilenetV2/expanded_conv_10/expand/BatchNorm/moving_mean:0 from checkpoint /tmp/tfhub_modules/2febfc4e01f38d50fac8ac922d87e18391e34060/variables/variables with MobilenetV2/expanded_conv_10/expand/BatchNorm/moving_mean\n"
     ]
    },
    {
     "name": "stderr",
     "output_type": "stream",
     "text": [
      "INFO:tensorflow:Initialize variable module/MobilenetV2/expanded_conv_10/expand/BatchNorm/moving_mean:0 from checkpoint /tmp/tfhub_modules/2febfc4e01f38d50fac8ac922d87e18391e34060/variables/variables with MobilenetV2/expanded_conv_10/expand/BatchNorm/moving_mean\n"
     ]
    },
    {
     "name": "stdout",
     "output_type": "stream",
     "text": [
      "INFO:tensorflow:Initialize variable module/MobilenetV2/expanded_conv_10/expand/BatchNorm/moving_variance:0 from checkpoint /tmp/tfhub_modules/2febfc4e01f38d50fac8ac922d87e18391e34060/variables/variables with MobilenetV2/expanded_conv_10/expand/BatchNorm/moving_variance\n"
     ]
    },
    {
     "name": "stderr",
     "output_type": "stream",
     "text": [
      "INFO:tensorflow:Initialize variable module/MobilenetV2/expanded_conv_10/expand/BatchNorm/moving_variance:0 from checkpoint /tmp/tfhub_modules/2febfc4e01f38d50fac8ac922d87e18391e34060/variables/variables with MobilenetV2/expanded_conv_10/expand/BatchNorm/moving_variance\n"
     ]
    },
    {
     "name": "stdout",
     "output_type": "stream",
     "text": [
      "INFO:tensorflow:Initialize variable module/MobilenetV2/expanded_conv_10/expand/weights:0 from checkpoint /tmp/tfhub_modules/2febfc4e01f38d50fac8ac922d87e18391e34060/variables/variables with MobilenetV2/expanded_conv_10/expand/weights\n"
     ]
    },
    {
     "name": "stderr",
     "output_type": "stream",
     "text": [
      "INFO:tensorflow:Initialize variable module/MobilenetV2/expanded_conv_10/expand/weights:0 from checkpoint /tmp/tfhub_modules/2febfc4e01f38d50fac8ac922d87e18391e34060/variables/variables with MobilenetV2/expanded_conv_10/expand/weights\n"
     ]
    },
    {
     "name": "stdout",
     "output_type": "stream",
     "text": [
      "INFO:tensorflow:Initialize variable module/MobilenetV2/expanded_conv_10/project/BatchNorm/beta:0 from checkpoint /tmp/tfhub_modules/2febfc4e01f38d50fac8ac922d87e18391e34060/variables/variables with MobilenetV2/expanded_conv_10/project/BatchNorm/beta\n"
     ]
    },
    {
     "name": "stderr",
     "output_type": "stream",
     "text": [
      "INFO:tensorflow:Initialize variable module/MobilenetV2/expanded_conv_10/project/BatchNorm/beta:0 from checkpoint /tmp/tfhub_modules/2febfc4e01f38d50fac8ac922d87e18391e34060/variables/variables with MobilenetV2/expanded_conv_10/project/BatchNorm/beta\n"
     ]
    },
    {
     "name": "stdout",
     "output_type": "stream",
     "text": [
      "INFO:tensorflow:Initialize variable module/MobilenetV2/expanded_conv_10/project/BatchNorm/gamma:0 from checkpoint /tmp/tfhub_modules/2febfc4e01f38d50fac8ac922d87e18391e34060/variables/variables with MobilenetV2/expanded_conv_10/project/BatchNorm/gamma\n"
     ]
    },
    {
     "name": "stderr",
     "output_type": "stream",
     "text": [
      "INFO:tensorflow:Initialize variable module/MobilenetV2/expanded_conv_10/project/BatchNorm/gamma:0 from checkpoint /tmp/tfhub_modules/2febfc4e01f38d50fac8ac922d87e18391e34060/variables/variables with MobilenetV2/expanded_conv_10/project/BatchNorm/gamma\n"
     ]
    },
    {
     "name": "stdout",
     "output_type": "stream",
     "text": [
      "INFO:tensorflow:Initialize variable module/MobilenetV2/expanded_conv_10/project/BatchNorm/moving_mean:0 from checkpoint /tmp/tfhub_modules/2febfc4e01f38d50fac8ac922d87e18391e34060/variables/variables with MobilenetV2/expanded_conv_10/project/BatchNorm/moving_mean\n"
     ]
    },
    {
     "name": "stderr",
     "output_type": "stream",
     "text": [
      "INFO:tensorflow:Initialize variable module/MobilenetV2/expanded_conv_10/project/BatchNorm/moving_mean:0 from checkpoint /tmp/tfhub_modules/2febfc4e01f38d50fac8ac922d87e18391e34060/variables/variables with MobilenetV2/expanded_conv_10/project/BatchNorm/moving_mean\n"
     ]
    },
    {
     "name": "stdout",
     "output_type": "stream",
     "text": [
      "INFO:tensorflow:Initialize variable module/MobilenetV2/expanded_conv_10/project/BatchNorm/moving_variance:0 from checkpoint /tmp/tfhub_modules/2febfc4e01f38d50fac8ac922d87e18391e34060/variables/variables with MobilenetV2/expanded_conv_10/project/BatchNorm/moving_variance\n"
     ]
    },
    {
     "name": "stderr",
     "output_type": "stream",
     "text": [
      "INFO:tensorflow:Initialize variable module/MobilenetV2/expanded_conv_10/project/BatchNorm/moving_variance:0 from checkpoint /tmp/tfhub_modules/2febfc4e01f38d50fac8ac922d87e18391e34060/variables/variables with MobilenetV2/expanded_conv_10/project/BatchNorm/moving_variance\n"
     ]
    },
    {
     "name": "stdout",
     "output_type": "stream",
     "text": [
      "INFO:tensorflow:Initialize variable module/MobilenetV2/expanded_conv_10/project/weights:0 from checkpoint /tmp/tfhub_modules/2febfc4e01f38d50fac8ac922d87e18391e34060/variables/variables with MobilenetV2/expanded_conv_10/project/weights\n"
     ]
    },
    {
     "name": "stderr",
     "output_type": "stream",
     "text": [
      "INFO:tensorflow:Initialize variable module/MobilenetV2/expanded_conv_10/project/weights:0 from checkpoint /tmp/tfhub_modules/2febfc4e01f38d50fac8ac922d87e18391e34060/variables/variables with MobilenetV2/expanded_conv_10/project/weights\n"
     ]
    },
    {
     "name": "stdout",
     "output_type": "stream",
     "text": [
      "INFO:tensorflow:Initialize variable module/MobilenetV2/expanded_conv_11/depthwise/BatchNorm/beta:0 from checkpoint /tmp/tfhub_modules/2febfc4e01f38d50fac8ac922d87e18391e34060/variables/variables with MobilenetV2/expanded_conv_11/depthwise/BatchNorm/beta\n"
     ]
    },
    {
     "name": "stderr",
     "output_type": "stream",
     "text": [
      "INFO:tensorflow:Initialize variable module/MobilenetV2/expanded_conv_11/depthwise/BatchNorm/beta:0 from checkpoint /tmp/tfhub_modules/2febfc4e01f38d50fac8ac922d87e18391e34060/variables/variables with MobilenetV2/expanded_conv_11/depthwise/BatchNorm/beta\n"
     ]
    },
    {
     "name": "stdout",
     "output_type": "stream",
     "text": [
      "INFO:tensorflow:Initialize variable module/MobilenetV2/expanded_conv_11/depthwise/BatchNorm/gamma:0 from checkpoint /tmp/tfhub_modules/2febfc4e01f38d50fac8ac922d87e18391e34060/variables/variables with MobilenetV2/expanded_conv_11/depthwise/BatchNorm/gamma\n"
     ]
    },
    {
     "name": "stderr",
     "output_type": "stream",
     "text": [
      "INFO:tensorflow:Initialize variable module/MobilenetV2/expanded_conv_11/depthwise/BatchNorm/gamma:0 from checkpoint /tmp/tfhub_modules/2febfc4e01f38d50fac8ac922d87e18391e34060/variables/variables with MobilenetV2/expanded_conv_11/depthwise/BatchNorm/gamma\n"
     ]
    },
    {
     "name": "stdout",
     "output_type": "stream",
     "text": [
      "INFO:tensorflow:Initialize variable module/MobilenetV2/expanded_conv_11/depthwise/BatchNorm/moving_mean:0 from checkpoint /tmp/tfhub_modules/2febfc4e01f38d50fac8ac922d87e18391e34060/variables/variables with MobilenetV2/expanded_conv_11/depthwise/BatchNorm/moving_mean\n"
     ]
    },
    {
     "name": "stderr",
     "output_type": "stream",
     "text": [
      "INFO:tensorflow:Initialize variable module/MobilenetV2/expanded_conv_11/depthwise/BatchNorm/moving_mean:0 from checkpoint /tmp/tfhub_modules/2febfc4e01f38d50fac8ac922d87e18391e34060/variables/variables with MobilenetV2/expanded_conv_11/depthwise/BatchNorm/moving_mean\n"
     ]
    },
    {
     "name": "stdout",
     "output_type": "stream",
     "text": [
      "INFO:tensorflow:Initialize variable module/MobilenetV2/expanded_conv_11/depthwise/BatchNorm/moving_variance:0 from checkpoint /tmp/tfhub_modules/2febfc4e01f38d50fac8ac922d87e18391e34060/variables/variables with MobilenetV2/expanded_conv_11/depthwise/BatchNorm/moving_variance\n"
     ]
    },
    {
     "name": "stderr",
     "output_type": "stream",
     "text": [
      "INFO:tensorflow:Initialize variable module/MobilenetV2/expanded_conv_11/depthwise/BatchNorm/moving_variance:0 from checkpoint /tmp/tfhub_modules/2febfc4e01f38d50fac8ac922d87e18391e34060/variables/variables with MobilenetV2/expanded_conv_11/depthwise/BatchNorm/moving_variance\n"
     ]
    },
    {
     "name": "stdout",
     "output_type": "stream",
     "text": [
      "INFO:tensorflow:Initialize variable module/MobilenetV2/expanded_conv_11/depthwise/depthwise_weights:0 from checkpoint /tmp/tfhub_modules/2febfc4e01f38d50fac8ac922d87e18391e34060/variables/variables with MobilenetV2/expanded_conv_11/depthwise/depthwise_weights\n"
     ]
    },
    {
     "name": "stderr",
     "output_type": "stream",
     "text": [
      "INFO:tensorflow:Initialize variable module/MobilenetV2/expanded_conv_11/depthwise/depthwise_weights:0 from checkpoint /tmp/tfhub_modules/2febfc4e01f38d50fac8ac922d87e18391e34060/variables/variables with MobilenetV2/expanded_conv_11/depthwise/depthwise_weights\n"
     ]
    },
    {
     "name": "stdout",
     "output_type": "stream",
     "text": [
      "INFO:tensorflow:Initialize variable module/MobilenetV2/expanded_conv_11/expand/BatchNorm/beta:0 from checkpoint /tmp/tfhub_modules/2febfc4e01f38d50fac8ac922d87e18391e34060/variables/variables with MobilenetV2/expanded_conv_11/expand/BatchNorm/beta\n"
     ]
    },
    {
     "name": "stderr",
     "output_type": "stream",
     "text": [
      "INFO:tensorflow:Initialize variable module/MobilenetV2/expanded_conv_11/expand/BatchNorm/beta:0 from checkpoint /tmp/tfhub_modules/2febfc4e01f38d50fac8ac922d87e18391e34060/variables/variables with MobilenetV2/expanded_conv_11/expand/BatchNorm/beta\n"
     ]
    },
    {
     "name": "stdout",
     "output_type": "stream",
     "text": [
      "INFO:tensorflow:Initialize variable module/MobilenetV2/expanded_conv_11/expand/BatchNorm/gamma:0 from checkpoint /tmp/tfhub_modules/2febfc4e01f38d50fac8ac922d87e18391e34060/variables/variables with MobilenetV2/expanded_conv_11/expand/BatchNorm/gamma\n"
     ]
    },
    {
     "name": "stderr",
     "output_type": "stream",
     "text": [
      "INFO:tensorflow:Initialize variable module/MobilenetV2/expanded_conv_11/expand/BatchNorm/gamma:0 from checkpoint /tmp/tfhub_modules/2febfc4e01f38d50fac8ac922d87e18391e34060/variables/variables with MobilenetV2/expanded_conv_11/expand/BatchNorm/gamma\n"
     ]
    },
    {
     "name": "stdout",
     "output_type": "stream",
     "text": [
      "INFO:tensorflow:Initialize variable module/MobilenetV2/expanded_conv_11/expand/BatchNorm/moving_mean:0 from checkpoint /tmp/tfhub_modules/2febfc4e01f38d50fac8ac922d87e18391e34060/variables/variables with MobilenetV2/expanded_conv_11/expand/BatchNorm/moving_mean\n"
     ]
    },
    {
     "name": "stderr",
     "output_type": "stream",
     "text": [
      "INFO:tensorflow:Initialize variable module/MobilenetV2/expanded_conv_11/expand/BatchNorm/moving_mean:0 from checkpoint /tmp/tfhub_modules/2febfc4e01f38d50fac8ac922d87e18391e34060/variables/variables with MobilenetV2/expanded_conv_11/expand/BatchNorm/moving_mean\n"
     ]
    },
    {
     "name": "stdout",
     "output_type": "stream",
     "text": [
      "INFO:tensorflow:Initialize variable module/MobilenetV2/expanded_conv_11/expand/BatchNorm/moving_variance:0 from checkpoint /tmp/tfhub_modules/2febfc4e01f38d50fac8ac922d87e18391e34060/variables/variables with MobilenetV2/expanded_conv_11/expand/BatchNorm/moving_variance\n"
     ]
    },
    {
     "name": "stderr",
     "output_type": "stream",
     "text": [
      "INFO:tensorflow:Initialize variable module/MobilenetV2/expanded_conv_11/expand/BatchNorm/moving_variance:0 from checkpoint /tmp/tfhub_modules/2febfc4e01f38d50fac8ac922d87e18391e34060/variables/variables with MobilenetV2/expanded_conv_11/expand/BatchNorm/moving_variance\n"
     ]
    },
    {
     "name": "stdout",
     "output_type": "stream",
     "text": [
      "INFO:tensorflow:Initialize variable module/MobilenetV2/expanded_conv_11/expand/weights:0 from checkpoint /tmp/tfhub_modules/2febfc4e01f38d50fac8ac922d87e18391e34060/variables/variables with MobilenetV2/expanded_conv_11/expand/weights\n"
     ]
    },
    {
     "name": "stderr",
     "output_type": "stream",
     "text": [
      "INFO:tensorflow:Initialize variable module/MobilenetV2/expanded_conv_11/expand/weights:0 from checkpoint /tmp/tfhub_modules/2febfc4e01f38d50fac8ac922d87e18391e34060/variables/variables with MobilenetV2/expanded_conv_11/expand/weights\n"
     ]
    },
    {
     "name": "stdout",
     "output_type": "stream",
     "text": [
      "INFO:tensorflow:Initialize variable module/MobilenetV2/expanded_conv_11/project/BatchNorm/beta:0 from checkpoint /tmp/tfhub_modules/2febfc4e01f38d50fac8ac922d87e18391e34060/variables/variables with MobilenetV2/expanded_conv_11/project/BatchNorm/beta\n"
     ]
    },
    {
     "name": "stderr",
     "output_type": "stream",
     "text": [
      "INFO:tensorflow:Initialize variable module/MobilenetV2/expanded_conv_11/project/BatchNorm/beta:0 from checkpoint /tmp/tfhub_modules/2febfc4e01f38d50fac8ac922d87e18391e34060/variables/variables with MobilenetV2/expanded_conv_11/project/BatchNorm/beta\n"
     ]
    },
    {
     "name": "stdout",
     "output_type": "stream",
     "text": [
      "INFO:tensorflow:Initialize variable module/MobilenetV2/expanded_conv_11/project/BatchNorm/gamma:0 from checkpoint /tmp/tfhub_modules/2febfc4e01f38d50fac8ac922d87e18391e34060/variables/variables with MobilenetV2/expanded_conv_11/project/BatchNorm/gamma\n"
     ]
    },
    {
     "name": "stderr",
     "output_type": "stream",
     "text": [
      "INFO:tensorflow:Initialize variable module/MobilenetV2/expanded_conv_11/project/BatchNorm/gamma:0 from checkpoint /tmp/tfhub_modules/2febfc4e01f38d50fac8ac922d87e18391e34060/variables/variables with MobilenetV2/expanded_conv_11/project/BatchNorm/gamma\n"
     ]
    },
    {
     "name": "stdout",
     "output_type": "stream",
     "text": [
      "INFO:tensorflow:Initialize variable module/MobilenetV2/expanded_conv_11/project/BatchNorm/moving_mean:0 from checkpoint /tmp/tfhub_modules/2febfc4e01f38d50fac8ac922d87e18391e34060/variables/variables with MobilenetV2/expanded_conv_11/project/BatchNorm/moving_mean\n"
     ]
    },
    {
     "name": "stderr",
     "output_type": "stream",
     "text": [
      "INFO:tensorflow:Initialize variable module/MobilenetV2/expanded_conv_11/project/BatchNorm/moving_mean:0 from checkpoint /tmp/tfhub_modules/2febfc4e01f38d50fac8ac922d87e18391e34060/variables/variables with MobilenetV2/expanded_conv_11/project/BatchNorm/moving_mean\n"
     ]
    },
    {
     "name": "stdout",
     "output_type": "stream",
     "text": [
      "INFO:tensorflow:Initialize variable module/MobilenetV2/expanded_conv_11/project/BatchNorm/moving_variance:0 from checkpoint /tmp/tfhub_modules/2febfc4e01f38d50fac8ac922d87e18391e34060/variables/variables with MobilenetV2/expanded_conv_11/project/BatchNorm/moving_variance\n"
     ]
    },
    {
     "name": "stderr",
     "output_type": "stream",
     "text": [
      "INFO:tensorflow:Initialize variable module/MobilenetV2/expanded_conv_11/project/BatchNorm/moving_variance:0 from checkpoint /tmp/tfhub_modules/2febfc4e01f38d50fac8ac922d87e18391e34060/variables/variables with MobilenetV2/expanded_conv_11/project/BatchNorm/moving_variance\n"
     ]
    },
    {
     "name": "stdout",
     "output_type": "stream",
     "text": [
      "INFO:tensorflow:Initialize variable module/MobilenetV2/expanded_conv_11/project/weights:0 from checkpoint /tmp/tfhub_modules/2febfc4e01f38d50fac8ac922d87e18391e34060/variables/variables with MobilenetV2/expanded_conv_11/project/weights\n"
     ]
    },
    {
     "name": "stderr",
     "output_type": "stream",
     "text": [
      "INFO:tensorflow:Initialize variable module/MobilenetV2/expanded_conv_11/project/weights:0 from checkpoint /tmp/tfhub_modules/2febfc4e01f38d50fac8ac922d87e18391e34060/variables/variables with MobilenetV2/expanded_conv_11/project/weights\n"
     ]
    },
    {
     "name": "stdout",
     "output_type": "stream",
     "text": [
      "INFO:tensorflow:Initialize variable module/MobilenetV2/expanded_conv_12/depthwise/BatchNorm/beta:0 from checkpoint /tmp/tfhub_modules/2febfc4e01f38d50fac8ac922d87e18391e34060/variables/variables with MobilenetV2/expanded_conv_12/depthwise/BatchNorm/beta\n"
     ]
    },
    {
     "name": "stderr",
     "output_type": "stream",
     "text": [
      "INFO:tensorflow:Initialize variable module/MobilenetV2/expanded_conv_12/depthwise/BatchNorm/beta:0 from checkpoint /tmp/tfhub_modules/2febfc4e01f38d50fac8ac922d87e18391e34060/variables/variables with MobilenetV2/expanded_conv_12/depthwise/BatchNorm/beta\n"
     ]
    },
    {
     "name": "stdout",
     "output_type": "stream",
     "text": [
      "INFO:tensorflow:Initialize variable module/MobilenetV2/expanded_conv_12/depthwise/BatchNorm/gamma:0 from checkpoint /tmp/tfhub_modules/2febfc4e01f38d50fac8ac922d87e18391e34060/variables/variables with MobilenetV2/expanded_conv_12/depthwise/BatchNorm/gamma\n"
     ]
    },
    {
     "name": "stderr",
     "output_type": "stream",
     "text": [
      "INFO:tensorflow:Initialize variable module/MobilenetV2/expanded_conv_12/depthwise/BatchNorm/gamma:0 from checkpoint /tmp/tfhub_modules/2febfc4e01f38d50fac8ac922d87e18391e34060/variables/variables with MobilenetV2/expanded_conv_12/depthwise/BatchNorm/gamma\n"
     ]
    },
    {
     "name": "stdout",
     "output_type": "stream",
     "text": [
      "INFO:tensorflow:Initialize variable module/MobilenetV2/expanded_conv_12/depthwise/BatchNorm/moving_mean:0 from checkpoint /tmp/tfhub_modules/2febfc4e01f38d50fac8ac922d87e18391e34060/variables/variables with MobilenetV2/expanded_conv_12/depthwise/BatchNorm/moving_mean\n"
     ]
    },
    {
     "name": "stderr",
     "output_type": "stream",
     "text": [
      "INFO:tensorflow:Initialize variable module/MobilenetV2/expanded_conv_12/depthwise/BatchNorm/moving_mean:0 from checkpoint /tmp/tfhub_modules/2febfc4e01f38d50fac8ac922d87e18391e34060/variables/variables with MobilenetV2/expanded_conv_12/depthwise/BatchNorm/moving_mean\n"
     ]
    },
    {
     "name": "stdout",
     "output_type": "stream",
     "text": [
      "INFO:tensorflow:Initialize variable module/MobilenetV2/expanded_conv_12/depthwise/BatchNorm/moving_variance:0 from checkpoint /tmp/tfhub_modules/2febfc4e01f38d50fac8ac922d87e18391e34060/variables/variables with MobilenetV2/expanded_conv_12/depthwise/BatchNorm/moving_variance\n"
     ]
    },
    {
     "name": "stderr",
     "output_type": "stream",
     "text": [
      "INFO:tensorflow:Initialize variable module/MobilenetV2/expanded_conv_12/depthwise/BatchNorm/moving_variance:0 from checkpoint /tmp/tfhub_modules/2febfc4e01f38d50fac8ac922d87e18391e34060/variables/variables with MobilenetV2/expanded_conv_12/depthwise/BatchNorm/moving_variance\n"
     ]
    },
    {
     "name": "stdout",
     "output_type": "stream",
     "text": [
      "INFO:tensorflow:Initialize variable module/MobilenetV2/expanded_conv_12/depthwise/depthwise_weights:0 from checkpoint /tmp/tfhub_modules/2febfc4e01f38d50fac8ac922d87e18391e34060/variables/variables with MobilenetV2/expanded_conv_12/depthwise/depthwise_weights\n"
     ]
    },
    {
     "name": "stderr",
     "output_type": "stream",
     "text": [
      "INFO:tensorflow:Initialize variable module/MobilenetV2/expanded_conv_12/depthwise/depthwise_weights:0 from checkpoint /tmp/tfhub_modules/2febfc4e01f38d50fac8ac922d87e18391e34060/variables/variables with MobilenetV2/expanded_conv_12/depthwise/depthwise_weights\n"
     ]
    },
    {
     "name": "stdout",
     "output_type": "stream",
     "text": [
      "INFO:tensorflow:Initialize variable module/MobilenetV2/expanded_conv_12/expand/BatchNorm/beta:0 from checkpoint /tmp/tfhub_modules/2febfc4e01f38d50fac8ac922d87e18391e34060/variables/variables with MobilenetV2/expanded_conv_12/expand/BatchNorm/beta\n"
     ]
    },
    {
     "name": "stderr",
     "output_type": "stream",
     "text": [
      "INFO:tensorflow:Initialize variable module/MobilenetV2/expanded_conv_12/expand/BatchNorm/beta:0 from checkpoint /tmp/tfhub_modules/2febfc4e01f38d50fac8ac922d87e18391e34060/variables/variables with MobilenetV2/expanded_conv_12/expand/BatchNorm/beta\n"
     ]
    },
    {
     "name": "stdout",
     "output_type": "stream",
     "text": [
      "INFO:tensorflow:Initialize variable module/MobilenetV2/expanded_conv_12/expand/BatchNorm/gamma:0 from checkpoint /tmp/tfhub_modules/2febfc4e01f38d50fac8ac922d87e18391e34060/variables/variables with MobilenetV2/expanded_conv_12/expand/BatchNorm/gamma\n"
     ]
    },
    {
     "name": "stderr",
     "output_type": "stream",
     "text": [
      "INFO:tensorflow:Initialize variable module/MobilenetV2/expanded_conv_12/expand/BatchNorm/gamma:0 from checkpoint /tmp/tfhub_modules/2febfc4e01f38d50fac8ac922d87e18391e34060/variables/variables with MobilenetV2/expanded_conv_12/expand/BatchNorm/gamma\n"
     ]
    },
    {
     "name": "stdout",
     "output_type": "stream",
     "text": [
      "INFO:tensorflow:Initialize variable module/MobilenetV2/expanded_conv_12/expand/BatchNorm/moving_mean:0 from checkpoint /tmp/tfhub_modules/2febfc4e01f38d50fac8ac922d87e18391e34060/variables/variables with MobilenetV2/expanded_conv_12/expand/BatchNorm/moving_mean\n"
     ]
    },
    {
     "name": "stderr",
     "output_type": "stream",
     "text": [
      "INFO:tensorflow:Initialize variable module/MobilenetV2/expanded_conv_12/expand/BatchNorm/moving_mean:0 from checkpoint /tmp/tfhub_modules/2febfc4e01f38d50fac8ac922d87e18391e34060/variables/variables with MobilenetV2/expanded_conv_12/expand/BatchNorm/moving_mean\n"
     ]
    },
    {
     "name": "stdout",
     "output_type": "stream",
     "text": [
      "INFO:tensorflow:Initialize variable module/MobilenetV2/expanded_conv_12/expand/BatchNorm/moving_variance:0 from checkpoint /tmp/tfhub_modules/2febfc4e01f38d50fac8ac922d87e18391e34060/variables/variables with MobilenetV2/expanded_conv_12/expand/BatchNorm/moving_variance\n"
     ]
    },
    {
     "name": "stderr",
     "output_type": "stream",
     "text": [
      "INFO:tensorflow:Initialize variable module/MobilenetV2/expanded_conv_12/expand/BatchNorm/moving_variance:0 from checkpoint /tmp/tfhub_modules/2febfc4e01f38d50fac8ac922d87e18391e34060/variables/variables with MobilenetV2/expanded_conv_12/expand/BatchNorm/moving_variance\n"
     ]
    },
    {
     "name": "stdout",
     "output_type": "stream",
     "text": [
      "INFO:tensorflow:Initialize variable module/MobilenetV2/expanded_conv_12/expand/weights:0 from checkpoint /tmp/tfhub_modules/2febfc4e01f38d50fac8ac922d87e18391e34060/variables/variables with MobilenetV2/expanded_conv_12/expand/weights\n"
     ]
    },
    {
     "name": "stderr",
     "output_type": "stream",
     "text": [
      "INFO:tensorflow:Initialize variable module/MobilenetV2/expanded_conv_12/expand/weights:0 from checkpoint /tmp/tfhub_modules/2febfc4e01f38d50fac8ac922d87e18391e34060/variables/variables with MobilenetV2/expanded_conv_12/expand/weights\n"
     ]
    },
    {
     "name": "stdout",
     "output_type": "stream",
     "text": [
      "INFO:tensorflow:Initialize variable module/MobilenetV2/expanded_conv_12/project/BatchNorm/beta:0 from checkpoint /tmp/tfhub_modules/2febfc4e01f38d50fac8ac922d87e18391e34060/variables/variables with MobilenetV2/expanded_conv_12/project/BatchNorm/beta\n"
     ]
    },
    {
     "name": "stderr",
     "output_type": "stream",
     "text": [
      "INFO:tensorflow:Initialize variable module/MobilenetV2/expanded_conv_12/project/BatchNorm/beta:0 from checkpoint /tmp/tfhub_modules/2febfc4e01f38d50fac8ac922d87e18391e34060/variables/variables with MobilenetV2/expanded_conv_12/project/BatchNorm/beta\n"
     ]
    },
    {
     "name": "stdout",
     "output_type": "stream",
     "text": [
      "INFO:tensorflow:Initialize variable module/MobilenetV2/expanded_conv_12/project/BatchNorm/gamma:0 from checkpoint /tmp/tfhub_modules/2febfc4e01f38d50fac8ac922d87e18391e34060/variables/variables with MobilenetV2/expanded_conv_12/project/BatchNorm/gamma\n"
     ]
    },
    {
     "name": "stderr",
     "output_type": "stream",
     "text": [
      "INFO:tensorflow:Initialize variable module/MobilenetV2/expanded_conv_12/project/BatchNorm/gamma:0 from checkpoint /tmp/tfhub_modules/2febfc4e01f38d50fac8ac922d87e18391e34060/variables/variables with MobilenetV2/expanded_conv_12/project/BatchNorm/gamma\n"
     ]
    },
    {
     "name": "stdout",
     "output_type": "stream",
     "text": [
      "INFO:tensorflow:Initialize variable module/MobilenetV2/expanded_conv_12/project/BatchNorm/moving_mean:0 from checkpoint /tmp/tfhub_modules/2febfc4e01f38d50fac8ac922d87e18391e34060/variables/variables with MobilenetV2/expanded_conv_12/project/BatchNorm/moving_mean\n"
     ]
    },
    {
     "name": "stderr",
     "output_type": "stream",
     "text": [
      "INFO:tensorflow:Initialize variable module/MobilenetV2/expanded_conv_12/project/BatchNorm/moving_mean:0 from checkpoint /tmp/tfhub_modules/2febfc4e01f38d50fac8ac922d87e18391e34060/variables/variables with MobilenetV2/expanded_conv_12/project/BatchNorm/moving_mean\n"
     ]
    },
    {
     "name": "stdout",
     "output_type": "stream",
     "text": [
      "INFO:tensorflow:Initialize variable module/MobilenetV2/expanded_conv_12/project/BatchNorm/moving_variance:0 from checkpoint /tmp/tfhub_modules/2febfc4e01f38d50fac8ac922d87e18391e34060/variables/variables with MobilenetV2/expanded_conv_12/project/BatchNorm/moving_variance\n"
     ]
    },
    {
     "name": "stderr",
     "output_type": "stream",
     "text": [
      "INFO:tensorflow:Initialize variable module/MobilenetV2/expanded_conv_12/project/BatchNorm/moving_variance:0 from checkpoint /tmp/tfhub_modules/2febfc4e01f38d50fac8ac922d87e18391e34060/variables/variables with MobilenetV2/expanded_conv_12/project/BatchNorm/moving_variance\n"
     ]
    },
    {
     "name": "stdout",
     "output_type": "stream",
     "text": [
      "INFO:tensorflow:Initialize variable module/MobilenetV2/expanded_conv_12/project/weights:0 from checkpoint /tmp/tfhub_modules/2febfc4e01f38d50fac8ac922d87e18391e34060/variables/variables with MobilenetV2/expanded_conv_12/project/weights\n"
     ]
    },
    {
     "name": "stderr",
     "output_type": "stream",
     "text": [
      "INFO:tensorflow:Initialize variable module/MobilenetV2/expanded_conv_12/project/weights:0 from checkpoint /tmp/tfhub_modules/2febfc4e01f38d50fac8ac922d87e18391e34060/variables/variables with MobilenetV2/expanded_conv_12/project/weights\n"
     ]
    },
    {
     "name": "stdout",
     "output_type": "stream",
     "text": [
      "INFO:tensorflow:Initialize variable module/MobilenetV2/expanded_conv_13/depthwise/BatchNorm/beta:0 from checkpoint /tmp/tfhub_modules/2febfc4e01f38d50fac8ac922d87e18391e34060/variables/variables with MobilenetV2/expanded_conv_13/depthwise/BatchNorm/beta\n"
     ]
    },
    {
     "name": "stderr",
     "output_type": "stream",
     "text": [
      "INFO:tensorflow:Initialize variable module/MobilenetV2/expanded_conv_13/depthwise/BatchNorm/beta:0 from checkpoint /tmp/tfhub_modules/2febfc4e01f38d50fac8ac922d87e18391e34060/variables/variables with MobilenetV2/expanded_conv_13/depthwise/BatchNorm/beta\n"
     ]
    },
    {
     "name": "stdout",
     "output_type": "stream",
     "text": [
      "INFO:tensorflow:Initialize variable module/MobilenetV2/expanded_conv_13/depthwise/BatchNorm/gamma:0 from checkpoint /tmp/tfhub_modules/2febfc4e01f38d50fac8ac922d87e18391e34060/variables/variables with MobilenetV2/expanded_conv_13/depthwise/BatchNorm/gamma\n"
     ]
    },
    {
     "name": "stderr",
     "output_type": "stream",
     "text": [
      "INFO:tensorflow:Initialize variable module/MobilenetV2/expanded_conv_13/depthwise/BatchNorm/gamma:0 from checkpoint /tmp/tfhub_modules/2febfc4e01f38d50fac8ac922d87e18391e34060/variables/variables with MobilenetV2/expanded_conv_13/depthwise/BatchNorm/gamma\n"
     ]
    },
    {
     "name": "stdout",
     "output_type": "stream",
     "text": [
      "INFO:tensorflow:Initialize variable module/MobilenetV2/expanded_conv_13/depthwise/BatchNorm/moving_mean:0 from checkpoint /tmp/tfhub_modules/2febfc4e01f38d50fac8ac922d87e18391e34060/variables/variables with MobilenetV2/expanded_conv_13/depthwise/BatchNorm/moving_mean\n"
     ]
    },
    {
     "name": "stderr",
     "output_type": "stream",
     "text": [
      "INFO:tensorflow:Initialize variable module/MobilenetV2/expanded_conv_13/depthwise/BatchNorm/moving_mean:0 from checkpoint /tmp/tfhub_modules/2febfc4e01f38d50fac8ac922d87e18391e34060/variables/variables with MobilenetV2/expanded_conv_13/depthwise/BatchNorm/moving_mean\n"
     ]
    },
    {
     "name": "stdout",
     "output_type": "stream",
     "text": [
      "INFO:tensorflow:Initialize variable module/MobilenetV2/expanded_conv_13/depthwise/BatchNorm/moving_variance:0 from checkpoint /tmp/tfhub_modules/2febfc4e01f38d50fac8ac922d87e18391e34060/variables/variables with MobilenetV2/expanded_conv_13/depthwise/BatchNorm/moving_variance\n"
     ]
    },
    {
     "name": "stderr",
     "output_type": "stream",
     "text": [
      "INFO:tensorflow:Initialize variable module/MobilenetV2/expanded_conv_13/depthwise/BatchNorm/moving_variance:0 from checkpoint /tmp/tfhub_modules/2febfc4e01f38d50fac8ac922d87e18391e34060/variables/variables with MobilenetV2/expanded_conv_13/depthwise/BatchNorm/moving_variance\n"
     ]
    },
    {
     "name": "stdout",
     "output_type": "stream",
     "text": [
      "INFO:tensorflow:Initialize variable module/MobilenetV2/expanded_conv_13/depthwise/depthwise_weights:0 from checkpoint /tmp/tfhub_modules/2febfc4e01f38d50fac8ac922d87e18391e34060/variables/variables with MobilenetV2/expanded_conv_13/depthwise/depthwise_weights\n"
     ]
    },
    {
     "name": "stderr",
     "output_type": "stream",
     "text": [
      "INFO:tensorflow:Initialize variable module/MobilenetV2/expanded_conv_13/depthwise/depthwise_weights:0 from checkpoint /tmp/tfhub_modules/2febfc4e01f38d50fac8ac922d87e18391e34060/variables/variables with MobilenetV2/expanded_conv_13/depthwise/depthwise_weights\n"
     ]
    },
    {
     "name": "stdout",
     "output_type": "stream",
     "text": [
      "INFO:tensorflow:Initialize variable module/MobilenetV2/expanded_conv_13/expand/BatchNorm/beta:0 from checkpoint /tmp/tfhub_modules/2febfc4e01f38d50fac8ac922d87e18391e34060/variables/variables with MobilenetV2/expanded_conv_13/expand/BatchNorm/beta\n"
     ]
    },
    {
     "name": "stderr",
     "output_type": "stream",
     "text": [
      "INFO:tensorflow:Initialize variable module/MobilenetV2/expanded_conv_13/expand/BatchNorm/beta:0 from checkpoint /tmp/tfhub_modules/2febfc4e01f38d50fac8ac922d87e18391e34060/variables/variables with MobilenetV2/expanded_conv_13/expand/BatchNorm/beta\n"
     ]
    },
    {
     "name": "stdout",
     "output_type": "stream",
     "text": [
      "INFO:tensorflow:Initialize variable module/MobilenetV2/expanded_conv_13/expand/BatchNorm/gamma:0 from checkpoint /tmp/tfhub_modules/2febfc4e01f38d50fac8ac922d87e18391e34060/variables/variables with MobilenetV2/expanded_conv_13/expand/BatchNorm/gamma\n"
     ]
    },
    {
     "name": "stderr",
     "output_type": "stream",
     "text": [
      "INFO:tensorflow:Initialize variable module/MobilenetV2/expanded_conv_13/expand/BatchNorm/gamma:0 from checkpoint /tmp/tfhub_modules/2febfc4e01f38d50fac8ac922d87e18391e34060/variables/variables with MobilenetV2/expanded_conv_13/expand/BatchNorm/gamma\n"
     ]
    },
    {
     "name": "stdout",
     "output_type": "stream",
     "text": [
      "INFO:tensorflow:Initialize variable module/MobilenetV2/expanded_conv_13/expand/BatchNorm/moving_mean:0 from checkpoint /tmp/tfhub_modules/2febfc4e01f38d50fac8ac922d87e18391e34060/variables/variables with MobilenetV2/expanded_conv_13/expand/BatchNorm/moving_mean\n"
     ]
    },
    {
     "name": "stderr",
     "output_type": "stream",
     "text": [
      "INFO:tensorflow:Initialize variable module/MobilenetV2/expanded_conv_13/expand/BatchNorm/moving_mean:0 from checkpoint /tmp/tfhub_modules/2febfc4e01f38d50fac8ac922d87e18391e34060/variables/variables with MobilenetV2/expanded_conv_13/expand/BatchNorm/moving_mean\n"
     ]
    },
    {
     "name": "stdout",
     "output_type": "stream",
     "text": [
      "INFO:tensorflow:Initialize variable module/MobilenetV2/expanded_conv_13/expand/BatchNorm/moving_variance:0 from checkpoint /tmp/tfhub_modules/2febfc4e01f38d50fac8ac922d87e18391e34060/variables/variables with MobilenetV2/expanded_conv_13/expand/BatchNorm/moving_variance\n"
     ]
    },
    {
     "name": "stderr",
     "output_type": "stream",
     "text": [
      "INFO:tensorflow:Initialize variable module/MobilenetV2/expanded_conv_13/expand/BatchNorm/moving_variance:0 from checkpoint /tmp/tfhub_modules/2febfc4e01f38d50fac8ac922d87e18391e34060/variables/variables with MobilenetV2/expanded_conv_13/expand/BatchNorm/moving_variance\n"
     ]
    },
    {
     "name": "stdout",
     "output_type": "stream",
     "text": [
      "INFO:tensorflow:Initialize variable module/MobilenetV2/expanded_conv_13/expand/weights:0 from checkpoint /tmp/tfhub_modules/2febfc4e01f38d50fac8ac922d87e18391e34060/variables/variables with MobilenetV2/expanded_conv_13/expand/weights\n"
     ]
    },
    {
     "name": "stderr",
     "output_type": "stream",
     "text": [
      "INFO:tensorflow:Initialize variable module/MobilenetV2/expanded_conv_13/expand/weights:0 from checkpoint /tmp/tfhub_modules/2febfc4e01f38d50fac8ac922d87e18391e34060/variables/variables with MobilenetV2/expanded_conv_13/expand/weights\n"
     ]
    },
    {
     "name": "stdout",
     "output_type": "stream",
     "text": [
      "INFO:tensorflow:Initialize variable module/MobilenetV2/expanded_conv_13/project/BatchNorm/beta:0 from checkpoint /tmp/tfhub_modules/2febfc4e01f38d50fac8ac922d87e18391e34060/variables/variables with MobilenetV2/expanded_conv_13/project/BatchNorm/beta\n"
     ]
    },
    {
     "name": "stderr",
     "output_type": "stream",
     "text": [
      "INFO:tensorflow:Initialize variable module/MobilenetV2/expanded_conv_13/project/BatchNorm/beta:0 from checkpoint /tmp/tfhub_modules/2febfc4e01f38d50fac8ac922d87e18391e34060/variables/variables with MobilenetV2/expanded_conv_13/project/BatchNorm/beta\n"
     ]
    },
    {
     "name": "stdout",
     "output_type": "stream",
     "text": [
      "INFO:tensorflow:Initialize variable module/MobilenetV2/expanded_conv_13/project/BatchNorm/gamma:0 from checkpoint /tmp/tfhub_modules/2febfc4e01f38d50fac8ac922d87e18391e34060/variables/variables with MobilenetV2/expanded_conv_13/project/BatchNorm/gamma\n"
     ]
    },
    {
     "name": "stderr",
     "output_type": "stream",
     "text": [
      "INFO:tensorflow:Initialize variable module/MobilenetV2/expanded_conv_13/project/BatchNorm/gamma:0 from checkpoint /tmp/tfhub_modules/2febfc4e01f38d50fac8ac922d87e18391e34060/variables/variables with MobilenetV2/expanded_conv_13/project/BatchNorm/gamma\n"
     ]
    },
    {
     "name": "stdout",
     "output_type": "stream",
     "text": [
      "INFO:tensorflow:Initialize variable module/MobilenetV2/expanded_conv_13/project/BatchNorm/moving_mean:0 from checkpoint /tmp/tfhub_modules/2febfc4e01f38d50fac8ac922d87e18391e34060/variables/variables with MobilenetV2/expanded_conv_13/project/BatchNorm/moving_mean\n"
     ]
    },
    {
     "name": "stderr",
     "output_type": "stream",
     "text": [
      "INFO:tensorflow:Initialize variable module/MobilenetV2/expanded_conv_13/project/BatchNorm/moving_mean:0 from checkpoint /tmp/tfhub_modules/2febfc4e01f38d50fac8ac922d87e18391e34060/variables/variables with MobilenetV2/expanded_conv_13/project/BatchNorm/moving_mean\n"
     ]
    },
    {
     "name": "stdout",
     "output_type": "stream",
     "text": [
      "INFO:tensorflow:Initialize variable module/MobilenetV2/expanded_conv_13/project/BatchNorm/moving_variance:0 from checkpoint /tmp/tfhub_modules/2febfc4e01f38d50fac8ac922d87e18391e34060/variables/variables with MobilenetV2/expanded_conv_13/project/BatchNorm/moving_variance\n"
     ]
    },
    {
     "name": "stderr",
     "output_type": "stream",
     "text": [
      "INFO:tensorflow:Initialize variable module/MobilenetV2/expanded_conv_13/project/BatchNorm/moving_variance:0 from checkpoint /tmp/tfhub_modules/2febfc4e01f38d50fac8ac922d87e18391e34060/variables/variables with MobilenetV2/expanded_conv_13/project/BatchNorm/moving_variance\n"
     ]
    },
    {
     "name": "stdout",
     "output_type": "stream",
     "text": [
      "INFO:tensorflow:Initialize variable module/MobilenetV2/expanded_conv_13/project/weights:0 from checkpoint /tmp/tfhub_modules/2febfc4e01f38d50fac8ac922d87e18391e34060/variables/variables with MobilenetV2/expanded_conv_13/project/weights\n"
     ]
    },
    {
     "name": "stderr",
     "output_type": "stream",
     "text": [
      "INFO:tensorflow:Initialize variable module/MobilenetV2/expanded_conv_13/project/weights:0 from checkpoint /tmp/tfhub_modules/2febfc4e01f38d50fac8ac922d87e18391e34060/variables/variables with MobilenetV2/expanded_conv_13/project/weights\n"
     ]
    },
    {
     "name": "stdout",
     "output_type": "stream",
     "text": [
      "INFO:tensorflow:Initialize variable module/MobilenetV2/expanded_conv_14/depthwise/BatchNorm/beta:0 from checkpoint /tmp/tfhub_modules/2febfc4e01f38d50fac8ac922d87e18391e34060/variables/variables with MobilenetV2/expanded_conv_14/depthwise/BatchNorm/beta\n"
     ]
    },
    {
     "name": "stderr",
     "output_type": "stream",
     "text": [
      "INFO:tensorflow:Initialize variable module/MobilenetV2/expanded_conv_14/depthwise/BatchNorm/beta:0 from checkpoint /tmp/tfhub_modules/2febfc4e01f38d50fac8ac922d87e18391e34060/variables/variables with MobilenetV2/expanded_conv_14/depthwise/BatchNorm/beta\n"
     ]
    },
    {
     "name": "stdout",
     "output_type": "stream",
     "text": [
      "INFO:tensorflow:Initialize variable module/MobilenetV2/expanded_conv_14/depthwise/BatchNorm/gamma:0 from checkpoint /tmp/tfhub_modules/2febfc4e01f38d50fac8ac922d87e18391e34060/variables/variables with MobilenetV2/expanded_conv_14/depthwise/BatchNorm/gamma\n"
     ]
    },
    {
     "name": "stderr",
     "output_type": "stream",
     "text": [
      "INFO:tensorflow:Initialize variable module/MobilenetV2/expanded_conv_14/depthwise/BatchNorm/gamma:0 from checkpoint /tmp/tfhub_modules/2febfc4e01f38d50fac8ac922d87e18391e34060/variables/variables with MobilenetV2/expanded_conv_14/depthwise/BatchNorm/gamma\n"
     ]
    },
    {
     "name": "stdout",
     "output_type": "stream",
     "text": [
      "INFO:tensorflow:Initialize variable module/MobilenetV2/expanded_conv_14/depthwise/BatchNorm/moving_mean:0 from checkpoint /tmp/tfhub_modules/2febfc4e01f38d50fac8ac922d87e18391e34060/variables/variables with MobilenetV2/expanded_conv_14/depthwise/BatchNorm/moving_mean\n"
     ]
    },
    {
     "name": "stderr",
     "output_type": "stream",
     "text": [
      "INFO:tensorflow:Initialize variable module/MobilenetV2/expanded_conv_14/depthwise/BatchNorm/moving_mean:0 from checkpoint /tmp/tfhub_modules/2febfc4e01f38d50fac8ac922d87e18391e34060/variables/variables with MobilenetV2/expanded_conv_14/depthwise/BatchNorm/moving_mean\n"
     ]
    },
    {
     "name": "stdout",
     "output_type": "stream",
     "text": [
      "INFO:tensorflow:Initialize variable module/MobilenetV2/expanded_conv_14/depthwise/BatchNorm/moving_variance:0 from checkpoint /tmp/tfhub_modules/2febfc4e01f38d50fac8ac922d87e18391e34060/variables/variables with MobilenetV2/expanded_conv_14/depthwise/BatchNorm/moving_variance\n"
     ]
    },
    {
     "name": "stderr",
     "output_type": "stream",
     "text": [
      "INFO:tensorflow:Initialize variable module/MobilenetV2/expanded_conv_14/depthwise/BatchNorm/moving_variance:0 from checkpoint /tmp/tfhub_modules/2febfc4e01f38d50fac8ac922d87e18391e34060/variables/variables with MobilenetV2/expanded_conv_14/depthwise/BatchNorm/moving_variance\n"
     ]
    },
    {
     "name": "stdout",
     "output_type": "stream",
     "text": [
      "INFO:tensorflow:Initialize variable module/MobilenetV2/expanded_conv_14/depthwise/depthwise_weights:0 from checkpoint /tmp/tfhub_modules/2febfc4e01f38d50fac8ac922d87e18391e34060/variables/variables with MobilenetV2/expanded_conv_14/depthwise/depthwise_weights\n"
     ]
    },
    {
     "name": "stderr",
     "output_type": "stream",
     "text": [
      "INFO:tensorflow:Initialize variable module/MobilenetV2/expanded_conv_14/depthwise/depthwise_weights:0 from checkpoint /tmp/tfhub_modules/2febfc4e01f38d50fac8ac922d87e18391e34060/variables/variables with MobilenetV2/expanded_conv_14/depthwise/depthwise_weights\n"
     ]
    },
    {
     "name": "stdout",
     "output_type": "stream",
     "text": [
      "INFO:tensorflow:Initialize variable module/MobilenetV2/expanded_conv_14/expand/BatchNorm/beta:0 from checkpoint /tmp/tfhub_modules/2febfc4e01f38d50fac8ac922d87e18391e34060/variables/variables with MobilenetV2/expanded_conv_14/expand/BatchNorm/beta\n"
     ]
    },
    {
     "name": "stderr",
     "output_type": "stream",
     "text": [
      "INFO:tensorflow:Initialize variable module/MobilenetV2/expanded_conv_14/expand/BatchNorm/beta:0 from checkpoint /tmp/tfhub_modules/2febfc4e01f38d50fac8ac922d87e18391e34060/variables/variables with MobilenetV2/expanded_conv_14/expand/BatchNorm/beta\n"
     ]
    },
    {
     "name": "stdout",
     "output_type": "stream",
     "text": [
      "INFO:tensorflow:Initialize variable module/MobilenetV2/expanded_conv_14/expand/BatchNorm/gamma:0 from checkpoint /tmp/tfhub_modules/2febfc4e01f38d50fac8ac922d87e18391e34060/variables/variables with MobilenetV2/expanded_conv_14/expand/BatchNorm/gamma\n"
     ]
    },
    {
     "name": "stderr",
     "output_type": "stream",
     "text": [
      "INFO:tensorflow:Initialize variable module/MobilenetV2/expanded_conv_14/expand/BatchNorm/gamma:0 from checkpoint /tmp/tfhub_modules/2febfc4e01f38d50fac8ac922d87e18391e34060/variables/variables with MobilenetV2/expanded_conv_14/expand/BatchNorm/gamma\n"
     ]
    },
    {
     "name": "stdout",
     "output_type": "stream",
     "text": [
      "INFO:tensorflow:Initialize variable module/MobilenetV2/expanded_conv_14/expand/BatchNorm/moving_mean:0 from checkpoint /tmp/tfhub_modules/2febfc4e01f38d50fac8ac922d87e18391e34060/variables/variables with MobilenetV2/expanded_conv_14/expand/BatchNorm/moving_mean\n"
     ]
    },
    {
     "name": "stderr",
     "output_type": "stream",
     "text": [
      "INFO:tensorflow:Initialize variable module/MobilenetV2/expanded_conv_14/expand/BatchNorm/moving_mean:0 from checkpoint /tmp/tfhub_modules/2febfc4e01f38d50fac8ac922d87e18391e34060/variables/variables with MobilenetV2/expanded_conv_14/expand/BatchNorm/moving_mean\n"
     ]
    },
    {
     "name": "stdout",
     "output_type": "stream",
     "text": [
      "INFO:tensorflow:Initialize variable module/MobilenetV2/expanded_conv_14/expand/BatchNorm/moving_variance:0 from checkpoint /tmp/tfhub_modules/2febfc4e01f38d50fac8ac922d87e18391e34060/variables/variables with MobilenetV2/expanded_conv_14/expand/BatchNorm/moving_variance\n"
     ]
    },
    {
     "name": "stderr",
     "output_type": "stream",
     "text": [
      "INFO:tensorflow:Initialize variable module/MobilenetV2/expanded_conv_14/expand/BatchNorm/moving_variance:0 from checkpoint /tmp/tfhub_modules/2febfc4e01f38d50fac8ac922d87e18391e34060/variables/variables with MobilenetV2/expanded_conv_14/expand/BatchNorm/moving_variance\n"
     ]
    },
    {
     "name": "stdout",
     "output_type": "stream",
     "text": [
      "INFO:tensorflow:Initialize variable module/MobilenetV2/expanded_conv_14/expand/weights:0 from checkpoint /tmp/tfhub_modules/2febfc4e01f38d50fac8ac922d87e18391e34060/variables/variables with MobilenetV2/expanded_conv_14/expand/weights\n"
     ]
    },
    {
     "name": "stderr",
     "output_type": "stream",
     "text": [
      "INFO:tensorflow:Initialize variable module/MobilenetV2/expanded_conv_14/expand/weights:0 from checkpoint /tmp/tfhub_modules/2febfc4e01f38d50fac8ac922d87e18391e34060/variables/variables with MobilenetV2/expanded_conv_14/expand/weights\n"
     ]
    },
    {
     "name": "stdout",
     "output_type": "stream",
     "text": [
      "INFO:tensorflow:Initialize variable module/MobilenetV2/expanded_conv_14/project/BatchNorm/beta:0 from checkpoint /tmp/tfhub_modules/2febfc4e01f38d50fac8ac922d87e18391e34060/variables/variables with MobilenetV2/expanded_conv_14/project/BatchNorm/beta\n"
     ]
    },
    {
     "name": "stderr",
     "output_type": "stream",
     "text": [
      "INFO:tensorflow:Initialize variable module/MobilenetV2/expanded_conv_14/project/BatchNorm/beta:0 from checkpoint /tmp/tfhub_modules/2febfc4e01f38d50fac8ac922d87e18391e34060/variables/variables with MobilenetV2/expanded_conv_14/project/BatchNorm/beta\n"
     ]
    },
    {
     "name": "stdout",
     "output_type": "stream",
     "text": [
      "INFO:tensorflow:Initialize variable module/MobilenetV2/expanded_conv_14/project/BatchNorm/gamma:0 from checkpoint /tmp/tfhub_modules/2febfc4e01f38d50fac8ac922d87e18391e34060/variables/variables with MobilenetV2/expanded_conv_14/project/BatchNorm/gamma\n"
     ]
    },
    {
     "name": "stderr",
     "output_type": "stream",
     "text": [
      "INFO:tensorflow:Initialize variable module/MobilenetV2/expanded_conv_14/project/BatchNorm/gamma:0 from checkpoint /tmp/tfhub_modules/2febfc4e01f38d50fac8ac922d87e18391e34060/variables/variables with MobilenetV2/expanded_conv_14/project/BatchNorm/gamma\n"
     ]
    },
    {
     "name": "stdout",
     "output_type": "stream",
     "text": [
      "INFO:tensorflow:Initialize variable module/MobilenetV2/expanded_conv_14/project/BatchNorm/moving_mean:0 from checkpoint /tmp/tfhub_modules/2febfc4e01f38d50fac8ac922d87e18391e34060/variables/variables with MobilenetV2/expanded_conv_14/project/BatchNorm/moving_mean\n"
     ]
    },
    {
     "name": "stderr",
     "output_type": "stream",
     "text": [
      "INFO:tensorflow:Initialize variable module/MobilenetV2/expanded_conv_14/project/BatchNorm/moving_mean:0 from checkpoint /tmp/tfhub_modules/2febfc4e01f38d50fac8ac922d87e18391e34060/variables/variables with MobilenetV2/expanded_conv_14/project/BatchNorm/moving_mean\n"
     ]
    },
    {
     "name": "stdout",
     "output_type": "stream",
     "text": [
      "INFO:tensorflow:Initialize variable module/MobilenetV2/expanded_conv_14/project/BatchNorm/moving_variance:0 from checkpoint /tmp/tfhub_modules/2febfc4e01f38d50fac8ac922d87e18391e34060/variables/variables with MobilenetV2/expanded_conv_14/project/BatchNorm/moving_variance\n"
     ]
    },
    {
     "name": "stderr",
     "output_type": "stream",
     "text": [
      "INFO:tensorflow:Initialize variable module/MobilenetV2/expanded_conv_14/project/BatchNorm/moving_variance:0 from checkpoint /tmp/tfhub_modules/2febfc4e01f38d50fac8ac922d87e18391e34060/variables/variables with MobilenetV2/expanded_conv_14/project/BatchNorm/moving_variance\n"
     ]
    },
    {
     "name": "stdout",
     "output_type": "stream",
     "text": [
      "INFO:tensorflow:Initialize variable module/MobilenetV2/expanded_conv_14/project/weights:0 from checkpoint /tmp/tfhub_modules/2febfc4e01f38d50fac8ac922d87e18391e34060/variables/variables with MobilenetV2/expanded_conv_14/project/weights\n"
     ]
    },
    {
     "name": "stderr",
     "output_type": "stream",
     "text": [
      "INFO:tensorflow:Initialize variable module/MobilenetV2/expanded_conv_14/project/weights:0 from checkpoint /tmp/tfhub_modules/2febfc4e01f38d50fac8ac922d87e18391e34060/variables/variables with MobilenetV2/expanded_conv_14/project/weights\n"
     ]
    },
    {
     "name": "stdout",
     "output_type": "stream",
     "text": [
      "INFO:tensorflow:Initialize variable module/MobilenetV2/expanded_conv_15/depthwise/BatchNorm/beta:0 from checkpoint /tmp/tfhub_modules/2febfc4e01f38d50fac8ac922d87e18391e34060/variables/variables with MobilenetV2/expanded_conv_15/depthwise/BatchNorm/beta\n"
     ]
    },
    {
     "name": "stderr",
     "output_type": "stream",
     "text": [
      "INFO:tensorflow:Initialize variable module/MobilenetV2/expanded_conv_15/depthwise/BatchNorm/beta:0 from checkpoint /tmp/tfhub_modules/2febfc4e01f38d50fac8ac922d87e18391e34060/variables/variables with MobilenetV2/expanded_conv_15/depthwise/BatchNorm/beta\n"
     ]
    },
    {
     "name": "stdout",
     "output_type": "stream",
     "text": [
      "INFO:tensorflow:Initialize variable module/MobilenetV2/expanded_conv_15/depthwise/BatchNorm/gamma:0 from checkpoint /tmp/tfhub_modules/2febfc4e01f38d50fac8ac922d87e18391e34060/variables/variables with MobilenetV2/expanded_conv_15/depthwise/BatchNorm/gamma\n"
     ]
    },
    {
     "name": "stderr",
     "output_type": "stream",
     "text": [
      "INFO:tensorflow:Initialize variable module/MobilenetV2/expanded_conv_15/depthwise/BatchNorm/gamma:0 from checkpoint /tmp/tfhub_modules/2febfc4e01f38d50fac8ac922d87e18391e34060/variables/variables with MobilenetV2/expanded_conv_15/depthwise/BatchNorm/gamma\n"
     ]
    },
    {
     "name": "stdout",
     "output_type": "stream",
     "text": [
      "INFO:tensorflow:Initialize variable module/MobilenetV2/expanded_conv_15/depthwise/BatchNorm/moving_mean:0 from checkpoint /tmp/tfhub_modules/2febfc4e01f38d50fac8ac922d87e18391e34060/variables/variables with MobilenetV2/expanded_conv_15/depthwise/BatchNorm/moving_mean\n"
     ]
    },
    {
     "name": "stderr",
     "output_type": "stream",
     "text": [
      "INFO:tensorflow:Initialize variable module/MobilenetV2/expanded_conv_15/depthwise/BatchNorm/moving_mean:0 from checkpoint /tmp/tfhub_modules/2febfc4e01f38d50fac8ac922d87e18391e34060/variables/variables with MobilenetV2/expanded_conv_15/depthwise/BatchNorm/moving_mean\n"
     ]
    },
    {
     "name": "stdout",
     "output_type": "stream",
     "text": [
      "INFO:tensorflow:Initialize variable module/MobilenetV2/expanded_conv_15/depthwise/BatchNorm/moving_variance:0 from checkpoint /tmp/tfhub_modules/2febfc4e01f38d50fac8ac922d87e18391e34060/variables/variables with MobilenetV2/expanded_conv_15/depthwise/BatchNorm/moving_variance\n"
     ]
    },
    {
     "name": "stderr",
     "output_type": "stream",
     "text": [
      "INFO:tensorflow:Initialize variable module/MobilenetV2/expanded_conv_15/depthwise/BatchNorm/moving_variance:0 from checkpoint /tmp/tfhub_modules/2febfc4e01f38d50fac8ac922d87e18391e34060/variables/variables with MobilenetV2/expanded_conv_15/depthwise/BatchNorm/moving_variance\n"
     ]
    },
    {
     "name": "stdout",
     "output_type": "stream",
     "text": [
      "INFO:tensorflow:Initialize variable module/MobilenetV2/expanded_conv_15/depthwise/depthwise_weights:0 from checkpoint /tmp/tfhub_modules/2febfc4e01f38d50fac8ac922d87e18391e34060/variables/variables with MobilenetV2/expanded_conv_15/depthwise/depthwise_weights\n"
     ]
    },
    {
     "name": "stderr",
     "output_type": "stream",
     "text": [
      "INFO:tensorflow:Initialize variable module/MobilenetV2/expanded_conv_15/depthwise/depthwise_weights:0 from checkpoint /tmp/tfhub_modules/2febfc4e01f38d50fac8ac922d87e18391e34060/variables/variables with MobilenetV2/expanded_conv_15/depthwise/depthwise_weights\n"
     ]
    },
    {
     "name": "stdout",
     "output_type": "stream",
     "text": [
      "INFO:tensorflow:Initialize variable module/MobilenetV2/expanded_conv_15/expand/BatchNorm/beta:0 from checkpoint /tmp/tfhub_modules/2febfc4e01f38d50fac8ac922d87e18391e34060/variables/variables with MobilenetV2/expanded_conv_15/expand/BatchNorm/beta\n"
     ]
    },
    {
     "name": "stderr",
     "output_type": "stream",
     "text": [
      "INFO:tensorflow:Initialize variable module/MobilenetV2/expanded_conv_15/expand/BatchNorm/beta:0 from checkpoint /tmp/tfhub_modules/2febfc4e01f38d50fac8ac922d87e18391e34060/variables/variables with MobilenetV2/expanded_conv_15/expand/BatchNorm/beta\n"
     ]
    },
    {
     "name": "stdout",
     "output_type": "stream",
     "text": [
      "INFO:tensorflow:Initialize variable module/MobilenetV2/expanded_conv_15/expand/BatchNorm/gamma:0 from checkpoint /tmp/tfhub_modules/2febfc4e01f38d50fac8ac922d87e18391e34060/variables/variables with MobilenetV2/expanded_conv_15/expand/BatchNorm/gamma\n"
     ]
    },
    {
     "name": "stderr",
     "output_type": "stream",
     "text": [
      "INFO:tensorflow:Initialize variable module/MobilenetV2/expanded_conv_15/expand/BatchNorm/gamma:0 from checkpoint /tmp/tfhub_modules/2febfc4e01f38d50fac8ac922d87e18391e34060/variables/variables with MobilenetV2/expanded_conv_15/expand/BatchNorm/gamma\n"
     ]
    },
    {
     "name": "stdout",
     "output_type": "stream",
     "text": [
      "INFO:tensorflow:Initialize variable module/MobilenetV2/expanded_conv_15/expand/BatchNorm/moving_mean:0 from checkpoint /tmp/tfhub_modules/2febfc4e01f38d50fac8ac922d87e18391e34060/variables/variables with MobilenetV2/expanded_conv_15/expand/BatchNorm/moving_mean\n"
     ]
    },
    {
     "name": "stderr",
     "output_type": "stream",
     "text": [
      "INFO:tensorflow:Initialize variable module/MobilenetV2/expanded_conv_15/expand/BatchNorm/moving_mean:0 from checkpoint /tmp/tfhub_modules/2febfc4e01f38d50fac8ac922d87e18391e34060/variables/variables with MobilenetV2/expanded_conv_15/expand/BatchNorm/moving_mean\n"
     ]
    },
    {
     "name": "stdout",
     "output_type": "stream",
     "text": [
      "INFO:tensorflow:Initialize variable module/MobilenetV2/expanded_conv_15/expand/BatchNorm/moving_variance:0 from checkpoint /tmp/tfhub_modules/2febfc4e01f38d50fac8ac922d87e18391e34060/variables/variables with MobilenetV2/expanded_conv_15/expand/BatchNorm/moving_variance\n"
     ]
    },
    {
     "name": "stderr",
     "output_type": "stream",
     "text": [
      "INFO:tensorflow:Initialize variable module/MobilenetV2/expanded_conv_15/expand/BatchNorm/moving_variance:0 from checkpoint /tmp/tfhub_modules/2febfc4e01f38d50fac8ac922d87e18391e34060/variables/variables with MobilenetV2/expanded_conv_15/expand/BatchNorm/moving_variance\n"
     ]
    },
    {
     "name": "stdout",
     "output_type": "stream",
     "text": [
      "INFO:tensorflow:Initialize variable module/MobilenetV2/expanded_conv_15/expand/weights:0 from checkpoint /tmp/tfhub_modules/2febfc4e01f38d50fac8ac922d87e18391e34060/variables/variables with MobilenetV2/expanded_conv_15/expand/weights\n"
     ]
    },
    {
     "name": "stderr",
     "output_type": "stream",
     "text": [
      "INFO:tensorflow:Initialize variable module/MobilenetV2/expanded_conv_15/expand/weights:0 from checkpoint /tmp/tfhub_modules/2febfc4e01f38d50fac8ac922d87e18391e34060/variables/variables with MobilenetV2/expanded_conv_15/expand/weights\n"
     ]
    },
    {
     "name": "stdout",
     "output_type": "stream",
     "text": [
      "INFO:tensorflow:Initialize variable module/MobilenetV2/expanded_conv_15/project/BatchNorm/beta:0 from checkpoint /tmp/tfhub_modules/2febfc4e01f38d50fac8ac922d87e18391e34060/variables/variables with MobilenetV2/expanded_conv_15/project/BatchNorm/beta\n"
     ]
    },
    {
     "name": "stderr",
     "output_type": "stream",
     "text": [
      "INFO:tensorflow:Initialize variable module/MobilenetV2/expanded_conv_15/project/BatchNorm/beta:0 from checkpoint /tmp/tfhub_modules/2febfc4e01f38d50fac8ac922d87e18391e34060/variables/variables with MobilenetV2/expanded_conv_15/project/BatchNorm/beta\n"
     ]
    },
    {
     "name": "stdout",
     "output_type": "stream",
     "text": [
      "INFO:tensorflow:Initialize variable module/MobilenetV2/expanded_conv_15/project/BatchNorm/gamma:0 from checkpoint /tmp/tfhub_modules/2febfc4e01f38d50fac8ac922d87e18391e34060/variables/variables with MobilenetV2/expanded_conv_15/project/BatchNorm/gamma\n"
     ]
    },
    {
     "name": "stderr",
     "output_type": "stream",
     "text": [
      "INFO:tensorflow:Initialize variable module/MobilenetV2/expanded_conv_15/project/BatchNorm/gamma:0 from checkpoint /tmp/tfhub_modules/2febfc4e01f38d50fac8ac922d87e18391e34060/variables/variables with MobilenetV2/expanded_conv_15/project/BatchNorm/gamma\n"
     ]
    },
    {
     "name": "stdout",
     "output_type": "stream",
     "text": [
      "INFO:tensorflow:Initialize variable module/MobilenetV2/expanded_conv_15/project/BatchNorm/moving_mean:0 from checkpoint /tmp/tfhub_modules/2febfc4e01f38d50fac8ac922d87e18391e34060/variables/variables with MobilenetV2/expanded_conv_15/project/BatchNorm/moving_mean\n"
     ]
    },
    {
     "name": "stderr",
     "output_type": "stream",
     "text": [
      "INFO:tensorflow:Initialize variable module/MobilenetV2/expanded_conv_15/project/BatchNorm/moving_mean:0 from checkpoint /tmp/tfhub_modules/2febfc4e01f38d50fac8ac922d87e18391e34060/variables/variables with MobilenetV2/expanded_conv_15/project/BatchNorm/moving_mean\n"
     ]
    },
    {
     "name": "stdout",
     "output_type": "stream",
     "text": [
      "INFO:tensorflow:Initialize variable module/MobilenetV2/expanded_conv_15/project/BatchNorm/moving_variance:0 from checkpoint /tmp/tfhub_modules/2febfc4e01f38d50fac8ac922d87e18391e34060/variables/variables with MobilenetV2/expanded_conv_15/project/BatchNorm/moving_variance\n"
     ]
    },
    {
     "name": "stderr",
     "output_type": "stream",
     "text": [
      "INFO:tensorflow:Initialize variable module/MobilenetV2/expanded_conv_15/project/BatchNorm/moving_variance:0 from checkpoint /tmp/tfhub_modules/2febfc4e01f38d50fac8ac922d87e18391e34060/variables/variables with MobilenetV2/expanded_conv_15/project/BatchNorm/moving_variance\n"
     ]
    },
    {
     "name": "stdout",
     "output_type": "stream",
     "text": [
      "INFO:tensorflow:Initialize variable module/MobilenetV2/expanded_conv_15/project/weights:0 from checkpoint /tmp/tfhub_modules/2febfc4e01f38d50fac8ac922d87e18391e34060/variables/variables with MobilenetV2/expanded_conv_15/project/weights\n"
     ]
    },
    {
     "name": "stderr",
     "output_type": "stream",
     "text": [
      "INFO:tensorflow:Initialize variable module/MobilenetV2/expanded_conv_15/project/weights:0 from checkpoint /tmp/tfhub_modules/2febfc4e01f38d50fac8ac922d87e18391e34060/variables/variables with MobilenetV2/expanded_conv_15/project/weights\n"
     ]
    },
    {
     "name": "stdout",
     "output_type": "stream",
     "text": [
      "INFO:tensorflow:Initialize variable module/MobilenetV2/expanded_conv_16/depthwise/BatchNorm/beta:0 from checkpoint /tmp/tfhub_modules/2febfc4e01f38d50fac8ac922d87e18391e34060/variables/variables with MobilenetV2/expanded_conv_16/depthwise/BatchNorm/beta\n"
     ]
    },
    {
     "name": "stderr",
     "output_type": "stream",
     "text": [
      "INFO:tensorflow:Initialize variable module/MobilenetV2/expanded_conv_16/depthwise/BatchNorm/beta:0 from checkpoint /tmp/tfhub_modules/2febfc4e01f38d50fac8ac922d87e18391e34060/variables/variables with MobilenetV2/expanded_conv_16/depthwise/BatchNorm/beta\n"
     ]
    },
    {
     "name": "stdout",
     "output_type": "stream",
     "text": [
      "INFO:tensorflow:Initialize variable module/MobilenetV2/expanded_conv_16/depthwise/BatchNorm/gamma:0 from checkpoint /tmp/tfhub_modules/2febfc4e01f38d50fac8ac922d87e18391e34060/variables/variables with MobilenetV2/expanded_conv_16/depthwise/BatchNorm/gamma\n"
     ]
    },
    {
     "name": "stderr",
     "output_type": "stream",
     "text": [
      "INFO:tensorflow:Initialize variable module/MobilenetV2/expanded_conv_16/depthwise/BatchNorm/gamma:0 from checkpoint /tmp/tfhub_modules/2febfc4e01f38d50fac8ac922d87e18391e34060/variables/variables with MobilenetV2/expanded_conv_16/depthwise/BatchNorm/gamma\n"
     ]
    },
    {
     "name": "stdout",
     "output_type": "stream",
     "text": [
      "INFO:tensorflow:Initialize variable module/MobilenetV2/expanded_conv_16/depthwise/BatchNorm/moving_mean:0 from checkpoint /tmp/tfhub_modules/2febfc4e01f38d50fac8ac922d87e18391e34060/variables/variables with MobilenetV2/expanded_conv_16/depthwise/BatchNorm/moving_mean\n"
     ]
    },
    {
     "name": "stderr",
     "output_type": "stream",
     "text": [
      "INFO:tensorflow:Initialize variable module/MobilenetV2/expanded_conv_16/depthwise/BatchNorm/moving_mean:0 from checkpoint /tmp/tfhub_modules/2febfc4e01f38d50fac8ac922d87e18391e34060/variables/variables with MobilenetV2/expanded_conv_16/depthwise/BatchNorm/moving_mean\n"
     ]
    },
    {
     "name": "stdout",
     "output_type": "stream",
     "text": [
      "INFO:tensorflow:Initialize variable module/MobilenetV2/expanded_conv_16/depthwise/BatchNorm/moving_variance:0 from checkpoint /tmp/tfhub_modules/2febfc4e01f38d50fac8ac922d87e18391e34060/variables/variables with MobilenetV2/expanded_conv_16/depthwise/BatchNorm/moving_variance\n"
     ]
    },
    {
     "name": "stderr",
     "output_type": "stream",
     "text": [
      "INFO:tensorflow:Initialize variable module/MobilenetV2/expanded_conv_16/depthwise/BatchNorm/moving_variance:0 from checkpoint /tmp/tfhub_modules/2febfc4e01f38d50fac8ac922d87e18391e34060/variables/variables with MobilenetV2/expanded_conv_16/depthwise/BatchNorm/moving_variance\n"
     ]
    },
    {
     "name": "stdout",
     "output_type": "stream",
     "text": [
      "INFO:tensorflow:Initialize variable module/MobilenetV2/expanded_conv_16/depthwise/depthwise_weights:0 from checkpoint /tmp/tfhub_modules/2febfc4e01f38d50fac8ac922d87e18391e34060/variables/variables with MobilenetV2/expanded_conv_16/depthwise/depthwise_weights\n"
     ]
    },
    {
     "name": "stderr",
     "output_type": "stream",
     "text": [
      "INFO:tensorflow:Initialize variable module/MobilenetV2/expanded_conv_16/depthwise/depthwise_weights:0 from checkpoint /tmp/tfhub_modules/2febfc4e01f38d50fac8ac922d87e18391e34060/variables/variables with MobilenetV2/expanded_conv_16/depthwise/depthwise_weights\n"
     ]
    },
    {
     "name": "stdout",
     "output_type": "stream",
     "text": [
      "INFO:tensorflow:Initialize variable module/MobilenetV2/expanded_conv_16/expand/BatchNorm/beta:0 from checkpoint /tmp/tfhub_modules/2febfc4e01f38d50fac8ac922d87e18391e34060/variables/variables with MobilenetV2/expanded_conv_16/expand/BatchNorm/beta\n"
     ]
    },
    {
     "name": "stderr",
     "output_type": "stream",
     "text": [
      "INFO:tensorflow:Initialize variable module/MobilenetV2/expanded_conv_16/expand/BatchNorm/beta:0 from checkpoint /tmp/tfhub_modules/2febfc4e01f38d50fac8ac922d87e18391e34060/variables/variables with MobilenetV2/expanded_conv_16/expand/BatchNorm/beta\n"
     ]
    },
    {
     "name": "stdout",
     "output_type": "stream",
     "text": [
      "INFO:tensorflow:Initialize variable module/MobilenetV2/expanded_conv_16/expand/BatchNorm/gamma:0 from checkpoint /tmp/tfhub_modules/2febfc4e01f38d50fac8ac922d87e18391e34060/variables/variables with MobilenetV2/expanded_conv_16/expand/BatchNorm/gamma\n"
     ]
    },
    {
     "name": "stderr",
     "output_type": "stream",
     "text": [
      "INFO:tensorflow:Initialize variable module/MobilenetV2/expanded_conv_16/expand/BatchNorm/gamma:0 from checkpoint /tmp/tfhub_modules/2febfc4e01f38d50fac8ac922d87e18391e34060/variables/variables with MobilenetV2/expanded_conv_16/expand/BatchNorm/gamma\n"
     ]
    },
    {
     "name": "stdout",
     "output_type": "stream",
     "text": [
      "INFO:tensorflow:Initialize variable module/MobilenetV2/expanded_conv_16/expand/BatchNorm/moving_mean:0 from checkpoint /tmp/tfhub_modules/2febfc4e01f38d50fac8ac922d87e18391e34060/variables/variables with MobilenetV2/expanded_conv_16/expand/BatchNorm/moving_mean\n"
     ]
    },
    {
     "name": "stderr",
     "output_type": "stream",
     "text": [
      "INFO:tensorflow:Initialize variable module/MobilenetV2/expanded_conv_16/expand/BatchNorm/moving_mean:0 from checkpoint /tmp/tfhub_modules/2febfc4e01f38d50fac8ac922d87e18391e34060/variables/variables with MobilenetV2/expanded_conv_16/expand/BatchNorm/moving_mean\n"
     ]
    },
    {
     "name": "stdout",
     "output_type": "stream",
     "text": [
      "INFO:tensorflow:Initialize variable module/MobilenetV2/expanded_conv_16/expand/BatchNorm/moving_variance:0 from checkpoint /tmp/tfhub_modules/2febfc4e01f38d50fac8ac922d87e18391e34060/variables/variables with MobilenetV2/expanded_conv_16/expand/BatchNorm/moving_variance\n"
     ]
    },
    {
     "name": "stderr",
     "output_type": "stream",
     "text": [
      "INFO:tensorflow:Initialize variable module/MobilenetV2/expanded_conv_16/expand/BatchNorm/moving_variance:0 from checkpoint /tmp/tfhub_modules/2febfc4e01f38d50fac8ac922d87e18391e34060/variables/variables with MobilenetV2/expanded_conv_16/expand/BatchNorm/moving_variance\n"
     ]
    },
    {
     "name": "stdout",
     "output_type": "stream",
     "text": [
      "INFO:tensorflow:Initialize variable module/MobilenetV2/expanded_conv_16/expand/weights:0 from checkpoint /tmp/tfhub_modules/2febfc4e01f38d50fac8ac922d87e18391e34060/variables/variables with MobilenetV2/expanded_conv_16/expand/weights\n"
     ]
    },
    {
     "name": "stderr",
     "output_type": "stream",
     "text": [
      "INFO:tensorflow:Initialize variable module/MobilenetV2/expanded_conv_16/expand/weights:0 from checkpoint /tmp/tfhub_modules/2febfc4e01f38d50fac8ac922d87e18391e34060/variables/variables with MobilenetV2/expanded_conv_16/expand/weights\n"
     ]
    },
    {
     "name": "stdout",
     "output_type": "stream",
     "text": [
      "INFO:tensorflow:Initialize variable module/MobilenetV2/expanded_conv_16/project/BatchNorm/beta:0 from checkpoint /tmp/tfhub_modules/2febfc4e01f38d50fac8ac922d87e18391e34060/variables/variables with MobilenetV2/expanded_conv_16/project/BatchNorm/beta\n"
     ]
    },
    {
     "name": "stderr",
     "output_type": "stream",
     "text": [
      "INFO:tensorflow:Initialize variable module/MobilenetV2/expanded_conv_16/project/BatchNorm/beta:0 from checkpoint /tmp/tfhub_modules/2febfc4e01f38d50fac8ac922d87e18391e34060/variables/variables with MobilenetV2/expanded_conv_16/project/BatchNorm/beta\n"
     ]
    },
    {
     "name": "stdout",
     "output_type": "stream",
     "text": [
      "INFO:tensorflow:Initialize variable module/MobilenetV2/expanded_conv_16/project/BatchNorm/gamma:0 from checkpoint /tmp/tfhub_modules/2febfc4e01f38d50fac8ac922d87e18391e34060/variables/variables with MobilenetV2/expanded_conv_16/project/BatchNorm/gamma\n"
     ]
    },
    {
     "name": "stderr",
     "output_type": "stream",
     "text": [
      "INFO:tensorflow:Initialize variable module/MobilenetV2/expanded_conv_16/project/BatchNorm/gamma:0 from checkpoint /tmp/tfhub_modules/2febfc4e01f38d50fac8ac922d87e18391e34060/variables/variables with MobilenetV2/expanded_conv_16/project/BatchNorm/gamma\n"
     ]
    },
    {
     "name": "stdout",
     "output_type": "stream",
     "text": [
      "INFO:tensorflow:Initialize variable module/MobilenetV2/expanded_conv_16/project/BatchNorm/moving_mean:0 from checkpoint /tmp/tfhub_modules/2febfc4e01f38d50fac8ac922d87e18391e34060/variables/variables with MobilenetV2/expanded_conv_16/project/BatchNorm/moving_mean\n"
     ]
    },
    {
     "name": "stderr",
     "output_type": "stream",
     "text": [
      "INFO:tensorflow:Initialize variable module/MobilenetV2/expanded_conv_16/project/BatchNorm/moving_mean:0 from checkpoint /tmp/tfhub_modules/2febfc4e01f38d50fac8ac922d87e18391e34060/variables/variables with MobilenetV2/expanded_conv_16/project/BatchNorm/moving_mean\n"
     ]
    },
    {
     "name": "stdout",
     "output_type": "stream",
     "text": [
      "INFO:tensorflow:Initialize variable module/MobilenetV2/expanded_conv_16/project/BatchNorm/moving_variance:0 from checkpoint /tmp/tfhub_modules/2febfc4e01f38d50fac8ac922d87e18391e34060/variables/variables with MobilenetV2/expanded_conv_16/project/BatchNorm/moving_variance\n"
     ]
    },
    {
     "name": "stderr",
     "output_type": "stream",
     "text": [
      "INFO:tensorflow:Initialize variable module/MobilenetV2/expanded_conv_16/project/BatchNorm/moving_variance:0 from checkpoint /tmp/tfhub_modules/2febfc4e01f38d50fac8ac922d87e18391e34060/variables/variables with MobilenetV2/expanded_conv_16/project/BatchNorm/moving_variance\n"
     ]
    },
    {
     "name": "stdout",
     "output_type": "stream",
     "text": [
      "INFO:tensorflow:Initialize variable module/MobilenetV2/expanded_conv_16/project/weights:0 from checkpoint /tmp/tfhub_modules/2febfc4e01f38d50fac8ac922d87e18391e34060/variables/variables with MobilenetV2/expanded_conv_16/project/weights\n"
     ]
    },
    {
     "name": "stderr",
     "output_type": "stream",
     "text": [
      "INFO:tensorflow:Initialize variable module/MobilenetV2/expanded_conv_16/project/weights:0 from checkpoint /tmp/tfhub_modules/2febfc4e01f38d50fac8ac922d87e18391e34060/variables/variables with MobilenetV2/expanded_conv_16/project/weights\n"
     ]
    },
    {
     "name": "stdout",
     "output_type": "stream",
     "text": [
      "INFO:tensorflow:Initialize variable module/MobilenetV2/expanded_conv_2/depthwise/BatchNorm/beta:0 from checkpoint /tmp/tfhub_modules/2febfc4e01f38d50fac8ac922d87e18391e34060/variables/variables with MobilenetV2/expanded_conv_2/depthwise/BatchNorm/beta\n"
     ]
    },
    {
     "name": "stderr",
     "output_type": "stream",
     "text": [
      "INFO:tensorflow:Initialize variable module/MobilenetV2/expanded_conv_2/depthwise/BatchNorm/beta:0 from checkpoint /tmp/tfhub_modules/2febfc4e01f38d50fac8ac922d87e18391e34060/variables/variables with MobilenetV2/expanded_conv_2/depthwise/BatchNorm/beta\n"
     ]
    },
    {
     "name": "stdout",
     "output_type": "stream",
     "text": [
      "INFO:tensorflow:Initialize variable module/MobilenetV2/expanded_conv_2/depthwise/BatchNorm/gamma:0 from checkpoint /tmp/tfhub_modules/2febfc4e01f38d50fac8ac922d87e18391e34060/variables/variables with MobilenetV2/expanded_conv_2/depthwise/BatchNorm/gamma\n"
     ]
    },
    {
     "name": "stderr",
     "output_type": "stream",
     "text": [
      "INFO:tensorflow:Initialize variable module/MobilenetV2/expanded_conv_2/depthwise/BatchNorm/gamma:0 from checkpoint /tmp/tfhub_modules/2febfc4e01f38d50fac8ac922d87e18391e34060/variables/variables with MobilenetV2/expanded_conv_2/depthwise/BatchNorm/gamma\n"
     ]
    },
    {
     "name": "stdout",
     "output_type": "stream",
     "text": [
      "INFO:tensorflow:Initialize variable module/MobilenetV2/expanded_conv_2/depthwise/BatchNorm/moving_mean:0 from checkpoint /tmp/tfhub_modules/2febfc4e01f38d50fac8ac922d87e18391e34060/variables/variables with MobilenetV2/expanded_conv_2/depthwise/BatchNorm/moving_mean\n"
     ]
    },
    {
     "name": "stderr",
     "output_type": "stream",
     "text": [
      "INFO:tensorflow:Initialize variable module/MobilenetV2/expanded_conv_2/depthwise/BatchNorm/moving_mean:0 from checkpoint /tmp/tfhub_modules/2febfc4e01f38d50fac8ac922d87e18391e34060/variables/variables with MobilenetV2/expanded_conv_2/depthwise/BatchNorm/moving_mean\n"
     ]
    },
    {
     "name": "stdout",
     "output_type": "stream",
     "text": [
      "INFO:tensorflow:Initialize variable module/MobilenetV2/expanded_conv_2/depthwise/BatchNorm/moving_variance:0 from checkpoint /tmp/tfhub_modules/2febfc4e01f38d50fac8ac922d87e18391e34060/variables/variables with MobilenetV2/expanded_conv_2/depthwise/BatchNorm/moving_variance\n"
     ]
    },
    {
     "name": "stderr",
     "output_type": "stream",
     "text": [
      "INFO:tensorflow:Initialize variable module/MobilenetV2/expanded_conv_2/depthwise/BatchNorm/moving_variance:0 from checkpoint /tmp/tfhub_modules/2febfc4e01f38d50fac8ac922d87e18391e34060/variables/variables with MobilenetV2/expanded_conv_2/depthwise/BatchNorm/moving_variance\n"
     ]
    },
    {
     "name": "stdout",
     "output_type": "stream",
     "text": [
      "INFO:tensorflow:Initialize variable module/MobilenetV2/expanded_conv_2/depthwise/depthwise_weights:0 from checkpoint /tmp/tfhub_modules/2febfc4e01f38d50fac8ac922d87e18391e34060/variables/variables with MobilenetV2/expanded_conv_2/depthwise/depthwise_weights\n"
     ]
    },
    {
     "name": "stderr",
     "output_type": "stream",
     "text": [
      "INFO:tensorflow:Initialize variable module/MobilenetV2/expanded_conv_2/depthwise/depthwise_weights:0 from checkpoint /tmp/tfhub_modules/2febfc4e01f38d50fac8ac922d87e18391e34060/variables/variables with MobilenetV2/expanded_conv_2/depthwise/depthwise_weights\n"
     ]
    },
    {
     "name": "stdout",
     "output_type": "stream",
     "text": [
      "INFO:tensorflow:Initialize variable module/MobilenetV2/expanded_conv_2/expand/BatchNorm/beta:0 from checkpoint /tmp/tfhub_modules/2febfc4e01f38d50fac8ac922d87e18391e34060/variables/variables with MobilenetV2/expanded_conv_2/expand/BatchNorm/beta\n"
     ]
    },
    {
     "name": "stderr",
     "output_type": "stream",
     "text": [
      "INFO:tensorflow:Initialize variable module/MobilenetV2/expanded_conv_2/expand/BatchNorm/beta:0 from checkpoint /tmp/tfhub_modules/2febfc4e01f38d50fac8ac922d87e18391e34060/variables/variables with MobilenetV2/expanded_conv_2/expand/BatchNorm/beta\n"
     ]
    },
    {
     "name": "stdout",
     "output_type": "stream",
     "text": [
      "INFO:tensorflow:Initialize variable module/MobilenetV2/expanded_conv_2/expand/BatchNorm/gamma:0 from checkpoint /tmp/tfhub_modules/2febfc4e01f38d50fac8ac922d87e18391e34060/variables/variables with MobilenetV2/expanded_conv_2/expand/BatchNorm/gamma\n"
     ]
    },
    {
     "name": "stderr",
     "output_type": "stream",
     "text": [
      "INFO:tensorflow:Initialize variable module/MobilenetV2/expanded_conv_2/expand/BatchNorm/gamma:0 from checkpoint /tmp/tfhub_modules/2febfc4e01f38d50fac8ac922d87e18391e34060/variables/variables with MobilenetV2/expanded_conv_2/expand/BatchNorm/gamma\n"
     ]
    },
    {
     "name": "stdout",
     "output_type": "stream",
     "text": [
      "INFO:tensorflow:Initialize variable module/MobilenetV2/expanded_conv_2/expand/BatchNorm/moving_mean:0 from checkpoint /tmp/tfhub_modules/2febfc4e01f38d50fac8ac922d87e18391e34060/variables/variables with MobilenetV2/expanded_conv_2/expand/BatchNorm/moving_mean\n"
     ]
    },
    {
     "name": "stderr",
     "output_type": "stream",
     "text": [
      "INFO:tensorflow:Initialize variable module/MobilenetV2/expanded_conv_2/expand/BatchNorm/moving_mean:0 from checkpoint /tmp/tfhub_modules/2febfc4e01f38d50fac8ac922d87e18391e34060/variables/variables with MobilenetV2/expanded_conv_2/expand/BatchNorm/moving_mean\n"
     ]
    },
    {
     "name": "stdout",
     "output_type": "stream",
     "text": [
      "INFO:tensorflow:Initialize variable module/MobilenetV2/expanded_conv_2/expand/BatchNorm/moving_variance:0 from checkpoint /tmp/tfhub_modules/2febfc4e01f38d50fac8ac922d87e18391e34060/variables/variables with MobilenetV2/expanded_conv_2/expand/BatchNorm/moving_variance\n"
     ]
    },
    {
     "name": "stderr",
     "output_type": "stream",
     "text": [
      "INFO:tensorflow:Initialize variable module/MobilenetV2/expanded_conv_2/expand/BatchNorm/moving_variance:0 from checkpoint /tmp/tfhub_modules/2febfc4e01f38d50fac8ac922d87e18391e34060/variables/variables with MobilenetV2/expanded_conv_2/expand/BatchNorm/moving_variance\n"
     ]
    },
    {
     "name": "stdout",
     "output_type": "stream",
     "text": [
      "INFO:tensorflow:Initialize variable module/MobilenetV2/expanded_conv_2/expand/weights:0 from checkpoint /tmp/tfhub_modules/2febfc4e01f38d50fac8ac922d87e18391e34060/variables/variables with MobilenetV2/expanded_conv_2/expand/weights\n"
     ]
    },
    {
     "name": "stderr",
     "output_type": "stream",
     "text": [
      "INFO:tensorflow:Initialize variable module/MobilenetV2/expanded_conv_2/expand/weights:0 from checkpoint /tmp/tfhub_modules/2febfc4e01f38d50fac8ac922d87e18391e34060/variables/variables with MobilenetV2/expanded_conv_2/expand/weights\n"
     ]
    },
    {
     "name": "stdout",
     "output_type": "stream",
     "text": [
      "INFO:tensorflow:Initialize variable module/MobilenetV2/expanded_conv_2/project/BatchNorm/beta:0 from checkpoint /tmp/tfhub_modules/2febfc4e01f38d50fac8ac922d87e18391e34060/variables/variables with MobilenetV2/expanded_conv_2/project/BatchNorm/beta\n"
     ]
    },
    {
     "name": "stderr",
     "output_type": "stream",
     "text": [
      "INFO:tensorflow:Initialize variable module/MobilenetV2/expanded_conv_2/project/BatchNorm/beta:0 from checkpoint /tmp/tfhub_modules/2febfc4e01f38d50fac8ac922d87e18391e34060/variables/variables with MobilenetV2/expanded_conv_2/project/BatchNorm/beta\n"
     ]
    },
    {
     "name": "stdout",
     "output_type": "stream",
     "text": [
      "INFO:tensorflow:Initialize variable module/MobilenetV2/expanded_conv_2/project/BatchNorm/gamma:0 from checkpoint /tmp/tfhub_modules/2febfc4e01f38d50fac8ac922d87e18391e34060/variables/variables with MobilenetV2/expanded_conv_2/project/BatchNorm/gamma\n"
     ]
    },
    {
     "name": "stderr",
     "output_type": "stream",
     "text": [
      "INFO:tensorflow:Initialize variable module/MobilenetV2/expanded_conv_2/project/BatchNorm/gamma:0 from checkpoint /tmp/tfhub_modules/2febfc4e01f38d50fac8ac922d87e18391e34060/variables/variables with MobilenetV2/expanded_conv_2/project/BatchNorm/gamma\n"
     ]
    },
    {
     "name": "stdout",
     "output_type": "stream",
     "text": [
      "INFO:tensorflow:Initialize variable module/MobilenetV2/expanded_conv_2/project/BatchNorm/moving_mean:0 from checkpoint /tmp/tfhub_modules/2febfc4e01f38d50fac8ac922d87e18391e34060/variables/variables with MobilenetV2/expanded_conv_2/project/BatchNorm/moving_mean\n"
     ]
    },
    {
     "name": "stderr",
     "output_type": "stream",
     "text": [
      "INFO:tensorflow:Initialize variable module/MobilenetV2/expanded_conv_2/project/BatchNorm/moving_mean:0 from checkpoint /tmp/tfhub_modules/2febfc4e01f38d50fac8ac922d87e18391e34060/variables/variables with MobilenetV2/expanded_conv_2/project/BatchNorm/moving_mean\n"
     ]
    },
    {
     "name": "stdout",
     "output_type": "stream",
     "text": [
      "INFO:tensorflow:Initialize variable module/MobilenetV2/expanded_conv_2/project/BatchNorm/moving_variance:0 from checkpoint /tmp/tfhub_modules/2febfc4e01f38d50fac8ac922d87e18391e34060/variables/variables with MobilenetV2/expanded_conv_2/project/BatchNorm/moving_variance\n"
     ]
    },
    {
     "name": "stderr",
     "output_type": "stream",
     "text": [
      "INFO:tensorflow:Initialize variable module/MobilenetV2/expanded_conv_2/project/BatchNorm/moving_variance:0 from checkpoint /tmp/tfhub_modules/2febfc4e01f38d50fac8ac922d87e18391e34060/variables/variables with MobilenetV2/expanded_conv_2/project/BatchNorm/moving_variance\n"
     ]
    },
    {
     "name": "stdout",
     "output_type": "stream",
     "text": [
      "INFO:tensorflow:Initialize variable module/MobilenetV2/expanded_conv_2/project/weights:0 from checkpoint /tmp/tfhub_modules/2febfc4e01f38d50fac8ac922d87e18391e34060/variables/variables with MobilenetV2/expanded_conv_2/project/weights\n"
     ]
    },
    {
     "name": "stderr",
     "output_type": "stream",
     "text": [
      "INFO:tensorflow:Initialize variable module/MobilenetV2/expanded_conv_2/project/weights:0 from checkpoint /tmp/tfhub_modules/2febfc4e01f38d50fac8ac922d87e18391e34060/variables/variables with MobilenetV2/expanded_conv_2/project/weights\n"
     ]
    },
    {
     "name": "stdout",
     "output_type": "stream",
     "text": [
      "INFO:tensorflow:Initialize variable module/MobilenetV2/expanded_conv_3/depthwise/BatchNorm/beta:0 from checkpoint /tmp/tfhub_modules/2febfc4e01f38d50fac8ac922d87e18391e34060/variables/variables with MobilenetV2/expanded_conv_3/depthwise/BatchNorm/beta\n"
     ]
    },
    {
     "name": "stderr",
     "output_type": "stream",
     "text": [
      "INFO:tensorflow:Initialize variable module/MobilenetV2/expanded_conv_3/depthwise/BatchNorm/beta:0 from checkpoint /tmp/tfhub_modules/2febfc4e01f38d50fac8ac922d87e18391e34060/variables/variables with MobilenetV2/expanded_conv_3/depthwise/BatchNorm/beta\n"
     ]
    },
    {
     "name": "stdout",
     "output_type": "stream",
     "text": [
      "INFO:tensorflow:Initialize variable module/MobilenetV2/expanded_conv_3/depthwise/BatchNorm/gamma:0 from checkpoint /tmp/tfhub_modules/2febfc4e01f38d50fac8ac922d87e18391e34060/variables/variables with MobilenetV2/expanded_conv_3/depthwise/BatchNorm/gamma\n"
     ]
    },
    {
     "name": "stderr",
     "output_type": "stream",
     "text": [
      "INFO:tensorflow:Initialize variable module/MobilenetV2/expanded_conv_3/depthwise/BatchNorm/gamma:0 from checkpoint /tmp/tfhub_modules/2febfc4e01f38d50fac8ac922d87e18391e34060/variables/variables with MobilenetV2/expanded_conv_3/depthwise/BatchNorm/gamma\n"
     ]
    },
    {
     "name": "stdout",
     "output_type": "stream",
     "text": [
      "INFO:tensorflow:Initialize variable module/MobilenetV2/expanded_conv_3/depthwise/BatchNorm/moving_mean:0 from checkpoint /tmp/tfhub_modules/2febfc4e01f38d50fac8ac922d87e18391e34060/variables/variables with MobilenetV2/expanded_conv_3/depthwise/BatchNorm/moving_mean\n"
     ]
    },
    {
     "name": "stderr",
     "output_type": "stream",
     "text": [
      "INFO:tensorflow:Initialize variable module/MobilenetV2/expanded_conv_3/depthwise/BatchNorm/moving_mean:0 from checkpoint /tmp/tfhub_modules/2febfc4e01f38d50fac8ac922d87e18391e34060/variables/variables with MobilenetV2/expanded_conv_3/depthwise/BatchNorm/moving_mean\n"
     ]
    },
    {
     "name": "stdout",
     "output_type": "stream",
     "text": [
      "INFO:tensorflow:Initialize variable module/MobilenetV2/expanded_conv_3/depthwise/BatchNorm/moving_variance:0 from checkpoint /tmp/tfhub_modules/2febfc4e01f38d50fac8ac922d87e18391e34060/variables/variables with MobilenetV2/expanded_conv_3/depthwise/BatchNorm/moving_variance\n"
     ]
    },
    {
     "name": "stderr",
     "output_type": "stream",
     "text": [
      "INFO:tensorflow:Initialize variable module/MobilenetV2/expanded_conv_3/depthwise/BatchNorm/moving_variance:0 from checkpoint /tmp/tfhub_modules/2febfc4e01f38d50fac8ac922d87e18391e34060/variables/variables with MobilenetV2/expanded_conv_3/depthwise/BatchNorm/moving_variance\n"
     ]
    },
    {
     "name": "stdout",
     "output_type": "stream",
     "text": [
      "INFO:tensorflow:Initialize variable module/MobilenetV2/expanded_conv_3/depthwise/depthwise_weights:0 from checkpoint /tmp/tfhub_modules/2febfc4e01f38d50fac8ac922d87e18391e34060/variables/variables with MobilenetV2/expanded_conv_3/depthwise/depthwise_weights\n"
     ]
    },
    {
     "name": "stderr",
     "output_type": "stream",
     "text": [
      "INFO:tensorflow:Initialize variable module/MobilenetV2/expanded_conv_3/depthwise/depthwise_weights:0 from checkpoint /tmp/tfhub_modules/2febfc4e01f38d50fac8ac922d87e18391e34060/variables/variables with MobilenetV2/expanded_conv_3/depthwise/depthwise_weights\n"
     ]
    },
    {
     "name": "stdout",
     "output_type": "stream",
     "text": [
      "INFO:tensorflow:Initialize variable module/MobilenetV2/expanded_conv_3/expand/BatchNorm/beta:0 from checkpoint /tmp/tfhub_modules/2febfc4e01f38d50fac8ac922d87e18391e34060/variables/variables with MobilenetV2/expanded_conv_3/expand/BatchNorm/beta\n"
     ]
    },
    {
     "name": "stderr",
     "output_type": "stream",
     "text": [
      "INFO:tensorflow:Initialize variable module/MobilenetV2/expanded_conv_3/expand/BatchNorm/beta:0 from checkpoint /tmp/tfhub_modules/2febfc4e01f38d50fac8ac922d87e18391e34060/variables/variables with MobilenetV2/expanded_conv_3/expand/BatchNorm/beta\n"
     ]
    },
    {
     "name": "stdout",
     "output_type": "stream",
     "text": [
      "INFO:tensorflow:Initialize variable module/MobilenetV2/expanded_conv_3/expand/BatchNorm/gamma:0 from checkpoint /tmp/tfhub_modules/2febfc4e01f38d50fac8ac922d87e18391e34060/variables/variables with MobilenetV2/expanded_conv_3/expand/BatchNorm/gamma\n"
     ]
    },
    {
     "name": "stderr",
     "output_type": "stream",
     "text": [
      "INFO:tensorflow:Initialize variable module/MobilenetV2/expanded_conv_3/expand/BatchNorm/gamma:0 from checkpoint /tmp/tfhub_modules/2febfc4e01f38d50fac8ac922d87e18391e34060/variables/variables with MobilenetV2/expanded_conv_3/expand/BatchNorm/gamma\n"
     ]
    },
    {
     "name": "stdout",
     "output_type": "stream",
     "text": [
      "INFO:tensorflow:Initialize variable module/MobilenetV2/expanded_conv_3/expand/BatchNorm/moving_mean:0 from checkpoint /tmp/tfhub_modules/2febfc4e01f38d50fac8ac922d87e18391e34060/variables/variables with MobilenetV2/expanded_conv_3/expand/BatchNorm/moving_mean\n"
     ]
    },
    {
     "name": "stderr",
     "output_type": "stream",
     "text": [
      "INFO:tensorflow:Initialize variable module/MobilenetV2/expanded_conv_3/expand/BatchNorm/moving_mean:0 from checkpoint /tmp/tfhub_modules/2febfc4e01f38d50fac8ac922d87e18391e34060/variables/variables with MobilenetV2/expanded_conv_3/expand/BatchNorm/moving_mean\n"
     ]
    },
    {
     "name": "stdout",
     "output_type": "stream",
     "text": [
      "INFO:tensorflow:Initialize variable module/MobilenetV2/expanded_conv_3/expand/BatchNorm/moving_variance:0 from checkpoint /tmp/tfhub_modules/2febfc4e01f38d50fac8ac922d87e18391e34060/variables/variables with MobilenetV2/expanded_conv_3/expand/BatchNorm/moving_variance\n"
     ]
    },
    {
     "name": "stderr",
     "output_type": "stream",
     "text": [
      "INFO:tensorflow:Initialize variable module/MobilenetV2/expanded_conv_3/expand/BatchNorm/moving_variance:0 from checkpoint /tmp/tfhub_modules/2febfc4e01f38d50fac8ac922d87e18391e34060/variables/variables with MobilenetV2/expanded_conv_3/expand/BatchNorm/moving_variance\n"
     ]
    },
    {
     "name": "stdout",
     "output_type": "stream",
     "text": [
      "INFO:tensorflow:Initialize variable module/MobilenetV2/expanded_conv_3/expand/weights:0 from checkpoint /tmp/tfhub_modules/2febfc4e01f38d50fac8ac922d87e18391e34060/variables/variables with MobilenetV2/expanded_conv_3/expand/weights\n"
     ]
    },
    {
     "name": "stderr",
     "output_type": "stream",
     "text": [
      "INFO:tensorflow:Initialize variable module/MobilenetV2/expanded_conv_3/expand/weights:0 from checkpoint /tmp/tfhub_modules/2febfc4e01f38d50fac8ac922d87e18391e34060/variables/variables with MobilenetV2/expanded_conv_3/expand/weights\n"
     ]
    },
    {
     "name": "stdout",
     "output_type": "stream",
     "text": [
      "INFO:tensorflow:Initialize variable module/MobilenetV2/expanded_conv_3/project/BatchNorm/beta:0 from checkpoint /tmp/tfhub_modules/2febfc4e01f38d50fac8ac922d87e18391e34060/variables/variables with MobilenetV2/expanded_conv_3/project/BatchNorm/beta\n"
     ]
    },
    {
     "name": "stderr",
     "output_type": "stream",
     "text": [
      "INFO:tensorflow:Initialize variable module/MobilenetV2/expanded_conv_3/project/BatchNorm/beta:0 from checkpoint /tmp/tfhub_modules/2febfc4e01f38d50fac8ac922d87e18391e34060/variables/variables with MobilenetV2/expanded_conv_3/project/BatchNorm/beta\n"
     ]
    },
    {
     "name": "stdout",
     "output_type": "stream",
     "text": [
      "INFO:tensorflow:Initialize variable module/MobilenetV2/expanded_conv_3/project/BatchNorm/gamma:0 from checkpoint /tmp/tfhub_modules/2febfc4e01f38d50fac8ac922d87e18391e34060/variables/variables with MobilenetV2/expanded_conv_3/project/BatchNorm/gamma\n"
     ]
    },
    {
     "name": "stderr",
     "output_type": "stream",
     "text": [
      "INFO:tensorflow:Initialize variable module/MobilenetV2/expanded_conv_3/project/BatchNorm/gamma:0 from checkpoint /tmp/tfhub_modules/2febfc4e01f38d50fac8ac922d87e18391e34060/variables/variables with MobilenetV2/expanded_conv_3/project/BatchNorm/gamma\n"
     ]
    },
    {
     "name": "stdout",
     "output_type": "stream",
     "text": [
      "INFO:tensorflow:Initialize variable module/MobilenetV2/expanded_conv_3/project/BatchNorm/moving_mean:0 from checkpoint /tmp/tfhub_modules/2febfc4e01f38d50fac8ac922d87e18391e34060/variables/variables with MobilenetV2/expanded_conv_3/project/BatchNorm/moving_mean\n"
     ]
    },
    {
     "name": "stderr",
     "output_type": "stream",
     "text": [
      "INFO:tensorflow:Initialize variable module/MobilenetV2/expanded_conv_3/project/BatchNorm/moving_mean:0 from checkpoint /tmp/tfhub_modules/2febfc4e01f38d50fac8ac922d87e18391e34060/variables/variables with MobilenetV2/expanded_conv_3/project/BatchNorm/moving_mean\n"
     ]
    },
    {
     "name": "stdout",
     "output_type": "stream",
     "text": [
      "INFO:tensorflow:Initialize variable module/MobilenetV2/expanded_conv_3/project/BatchNorm/moving_variance:0 from checkpoint /tmp/tfhub_modules/2febfc4e01f38d50fac8ac922d87e18391e34060/variables/variables with MobilenetV2/expanded_conv_3/project/BatchNorm/moving_variance\n"
     ]
    },
    {
     "name": "stderr",
     "output_type": "stream",
     "text": [
      "INFO:tensorflow:Initialize variable module/MobilenetV2/expanded_conv_3/project/BatchNorm/moving_variance:0 from checkpoint /tmp/tfhub_modules/2febfc4e01f38d50fac8ac922d87e18391e34060/variables/variables with MobilenetV2/expanded_conv_3/project/BatchNorm/moving_variance\n"
     ]
    },
    {
     "name": "stdout",
     "output_type": "stream",
     "text": [
      "INFO:tensorflow:Initialize variable module/MobilenetV2/expanded_conv_3/project/weights:0 from checkpoint /tmp/tfhub_modules/2febfc4e01f38d50fac8ac922d87e18391e34060/variables/variables with MobilenetV2/expanded_conv_3/project/weights\n"
     ]
    },
    {
     "name": "stderr",
     "output_type": "stream",
     "text": [
      "INFO:tensorflow:Initialize variable module/MobilenetV2/expanded_conv_3/project/weights:0 from checkpoint /tmp/tfhub_modules/2febfc4e01f38d50fac8ac922d87e18391e34060/variables/variables with MobilenetV2/expanded_conv_3/project/weights\n"
     ]
    },
    {
     "name": "stdout",
     "output_type": "stream",
     "text": [
      "INFO:tensorflow:Initialize variable module/MobilenetV2/expanded_conv_4/depthwise/BatchNorm/beta:0 from checkpoint /tmp/tfhub_modules/2febfc4e01f38d50fac8ac922d87e18391e34060/variables/variables with MobilenetV2/expanded_conv_4/depthwise/BatchNorm/beta\n"
     ]
    },
    {
     "name": "stderr",
     "output_type": "stream",
     "text": [
      "INFO:tensorflow:Initialize variable module/MobilenetV2/expanded_conv_4/depthwise/BatchNorm/beta:0 from checkpoint /tmp/tfhub_modules/2febfc4e01f38d50fac8ac922d87e18391e34060/variables/variables with MobilenetV2/expanded_conv_4/depthwise/BatchNorm/beta\n"
     ]
    },
    {
     "name": "stdout",
     "output_type": "stream",
     "text": [
      "INFO:tensorflow:Initialize variable module/MobilenetV2/expanded_conv_4/depthwise/BatchNorm/gamma:0 from checkpoint /tmp/tfhub_modules/2febfc4e01f38d50fac8ac922d87e18391e34060/variables/variables with MobilenetV2/expanded_conv_4/depthwise/BatchNorm/gamma\n"
     ]
    },
    {
     "name": "stderr",
     "output_type": "stream",
     "text": [
      "INFO:tensorflow:Initialize variable module/MobilenetV2/expanded_conv_4/depthwise/BatchNorm/gamma:0 from checkpoint /tmp/tfhub_modules/2febfc4e01f38d50fac8ac922d87e18391e34060/variables/variables with MobilenetV2/expanded_conv_4/depthwise/BatchNorm/gamma\n"
     ]
    },
    {
     "name": "stdout",
     "output_type": "stream",
     "text": [
      "INFO:tensorflow:Initialize variable module/MobilenetV2/expanded_conv_4/depthwise/BatchNorm/moving_mean:0 from checkpoint /tmp/tfhub_modules/2febfc4e01f38d50fac8ac922d87e18391e34060/variables/variables with MobilenetV2/expanded_conv_4/depthwise/BatchNorm/moving_mean\n"
     ]
    },
    {
     "name": "stderr",
     "output_type": "stream",
     "text": [
      "INFO:tensorflow:Initialize variable module/MobilenetV2/expanded_conv_4/depthwise/BatchNorm/moving_mean:0 from checkpoint /tmp/tfhub_modules/2febfc4e01f38d50fac8ac922d87e18391e34060/variables/variables with MobilenetV2/expanded_conv_4/depthwise/BatchNorm/moving_mean\n"
     ]
    },
    {
     "name": "stdout",
     "output_type": "stream",
     "text": [
      "INFO:tensorflow:Initialize variable module/MobilenetV2/expanded_conv_4/depthwise/BatchNorm/moving_variance:0 from checkpoint /tmp/tfhub_modules/2febfc4e01f38d50fac8ac922d87e18391e34060/variables/variables with MobilenetV2/expanded_conv_4/depthwise/BatchNorm/moving_variance\n"
     ]
    },
    {
     "name": "stderr",
     "output_type": "stream",
     "text": [
      "INFO:tensorflow:Initialize variable module/MobilenetV2/expanded_conv_4/depthwise/BatchNorm/moving_variance:0 from checkpoint /tmp/tfhub_modules/2febfc4e01f38d50fac8ac922d87e18391e34060/variables/variables with MobilenetV2/expanded_conv_4/depthwise/BatchNorm/moving_variance\n"
     ]
    },
    {
     "name": "stdout",
     "output_type": "stream",
     "text": [
      "INFO:tensorflow:Initialize variable module/MobilenetV2/expanded_conv_4/depthwise/depthwise_weights:0 from checkpoint /tmp/tfhub_modules/2febfc4e01f38d50fac8ac922d87e18391e34060/variables/variables with MobilenetV2/expanded_conv_4/depthwise/depthwise_weights\n"
     ]
    },
    {
     "name": "stderr",
     "output_type": "stream",
     "text": [
      "INFO:tensorflow:Initialize variable module/MobilenetV2/expanded_conv_4/depthwise/depthwise_weights:0 from checkpoint /tmp/tfhub_modules/2febfc4e01f38d50fac8ac922d87e18391e34060/variables/variables with MobilenetV2/expanded_conv_4/depthwise/depthwise_weights\n"
     ]
    },
    {
     "name": "stdout",
     "output_type": "stream",
     "text": [
      "INFO:tensorflow:Initialize variable module/MobilenetV2/expanded_conv_4/expand/BatchNorm/beta:0 from checkpoint /tmp/tfhub_modules/2febfc4e01f38d50fac8ac922d87e18391e34060/variables/variables with MobilenetV2/expanded_conv_4/expand/BatchNorm/beta\n"
     ]
    },
    {
     "name": "stderr",
     "output_type": "stream",
     "text": [
      "INFO:tensorflow:Initialize variable module/MobilenetV2/expanded_conv_4/expand/BatchNorm/beta:0 from checkpoint /tmp/tfhub_modules/2febfc4e01f38d50fac8ac922d87e18391e34060/variables/variables with MobilenetV2/expanded_conv_4/expand/BatchNorm/beta\n"
     ]
    },
    {
     "name": "stdout",
     "output_type": "stream",
     "text": [
      "INFO:tensorflow:Initialize variable module/MobilenetV2/expanded_conv_4/expand/BatchNorm/gamma:0 from checkpoint /tmp/tfhub_modules/2febfc4e01f38d50fac8ac922d87e18391e34060/variables/variables with MobilenetV2/expanded_conv_4/expand/BatchNorm/gamma\n"
     ]
    },
    {
     "name": "stderr",
     "output_type": "stream",
     "text": [
      "INFO:tensorflow:Initialize variable module/MobilenetV2/expanded_conv_4/expand/BatchNorm/gamma:0 from checkpoint /tmp/tfhub_modules/2febfc4e01f38d50fac8ac922d87e18391e34060/variables/variables with MobilenetV2/expanded_conv_4/expand/BatchNorm/gamma\n"
     ]
    },
    {
     "name": "stdout",
     "output_type": "stream",
     "text": [
      "INFO:tensorflow:Initialize variable module/MobilenetV2/expanded_conv_4/expand/BatchNorm/moving_mean:0 from checkpoint /tmp/tfhub_modules/2febfc4e01f38d50fac8ac922d87e18391e34060/variables/variables with MobilenetV2/expanded_conv_4/expand/BatchNorm/moving_mean\n"
     ]
    },
    {
     "name": "stderr",
     "output_type": "stream",
     "text": [
      "INFO:tensorflow:Initialize variable module/MobilenetV2/expanded_conv_4/expand/BatchNorm/moving_mean:0 from checkpoint /tmp/tfhub_modules/2febfc4e01f38d50fac8ac922d87e18391e34060/variables/variables with MobilenetV2/expanded_conv_4/expand/BatchNorm/moving_mean\n"
     ]
    },
    {
     "name": "stdout",
     "output_type": "stream",
     "text": [
      "INFO:tensorflow:Initialize variable module/MobilenetV2/expanded_conv_4/expand/BatchNorm/moving_variance:0 from checkpoint /tmp/tfhub_modules/2febfc4e01f38d50fac8ac922d87e18391e34060/variables/variables with MobilenetV2/expanded_conv_4/expand/BatchNorm/moving_variance\n"
     ]
    },
    {
     "name": "stderr",
     "output_type": "stream",
     "text": [
      "INFO:tensorflow:Initialize variable module/MobilenetV2/expanded_conv_4/expand/BatchNorm/moving_variance:0 from checkpoint /tmp/tfhub_modules/2febfc4e01f38d50fac8ac922d87e18391e34060/variables/variables with MobilenetV2/expanded_conv_4/expand/BatchNorm/moving_variance\n"
     ]
    },
    {
     "name": "stdout",
     "output_type": "stream",
     "text": [
      "INFO:tensorflow:Initialize variable module/MobilenetV2/expanded_conv_4/expand/weights:0 from checkpoint /tmp/tfhub_modules/2febfc4e01f38d50fac8ac922d87e18391e34060/variables/variables with MobilenetV2/expanded_conv_4/expand/weights\n"
     ]
    },
    {
     "name": "stderr",
     "output_type": "stream",
     "text": [
      "INFO:tensorflow:Initialize variable module/MobilenetV2/expanded_conv_4/expand/weights:0 from checkpoint /tmp/tfhub_modules/2febfc4e01f38d50fac8ac922d87e18391e34060/variables/variables with MobilenetV2/expanded_conv_4/expand/weights\n"
     ]
    },
    {
     "name": "stdout",
     "output_type": "stream",
     "text": [
      "INFO:tensorflow:Initialize variable module/MobilenetV2/expanded_conv_4/project/BatchNorm/beta:0 from checkpoint /tmp/tfhub_modules/2febfc4e01f38d50fac8ac922d87e18391e34060/variables/variables with MobilenetV2/expanded_conv_4/project/BatchNorm/beta\n"
     ]
    },
    {
     "name": "stderr",
     "output_type": "stream",
     "text": [
      "INFO:tensorflow:Initialize variable module/MobilenetV2/expanded_conv_4/project/BatchNorm/beta:0 from checkpoint /tmp/tfhub_modules/2febfc4e01f38d50fac8ac922d87e18391e34060/variables/variables with MobilenetV2/expanded_conv_4/project/BatchNorm/beta\n"
     ]
    },
    {
     "name": "stdout",
     "output_type": "stream",
     "text": [
      "INFO:tensorflow:Initialize variable module/MobilenetV2/expanded_conv_4/project/BatchNorm/gamma:0 from checkpoint /tmp/tfhub_modules/2febfc4e01f38d50fac8ac922d87e18391e34060/variables/variables with MobilenetV2/expanded_conv_4/project/BatchNorm/gamma\n"
     ]
    },
    {
     "name": "stderr",
     "output_type": "stream",
     "text": [
      "INFO:tensorflow:Initialize variable module/MobilenetV2/expanded_conv_4/project/BatchNorm/gamma:0 from checkpoint /tmp/tfhub_modules/2febfc4e01f38d50fac8ac922d87e18391e34060/variables/variables with MobilenetV2/expanded_conv_4/project/BatchNorm/gamma\n"
     ]
    },
    {
     "name": "stdout",
     "output_type": "stream",
     "text": [
      "INFO:tensorflow:Initialize variable module/MobilenetV2/expanded_conv_4/project/BatchNorm/moving_mean:0 from checkpoint /tmp/tfhub_modules/2febfc4e01f38d50fac8ac922d87e18391e34060/variables/variables with MobilenetV2/expanded_conv_4/project/BatchNorm/moving_mean\n"
     ]
    },
    {
     "name": "stderr",
     "output_type": "stream",
     "text": [
      "INFO:tensorflow:Initialize variable module/MobilenetV2/expanded_conv_4/project/BatchNorm/moving_mean:0 from checkpoint /tmp/tfhub_modules/2febfc4e01f38d50fac8ac922d87e18391e34060/variables/variables with MobilenetV2/expanded_conv_4/project/BatchNorm/moving_mean\n"
     ]
    },
    {
     "name": "stdout",
     "output_type": "stream",
     "text": [
      "INFO:tensorflow:Initialize variable module/MobilenetV2/expanded_conv_4/project/BatchNorm/moving_variance:0 from checkpoint /tmp/tfhub_modules/2febfc4e01f38d50fac8ac922d87e18391e34060/variables/variables with MobilenetV2/expanded_conv_4/project/BatchNorm/moving_variance\n"
     ]
    },
    {
     "name": "stderr",
     "output_type": "stream",
     "text": [
      "INFO:tensorflow:Initialize variable module/MobilenetV2/expanded_conv_4/project/BatchNorm/moving_variance:0 from checkpoint /tmp/tfhub_modules/2febfc4e01f38d50fac8ac922d87e18391e34060/variables/variables with MobilenetV2/expanded_conv_4/project/BatchNorm/moving_variance\n"
     ]
    },
    {
     "name": "stdout",
     "output_type": "stream",
     "text": [
      "INFO:tensorflow:Initialize variable module/MobilenetV2/expanded_conv_4/project/weights:0 from checkpoint /tmp/tfhub_modules/2febfc4e01f38d50fac8ac922d87e18391e34060/variables/variables with MobilenetV2/expanded_conv_4/project/weights\n"
     ]
    },
    {
     "name": "stderr",
     "output_type": "stream",
     "text": [
      "INFO:tensorflow:Initialize variable module/MobilenetV2/expanded_conv_4/project/weights:0 from checkpoint /tmp/tfhub_modules/2febfc4e01f38d50fac8ac922d87e18391e34060/variables/variables with MobilenetV2/expanded_conv_4/project/weights\n"
     ]
    },
    {
     "name": "stdout",
     "output_type": "stream",
     "text": [
      "INFO:tensorflow:Initialize variable module/MobilenetV2/expanded_conv_5/depthwise/BatchNorm/beta:0 from checkpoint /tmp/tfhub_modules/2febfc4e01f38d50fac8ac922d87e18391e34060/variables/variables with MobilenetV2/expanded_conv_5/depthwise/BatchNorm/beta\n"
     ]
    },
    {
     "name": "stderr",
     "output_type": "stream",
     "text": [
      "INFO:tensorflow:Initialize variable module/MobilenetV2/expanded_conv_5/depthwise/BatchNorm/beta:0 from checkpoint /tmp/tfhub_modules/2febfc4e01f38d50fac8ac922d87e18391e34060/variables/variables with MobilenetV2/expanded_conv_5/depthwise/BatchNorm/beta\n"
     ]
    },
    {
     "name": "stdout",
     "output_type": "stream",
     "text": [
      "INFO:tensorflow:Initialize variable module/MobilenetV2/expanded_conv_5/depthwise/BatchNorm/gamma:0 from checkpoint /tmp/tfhub_modules/2febfc4e01f38d50fac8ac922d87e18391e34060/variables/variables with MobilenetV2/expanded_conv_5/depthwise/BatchNorm/gamma\n"
     ]
    },
    {
     "name": "stderr",
     "output_type": "stream",
     "text": [
      "INFO:tensorflow:Initialize variable module/MobilenetV2/expanded_conv_5/depthwise/BatchNorm/gamma:0 from checkpoint /tmp/tfhub_modules/2febfc4e01f38d50fac8ac922d87e18391e34060/variables/variables with MobilenetV2/expanded_conv_5/depthwise/BatchNorm/gamma\n"
     ]
    },
    {
     "name": "stdout",
     "output_type": "stream",
     "text": [
      "INFO:tensorflow:Initialize variable module/MobilenetV2/expanded_conv_5/depthwise/BatchNorm/moving_mean:0 from checkpoint /tmp/tfhub_modules/2febfc4e01f38d50fac8ac922d87e18391e34060/variables/variables with MobilenetV2/expanded_conv_5/depthwise/BatchNorm/moving_mean\n"
     ]
    },
    {
     "name": "stderr",
     "output_type": "stream",
     "text": [
      "INFO:tensorflow:Initialize variable module/MobilenetV2/expanded_conv_5/depthwise/BatchNorm/moving_mean:0 from checkpoint /tmp/tfhub_modules/2febfc4e01f38d50fac8ac922d87e18391e34060/variables/variables with MobilenetV2/expanded_conv_5/depthwise/BatchNorm/moving_mean\n"
     ]
    },
    {
     "name": "stdout",
     "output_type": "stream",
     "text": [
      "INFO:tensorflow:Initialize variable module/MobilenetV2/expanded_conv_5/depthwise/BatchNorm/moving_variance:0 from checkpoint /tmp/tfhub_modules/2febfc4e01f38d50fac8ac922d87e18391e34060/variables/variables with MobilenetV2/expanded_conv_5/depthwise/BatchNorm/moving_variance\n"
     ]
    },
    {
     "name": "stderr",
     "output_type": "stream",
     "text": [
      "INFO:tensorflow:Initialize variable module/MobilenetV2/expanded_conv_5/depthwise/BatchNorm/moving_variance:0 from checkpoint /tmp/tfhub_modules/2febfc4e01f38d50fac8ac922d87e18391e34060/variables/variables with MobilenetV2/expanded_conv_5/depthwise/BatchNorm/moving_variance\n"
     ]
    },
    {
     "name": "stdout",
     "output_type": "stream",
     "text": [
      "INFO:tensorflow:Initialize variable module/MobilenetV2/expanded_conv_5/depthwise/depthwise_weights:0 from checkpoint /tmp/tfhub_modules/2febfc4e01f38d50fac8ac922d87e18391e34060/variables/variables with MobilenetV2/expanded_conv_5/depthwise/depthwise_weights\n"
     ]
    },
    {
     "name": "stderr",
     "output_type": "stream",
     "text": [
      "INFO:tensorflow:Initialize variable module/MobilenetV2/expanded_conv_5/depthwise/depthwise_weights:0 from checkpoint /tmp/tfhub_modules/2febfc4e01f38d50fac8ac922d87e18391e34060/variables/variables with MobilenetV2/expanded_conv_5/depthwise/depthwise_weights\n"
     ]
    },
    {
     "name": "stdout",
     "output_type": "stream",
     "text": [
      "INFO:tensorflow:Initialize variable module/MobilenetV2/expanded_conv_5/expand/BatchNorm/beta:0 from checkpoint /tmp/tfhub_modules/2febfc4e01f38d50fac8ac922d87e18391e34060/variables/variables with MobilenetV2/expanded_conv_5/expand/BatchNorm/beta\n"
     ]
    },
    {
     "name": "stderr",
     "output_type": "stream",
     "text": [
      "INFO:tensorflow:Initialize variable module/MobilenetV2/expanded_conv_5/expand/BatchNorm/beta:0 from checkpoint /tmp/tfhub_modules/2febfc4e01f38d50fac8ac922d87e18391e34060/variables/variables with MobilenetV2/expanded_conv_5/expand/BatchNorm/beta\n"
     ]
    },
    {
     "name": "stdout",
     "output_type": "stream",
     "text": [
      "INFO:tensorflow:Initialize variable module/MobilenetV2/expanded_conv_5/expand/BatchNorm/gamma:0 from checkpoint /tmp/tfhub_modules/2febfc4e01f38d50fac8ac922d87e18391e34060/variables/variables with MobilenetV2/expanded_conv_5/expand/BatchNorm/gamma\n"
     ]
    },
    {
     "name": "stderr",
     "output_type": "stream",
     "text": [
      "INFO:tensorflow:Initialize variable module/MobilenetV2/expanded_conv_5/expand/BatchNorm/gamma:0 from checkpoint /tmp/tfhub_modules/2febfc4e01f38d50fac8ac922d87e18391e34060/variables/variables with MobilenetV2/expanded_conv_5/expand/BatchNorm/gamma\n"
     ]
    },
    {
     "name": "stdout",
     "output_type": "stream",
     "text": [
      "INFO:tensorflow:Initialize variable module/MobilenetV2/expanded_conv_5/expand/BatchNorm/moving_mean:0 from checkpoint /tmp/tfhub_modules/2febfc4e01f38d50fac8ac922d87e18391e34060/variables/variables with MobilenetV2/expanded_conv_5/expand/BatchNorm/moving_mean\n"
     ]
    },
    {
     "name": "stderr",
     "output_type": "stream",
     "text": [
      "INFO:tensorflow:Initialize variable module/MobilenetV2/expanded_conv_5/expand/BatchNorm/moving_mean:0 from checkpoint /tmp/tfhub_modules/2febfc4e01f38d50fac8ac922d87e18391e34060/variables/variables with MobilenetV2/expanded_conv_5/expand/BatchNorm/moving_mean\n"
     ]
    },
    {
     "name": "stdout",
     "output_type": "stream",
     "text": [
      "INFO:tensorflow:Initialize variable module/MobilenetV2/expanded_conv_5/expand/BatchNorm/moving_variance:0 from checkpoint /tmp/tfhub_modules/2febfc4e01f38d50fac8ac922d87e18391e34060/variables/variables with MobilenetV2/expanded_conv_5/expand/BatchNorm/moving_variance\n"
     ]
    },
    {
     "name": "stderr",
     "output_type": "stream",
     "text": [
      "INFO:tensorflow:Initialize variable module/MobilenetV2/expanded_conv_5/expand/BatchNorm/moving_variance:0 from checkpoint /tmp/tfhub_modules/2febfc4e01f38d50fac8ac922d87e18391e34060/variables/variables with MobilenetV2/expanded_conv_5/expand/BatchNorm/moving_variance\n"
     ]
    },
    {
     "name": "stdout",
     "output_type": "stream",
     "text": [
      "INFO:tensorflow:Initialize variable module/MobilenetV2/expanded_conv_5/expand/weights:0 from checkpoint /tmp/tfhub_modules/2febfc4e01f38d50fac8ac922d87e18391e34060/variables/variables with MobilenetV2/expanded_conv_5/expand/weights\n"
     ]
    },
    {
     "name": "stderr",
     "output_type": "stream",
     "text": [
      "INFO:tensorflow:Initialize variable module/MobilenetV2/expanded_conv_5/expand/weights:0 from checkpoint /tmp/tfhub_modules/2febfc4e01f38d50fac8ac922d87e18391e34060/variables/variables with MobilenetV2/expanded_conv_5/expand/weights\n"
     ]
    },
    {
     "name": "stdout",
     "output_type": "stream",
     "text": [
      "INFO:tensorflow:Initialize variable module/MobilenetV2/expanded_conv_5/project/BatchNorm/beta:0 from checkpoint /tmp/tfhub_modules/2febfc4e01f38d50fac8ac922d87e18391e34060/variables/variables with MobilenetV2/expanded_conv_5/project/BatchNorm/beta\n"
     ]
    },
    {
     "name": "stderr",
     "output_type": "stream",
     "text": [
      "INFO:tensorflow:Initialize variable module/MobilenetV2/expanded_conv_5/project/BatchNorm/beta:0 from checkpoint /tmp/tfhub_modules/2febfc4e01f38d50fac8ac922d87e18391e34060/variables/variables with MobilenetV2/expanded_conv_5/project/BatchNorm/beta\n"
     ]
    },
    {
     "name": "stdout",
     "output_type": "stream",
     "text": [
      "INFO:tensorflow:Initialize variable module/MobilenetV2/expanded_conv_5/project/BatchNorm/gamma:0 from checkpoint /tmp/tfhub_modules/2febfc4e01f38d50fac8ac922d87e18391e34060/variables/variables with MobilenetV2/expanded_conv_5/project/BatchNorm/gamma\n"
     ]
    },
    {
     "name": "stderr",
     "output_type": "stream",
     "text": [
      "INFO:tensorflow:Initialize variable module/MobilenetV2/expanded_conv_5/project/BatchNorm/gamma:0 from checkpoint /tmp/tfhub_modules/2febfc4e01f38d50fac8ac922d87e18391e34060/variables/variables with MobilenetV2/expanded_conv_5/project/BatchNorm/gamma\n"
     ]
    },
    {
     "name": "stdout",
     "output_type": "stream",
     "text": [
      "INFO:tensorflow:Initialize variable module/MobilenetV2/expanded_conv_5/project/BatchNorm/moving_mean:0 from checkpoint /tmp/tfhub_modules/2febfc4e01f38d50fac8ac922d87e18391e34060/variables/variables with MobilenetV2/expanded_conv_5/project/BatchNorm/moving_mean\n"
     ]
    },
    {
     "name": "stderr",
     "output_type": "stream",
     "text": [
      "INFO:tensorflow:Initialize variable module/MobilenetV2/expanded_conv_5/project/BatchNorm/moving_mean:0 from checkpoint /tmp/tfhub_modules/2febfc4e01f38d50fac8ac922d87e18391e34060/variables/variables with MobilenetV2/expanded_conv_5/project/BatchNorm/moving_mean\n"
     ]
    },
    {
     "name": "stdout",
     "output_type": "stream",
     "text": [
      "INFO:tensorflow:Initialize variable module/MobilenetV2/expanded_conv_5/project/BatchNorm/moving_variance:0 from checkpoint /tmp/tfhub_modules/2febfc4e01f38d50fac8ac922d87e18391e34060/variables/variables with MobilenetV2/expanded_conv_5/project/BatchNorm/moving_variance\n"
     ]
    },
    {
     "name": "stderr",
     "output_type": "stream",
     "text": [
      "INFO:tensorflow:Initialize variable module/MobilenetV2/expanded_conv_5/project/BatchNorm/moving_variance:0 from checkpoint /tmp/tfhub_modules/2febfc4e01f38d50fac8ac922d87e18391e34060/variables/variables with MobilenetV2/expanded_conv_5/project/BatchNorm/moving_variance\n"
     ]
    },
    {
     "name": "stdout",
     "output_type": "stream",
     "text": [
      "INFO:tensorflow:Initialize variable module/MobilenetV2/expanded_conv_5/project/weights:0 from checkpoint /tmp/tfhub_modules/2febfc4e01f38d50fac8ac922d87e18391e34060/variables/variables with MobilenetV2/expanded_conv_5/project/weights\n"
     ]
    },
    {
     "name": "stderr",
     "output_type": "stream",
     "text": [
      "INFO:tensorflow:Initialize variable module/MobilenetV2/expanded_conv_5/project/weights:0 from checkpoint /tmp/tfhub_modules/2febfc4e01f38d50fac8ac922d87e18391e34060/variables/variables with MobilenetV2/expanded_conv_5/project/weights\n"
     ]
    },
    {
     "name": "stdout",
     "output_type": "stream",
     "text": [
      "INFO:tensorflow:Initialize variable module/MobilenetV2/expanded_conv_6/depthwise/BatchNorm/beta:0 from checkpoint /tmp/tfhub_modules/2febfc4e01f38d50fac8ac922d87e18391e34060/variables/variables with MobilenetV2/expanded_conv_6/depthwise/BatchNorm/beta\n"
     ]
    },
    {
     "name": "stderr",
     "output_type": "stream",
     "text": [
      "INFO:tensorflow:Initialize variable module/MobilenetV2/expanded_conv_6/depthwise/BatchNorm/beta:0 from checkpoint /tmp/tfhub_modules/2febfc4e01f38d50fac8ac922d87e18391e34060/variables/variables with MobilenetV2/expanded_conv_6/depthwise/BatchNorm/beta\n"
     ]
    },
    {
     "name": "stdout",
     "output_type": "stream",
     "text": [
      "INFO:tensorflow:Initialize variable module/MobilenetV2/expanded_conv_6/depthwise/BatchNorm/gamma:0 from checkpoint /tmp/tfhub_modules/2febfc4e01f38d50fac8ac922d87e18391e34060/variables/variables with MobilenetV2/expanded_conv_6/depthwise/BatchNorm/gamma\n"
     ]
    },
    {
     "name": "stderr",
     "output_type": "stream",
     "text": [
      "INFO:tensorflow:Initialize variable module/MobilenetV2/expanded_conv_6/depthwise/BatchNorm/gamma:0 from checkpoint /tmp/tfhub_modules/2febfc4e01f38d50fac8ac922d87e18391e34060/variables/variables with MobilenetV2/expanded_conv_6/depthwise/BatchNorm/gamma\n"
     ]
    },
    {
     "name": "stdout",
     "output_type": "stream",
     "text": [
      "INFO:tensorflow:Initialize variable module/MobilenetV2/expanded_conv_6/depthwise/BatchNorm/moving_mean:0 from checkpoint /tmp/tfhub_modules/2febfc4e01f38d50fac8ac922d87e18391e34060/variables/variables with MobilenetV2/expanded_conv_6/depthwise/BatchNorm/moving_mean\n"
     ]
    },
    {
     "name": "stderr",
     "output_type": "stream",
     "text": [
      "INFO:tensorflow:Initialize variable module/MobilenetV2/expanded_conv_6/depthwise/BatchNorm/moving_mean:0 from checkpoint /tmp/tfhub_modules/2febfc4e01f38d50fac8ac922d87e18391e34060/variables/variables with MobilenetV2/expanded_conv_6/depthwise/BatchNorm/moving_mean\n"
     ]
    },
    {
     "name": "stdout",
     "output_type": "stream",
     "text": [
      "INFO:tensorflow:Initialize variable module/MobilenetV2/expanded_conv_6/depthwise/BatchNorm/moving_variance:0 from checkpoint /tmp/tfhub_modules/2febfc4e01f38d50fac8ac922d87e18391e34060/variables/variables with MobilenetV2/expanded_conv_6/depthwise/BatchNorm/moving_variance\n"
     ]
    },
    {
     "name": "stderr",
     "output_type": "stream",
     "text": [
      "INFO:tensorflow:Initialize variable module/MobilenetV2/expanded_conv_6/depthwise/BatchNorm/moving_variance:0 from checkpoint /tmp/tfhub_modules/2febfc4e01f38d50fac8ac922d87e18391e34060/variables/variables with MobilenetV2/expanded_conv_6/depthwise/BatchNorm/moving_variance\n"
     ]
    },
    {
     "name": "stdout",
     "output_type": "stream",
     "text": [
      "INFO:tensorflow:Initialize variable module/MobilenetV2/expanded_conv_6/depthwise/depthwise_weights:0 from checkpoint /tmp/tfhub_modules/2febfc4e01f38d50fac8ac922d87e18391e34060/variables/variables with MobilenetV2/expanded_conv_6/depthwise/depthwise_weights\n"
     ]
    },
    {
     "name": "stderr",
     "output_type": "stream",
     "text": [
      "INFO:tensorflow:Initialize variable module/MobilenetV2/expanded_conv_6/depthwise/depthwise_weights:0 from checkpoint /tmp/tfhub_modules/2febfc4e01f38d50fac8ac922d87e18391e34060/variables/variables with MobilenetV2/expanded_conv_6/depthwise/depthwise_weights\n"
     ]
    },
    {
     "name": "stdout",
     "output_type": "stream",
     "text": [
      "INFO:tensorflow:Initialize variable module/MobilenetV2/expanded_conv_6/expand/BatchNorm/beta:0 from checkpoint /tmp/tfhub_modules/2febfc4e01f38d50fac8ac922d87e18391e34060/variables/variables with MobilenetV2/expanded_conv_6/expand/BatchNorm/beta\n"
     ]
    },
    {
     "name": "stderr",
     "output_type": "stream",
     "text": [
      "INFO:tensorflow:Initialize variable module/MobilenetV2/expanded_conv_6/expand/BatchNorm/beta:0 from checkpoint /tmp/tfhub_modules/2febfc4e01f38d50fac8ac922d87e18391e34060/variables/variables with MobilenetV2/expanded_conv_6/expand/BatchNorm/beta\n"
     ]
    },
    {
     "name": "stdout",
     "output_type": "stream",
     "text": [
      "INFO:tensorflow:Initialize variable module/MobilenetV2/expanded_conv_6/expand/BatchNorm/gamma:0 from checkpoint /tmp/tfhub_modules/2febfc4e01f38d50fac8ac922d87e18391e34060/variables/variables with MobilenetV2/expanded_conv_6/expand/BatchNorm/gamma\n"
     ]
    },
    {
     "name": "stderr",
     "output_type": "stream",
     "text": [
      "INFO:tensorflow:Initialize variable module/MobilenetV2/expanded_conv_6/expand/BatchNorm/gamma:0 from checkpoint /tmp/tfhub_modules/2febfc4e01f38d50fac8ac922d87e18391e34060/variables/variables with MobilenetV2/expanded_conv_6/expand/BatchNorm/gamma\n"
     ]
    },
    {
     "name": "stdout",
     "output_type": "stream",
     "text": [
      "INFO:tensorflow:Initialize variable module/MobilenetV2/expanded_conv_6/expand/BatchNorm/moving_mean:0 from checkpoint /tmp/tfhub_modules/2febfc4e01f38d50fac8ac922d87e18391e34060/variables/variables with MobilenetV2/expanded_conv_6/expand/BatchNorm/moving_mean\n"
     ]
    },
    {
     "name": "stderr",
     "output_type": "stream",
     "text": [
      "INFO:tensorflow:Initialize variable module/MobilenetV2/expanded_conv_6/expand/BatchNorm/moving_mean:0 from checkpoint /tmp/tfhub_modules/2febfc4e01f38d50fac8ac922d87e18391e34060/variables/variables with MobilenetV2/expanded_conv_6/expand/BatchNorm/moving_mean\n"
     ]
    },
    {
     "name": "stdout",
     "output_type": "stream",
     "text": [
      "INFO:tensorflow:Initialize variable module/MobilenetV2/expanded_conv_6/expand/BatchNorm/moving_variance:0 from checkpoint /tmp/tfhub_modules/2febfc4e01f38d50fac8ac922d87e18391e34060/variables/variables with MobilenetV2/expanded_conv_6/expand/BatchNorm/moving_variance\n"
     ]
    },
    {
     "name": "stderr",
     "output_type": "stream",
     "text": [
      "INFO:tensorflow:Initialize variable module/MobilenetV2/expanded_conv_6/expand/BatchNorm/moving_variance:0 from checkpoint /tmp/tfhub_modules/2febfc4e01f38d50fac8ac922d87e18391e34060/variables/variables with MobilenetV2/expanded_conv_6/expand/BatchNorm/moving_variance\n"
     ]
    },
    {
     "name": "stdout",
     "output_type": "stream",
     "text": [
      "INFO:tensorflow:Initialize variable module/MobilenetV2/expanded_conv_6/expand/weights:0 from checkpoint /tmp/tfhub_modules/2febfc4e01f38d50fac8ac922d87e18391e34060/variables/variables with MobilenetV2/expanded_conv_6/expand/weights\n"
     ]
    },
    {
     "name": "stderr",
     "output_type": "stream",
     "text": [
      "INFO:tensorflow:Initialize variable module/MobilenetV2/expanded_conv_6/expand/weights:0 from checkpoint /tmp/tfhub_modules/2febfc4e01f38d50fac8ac922d87e18391e34060/variables/variables with MobilenetV2/expanded_conv_6/expand/weights\n"
     ]
    },
    {
     "name": "stdout",
     "output_type": "stream",
     "text": [
      "INFO:tensorflow:Initialize variable module/MobilenetV2/expanded_conv_6/project/BatchNorm/beta:0 from checkpoint /tmp/tfhub_modules/2febfc4e01f38d50fac8ac922d87e18391e34060/variables/variables with MobilenetV2/expanded_conv_6/project/BatchNorm/beta\n"
     ]
    },
    {
     "name": "stderr",
     "output_type": "stream",
     "text": [
      "INFO:tensorflow:Initialize variable module/MobilenetV2/expanded_conv_6/project/BatchNorm/beta:0 from checkpoint /tmp/tfhub_modules/2febfc4e01f38d50fac8ac922d87e18391e34060/variables/variables with MobilenetV2/expanded_conv_6/project/BatchNorm/beta\n"
     ]
    },
    {
     "name": "stdout",
     "output_type": "stream",
     "text": [
      "INFO:tensorflow:Initialize variable module/MobilenetV2/expanded_conv_6/project/BatchNorm/gamma:0 from checkpoint /tmp/tfhub_modules/2febfc4e01f38d50fac8ac922d87e18391e34060/variables/variables with MobilenetV2/expanded_conv_6/project/BatchNorm/gamma\n"
     ]
    },
    {
     "name": "stderr",
     "output_type": "stream",
     "text": [
      "INFO:tensorflow:Initialize variable module/MobilenetV2/expanded_conv_6/project/BatchNorm/gamma:0 from checkpoint /tmp/tfhub_modules/2febfc4e01f38d50fac8ac922d87e18391e34060/variables/variables with MobilenetV2/expanded_conv_6/project/BatchNorm/gamma\n"
     ]
    },
    {
     "name": "stdout",
     "output_type": "stream",
     "text": [
      "INFO:tensorflow:Initialize variable module/MobilenetV2/expanded_conv_6/project/BatchNorm/moving_mean:0 from checkpoint /tmp/tfhub_modules/2febfc4e01f38d50fac8ac922d87e18391e34060/variables/variables with MobilenetV2/expanded_conv_6/project/BatchNorm/moving_mean\n"
     ]
    },
    {
     "name": "stderr",
     "output_type": "stream",
     "text": [
      "INFO:tensorflow:Initialize variable module/MobilenetV2/expanded_conv_6/project/BatchNorm/moving_mean:0 from checkpoint /tmp/tfhub_modules/2febfc4e01f38d50fac8ac922d87e18391e34060/variables/variables with MobilenetV2/expanded_conv_6/project/BatchNorm/moving_mean\n"
     ]
    },
    {
     "name": "stdout",
     "output_type": "stream",
     "text": [
      "INFO:tensorflow:Initialize variable module/MobilenetV2/expanded_conv_6/project/BatchNorm/moving_variance:0 from checkpoint /tmp/tfhub_modules/2febfc4e01f38d50fac8ac922d87e18391e34060/variables/variables with MobilenetV2/expanded_conv_6/project/BatchNorm/moving_variance\n"
     ]
    },
    {
     "name": "stderr",
     "output_type": "stream",
     "text": [
      "INFO:tensorflow:Initialize variable module/MobilenetV2/expanded_conv_6/project/BatchNorm/moving_variance:0 from checkpoint /tmp/tfhub_modules/2febfc4e01f38d50fac8ac922d87e18391e34060/variables/variables with MobilenetV2/expanded_conv_6/project/BatchNorm/moving_variance\n"
     ]
    },
    {
     "name": "stdout",
     "output_type": "stream",
     "text": [
      "INFO:tensorflow:Initialize variable module/MobilenetV2/expanded_conv_6/project/weights:0 from checkpoint /tmp/tfhub_modules/2febfc4e01f38d50fac8ac922d87e18391e34060/variables/variables with MobilenetV2/expanded_conv_6/project/weights\n"
     ]
    },
    {
     "name": "stderr",
     "output_type": "stream",
     "text": [
      "INFO:tensorflow:Initialize variable module/MobilenetV2/expanded_conv_6/project/weights:0 from checkpoint /tmp/tfhub_modules/2febfc4e01f38d50fac8ac922d87e18391e34060/variables/variables with MobilenetV2/expanded_conv_6/project/weights\n"
     ]
    },
    {
     "name": "stdout",
     "output_type": "stream",
     "text": [
      "INFO:tensorflow:Initialize variable module/MobilenetV2/expanded_conv_7/depthwise/BatchNorm/beta:0 from checkpoint /tmp/tfhub_modules/2febfc4e01f38d50fac8ac922d87e18391e34060/variables/variables with MobilenetV2/expanded_conv_7/depthwise/BatchNorm/beta\n"
     ]
    },
    {
     "name": "stderr",
     "output_type": "stream",
     "text": [
      "INFO:tensorflow:Initialize variable module/MobilenetV2/expanded_conv_7/depthwise/BatchNorm/beta:0 from checkpoint /tmp/tfhub_modules/2febfc4e01f38d50fac8ac922d87e18391e34060/variables/variables with MobilenetV2/expanded_conv_7/depthwise/BatchNorm/beta\n"
     ]
    },
    {
     "name": "stdout",
     "output_type": "stream",
     "text": [
      "INFO:tensorflow:Initialize variable module/MobilenetV2/expanded_conv_7/depthwise/BatchNorm/gamma:0 from checkpoint /tmp/tfhub_modules/2febfc4e01f38d50fac8ac922d87e18391e34060/variables/variables with MobilenetV2/expanded_conv_7/depthwise/BatchNorm/gamma\n"
     ]
    },
    {
     "name": "stderr",
     "output_type": "stream",
     "text": [
      "INFO:tensorflow:Initialize variable module/MobilenetV2/expanded_conv_7/depthwise/BatchNorm/gamma:0 from checkpoint /tmp/tfhub_modules/2febfc4e01f38d50fac8ac922d87e18391e34060/variables/variables with MobilenetV2/expanded_conv_7/depthwise/BatchNorm/gamma\n"
     ]
    },
    {
     "name": "stdout",
     "output_type": "stream",
     "text": [
      "INFO:tensorflow:Initialize variable module/MobilenetV2/expanded_conv_7/depthwise/BatchNorm/moving_mean:0 from checkpoint /tmp/tfhub_modules/2febfc4e01f38d50fac8ac922d87e18391e34060/variables/variables with MobilenetV2/expanded_conv_7/depthwise/BatchNorm/moving_mean\n"
     ]
    },
    {
     "name": "stderr",
     "output_type": "stream",
     "text": [
      "INFO:tensorflow:Initialize variable module/MobilenetV2/expanded_conv_7/depthwise/BatchNorm/moving_mean:0 from checkpoint /tmp/tfhub_modules/2febfc4e01f38d50fac8ac922d87e18391e34060/variables/variables with MobilenetV2/expanded_conv_7/depthwise/BatchNorm/moving_mean\n"
     ]
    },
    {
     "name": "stdout",
     "output_type": "stream",
     "text": [
      "INFO:tensorflow:Initialize variable module/MobilenetV2/expanded_conv_7/depthwise/BatchNorm/moving_variance:0 from checkpoint /tmp/tfhub_modules/2febfc4e01f38d50fac8ac922d87e18391e34060/variables/variables with MobilenetV2/expanded_conv_7/depthwise/BatchNorm/moving_variance\n"
     ]
    },
    {
     "name": "stderr",
     "output_type": "stream",
     "text": [
      "INFO:tensorflow:Initialize variable module/MobilenetV2/expanded_conv_7/depthwise/BatchNorm/moving_variance:0 from checkpoint /tmp/tfhub_modules/2febfc4e01f38d50fac8ac922d87e18391e34060/variables/variables with MobilenetV2/expanded_conv_7/depthwise/BatchNorm/moving_variance\n"
     ]
    },
    {
     "name": "stdout",
     "output_type": "stream",
     "text": [
      "INFO:tensorflow:Initialize variable module/MobilenetV2/expanded_conv_7/depthwise/depthwise_weights:0 from checkpoint /tmp/tfhub_modules/2febfc4e01f38d50fac8ac922d87e18391e34060/variables/variables with MobilenetV2/expanded_conv_7/depthwise/depthwise_weights\n"
     ]
    },
    {
     "name": "stderr",
     "output_type": "stream",
     "text": [
      "INFO:tensorflow:Initialize variable module/MobilenetV2/expanded_conv_7/depthwise/depthwise_weights:0 from checkpoint /tmp/tfhub_modules/2febfc4e01f38d50fac8ac922d87e18391e34060/variables/variables with MobilenetV2/expanded_conv_7/depthwise/depthwise_weights\n"
     ]
    },
    {
     "name": "stdout",
     "output_type": "stream",
     "text": [
      "INFO:tensorflow:Initialize variable module/MobilenetV2/expanded_conv_7/expand/BatchNorm/beta:0 from checkpoint /tmp/tfhub_modules/2febfc4e01f38d50fac8ac922d87e18391e34060/variables/variables with MobilenetV2/expanded_conv_7/expand/BatchNorm/beta\n"
     ]
    },
    {
     "name": "stderr",
     "output_type": "stream",
     "text": [
      "INFO:tensorflow:Initialize variable module/MobilenetV2/expanded_conv_7/expand/BatchNorm/beta:0 from checkpoint /tmp/tfhub_modules/2febfc4e01f38d50fac8ac922d87e18391e34060/variables/variables with MobilenetV2/expanded_conv_7/expand/BatchNorm/beta\n"
     ]
    },
    {
     "name": "stdout",
     "output_type": "stream",
     "text": [
      "INFO:tensorflow:Initialize variable module/MobilenetV2/expanded_conv_7/expand/BatchNorm/gamma:0 from checkpoint /tmp/tfhub_modules/2febfc4e01f38d50fac8ac922d87e18391e34060/variables/variables with MobilenetV2/expanded_conv_7/expand/BatchNorm/gamma\n"
     ]
    },
    {
     "name": "stderr",
     "output_type": "stream",
     "text": [
      "INFO:tensorflow:Initialize variable module/MobilenetV2/expanded_conv_7/expand/BatchNorm/gamma:0 from checkpoint /tmp/tfhub_modules/2febfc4e01f38d50fac8ac922d87e18391e34060/variables/variables with MobilenetV2/expanded_conv_7/expand/BatchNorm/gamma\n"
     ]
    },
    {
     "name": "stdout",
     "output_type": "stream",
     "text": [
      "INFO:tensorflow:Initialize variable module/MobilenetV2/expanded_conv_7/expand/BatchNorm/moving_mean:0 from checkpoint /tmp/tfhub_modules/2febfc4e01f38d50fac8ac922d87e18391e34060/variables/variables with MobilenetV2/expanded_conv_7/expand/BatchNorm/moving_mean\n"
     ]
    },
    {
     "name": "stderr",
     "output_type": "stream",
     "text": [
      "INFO:tensorflow:Initialize variable module/MobilenetV2/expanded_conv_7/expand/BatchNorm/moving_mean:0 from checkpoint /tmp/tfhub_modules/2febfc4e01f38d50fac8ac922d87e18391e34060/variables/variables with MobilenetV2/expanded_conv_7/expand/BatchNorm/moving_mean\n"
     ]
    },
    {
     "name": "stdout",
     "output_type": "stream",
     "text": [
      "INFO:tensorflow:Initialize variable module/MobilenetV2/expanded_conv_7/expand/BatchNorm/moving_variance:0 from checkpoint /tmp/tfhub_modules/2febfc4e01f38d50fac8ac922d87e18391e34060/variables/variables with MobilenetV2/expanded_conv_7/expand/BatchNorm/moving_variance\n"
     ]
    },
    {
     "name": "stderr",
     "output_type": "stream",
     "text": [
      "INFO:tensorflow:Initialize variable module/MobilenetV2/expanded_conv_7/expand/BatchNorm/moving_variance:0 from checkpoint /tmp/tfhub_modules/2febfc4e01f38d50fac8ac922d87e18391e34060/variables/variables with MobilenetV2/expanded_conv_7/expand/BatchNorm/moving_variance\n"
     ]
    },
    {
     "name": "stdout",
     "output_type": "stream",
     "text": [
      "INFO:tensorflow:Initialize variable module/MobilenetV2/expanded_conv_7/expand/weights:0 from checkpoint /tmp/tfhub_modules/2febfc4e01f38d50fac8ac922d87e18391e34060/variables/variables with MobilenetV2/expanded_conv_7/expand/weights\n"
     ]
    },
    {
     "name": "stderr",
     "output_type": "stream",
     "text": [
      "INFO:tensorflow:Initialize variable module/MobilenetV2/expanded_conv_7/expand/weights:0 from checkpoint /tmp/tfhub_modules/2febfc4e01f38d50fac8ac922d87e18391e34060/variables/variables with MobilenetV2/expanded_conv_7/expand/weights\n"
     ]
    },
    {
     "name": "stdout",
     "output_type": "stream",
     "text": [
      "INFO:tensorflow:Initialize variable module/MobilenetV2/expanded_conv_7/project/BatchNorm/beta:0 from checkpoint /tmp/tfhub_modules/2febfc4e01f38d50fac8ac922d87e18391e34060/variables/variables with MobilenetV2/expanded_conv_7/project/BatchNorm/beta\n"
     ]
    },
    {
     "name": "stderr",
     "output_type": "stream",
     "text": [
      "INFO:tensorflow:Initialize variable module/MobilenetV2/expanded_conv_7/project/BatchNorm/beta:0 from checkpoint /tmp/tfhub_modules/2febfc4e01f38d50fac8ac922d87e18391e34060/variables/variables with MobilenetV2/expanded_conv_7/project/BatchNorm/beta\n"
     ]
    },
    {
     "name": "stdout",
     "output_type": "stream",
     "text": [
      "INFO:tensorflow:Initialize variable module/MobilenetV2/expanded_conv_7/project/BatchNorm/gamma:0 from checkpoint /tmp/tfhub_modules/2febfc4e01f38d50fac8ac922d87e18391e34060/variables/variables with MobilenetV2/expanded_conv_7/project/BatchNorm/gamma\n"
     ]
    },
    {
     "name": "stderr",
     "output_type": "stream",
     "text": [
      "INFO:tensorflow:Initialize variable module/MobilenetV2/expanded_conv_7/project/BatchNorm/gamma:0 from checkpoint /tmp/tfhub_modules/2febfc4e01f38d50fac8ac922d87e18391e34060/variables/variables with MobilenetV2/expanded_conv_7/project/BatchNorm/gamma\n"
     ]
    },
    {
     "name": "stdout",
     "output_type": "stream",
     "text": [
      "INFO:tensorflow:Initialize variable module/MobilenetV2/expanded_conv_7/project/BatchNorm/moving_mean:0 from checkpoint /tmp/tfhub_modules/2febfc4e01f38d50fac8ac922d87e18391e34060/variables/variables with MobilenetV2/expanded_conv_7/project/BatchNorm/moving_mean\n"
     ]
    },
    {
     "name": "stderr",
     "output_type": "stream",
     "text": [
      "INFO:tensorflow:Initialize variable module/MobilenetV2/expanded_conv_7/project/BatchNorm/moving_mean:0 from checkpoint /tmp/tfhub_modules/2febfc4e01f38d50fac8ac922d87e18391e34060/variables/variables with MobilenetV2/expanded_conv_7/project/BatchNorm/moving_mean\n"
     ]
    },
    {
     "name": "stdout",
     "output_type": "stream",
     "text": [
      "INFO:tensorflow:Initialize variable module/MobilenetV2/expanded_conv_7/project/BatchNorm/moving_variance:0 from checkpoint /tmp/tfhub_modules/2febfc4e01f38d50fac8ac922d87e18391e34060/variables/variables with MobilenetV2/expanded_conv_7/project/BatchNorm/moving_variance\n"
     ]
    },
    {
     "name": "stderr",
     "output_type": "stream",
     "text": [
      "INFO:tensorflow:Initialize variable module/MobilenetV2/expanded_conv_7/project/BatchNorm/moving_variance:0 from checkpoint /tmp/tfhub_modules/2febfc4e01f38d50fac8ac922d87e18391e34060/variables/variables with MobilenetV2/expanded_conv_7/project/BatchNorm/moving_variance\n"
     ]
    },
    {
     "name": "stdout",
     "output_type": "stream",
     "text": [
      "INFO:tensorflow:Initialize variable module/MobilenetV2/expanded_conv_7/project/weights:0 from checkpoint /tmp/tfhub_modules/2febfc4e01f38d50fac8ac922d87e18391e34060/variables/variables with MobilenetV2/expanded_conv_7/project/weights\n"
     ]
    },
    {
     "name": "stderr",
     "output_type": "stream",
     "text": [
      "INFO:tensorflow:Initialize variable module/MobilenetV2/expanded_conv_7/project/weights:0 from checkpoint /tmp/tfhub_modules/2febfc4e01f38d50fac8ac922d87e18391e34060/variables/variables with MobilenetV2/expanded_conv_7/project/weights\n"
     ]
    },
    {
     "name": "stdout",
     "output_type": "stream",
     "text": [
      "INFO:tensorflow:Initialize variable module/MobilenetV2/expanded_conv_8/depthwise/BatchNorm/beta:0 from checkpoint /tmp/tfhub_modules/2febfc4e01f38d50fac8ac922d87e18391e34060/variables/variables with MobilenetV2/expanded_conv_8/depthwise/BatchNorm/beta\n"
     ]
    },
    {
     "name": "stderr",
     "output_type": "stream",
     "text": [
      "INFO:tensorflow:Initialize variable module/MobilenetV2/expanded_conv_8/depthwise/BatchNorm/beta:0 from checkpoint /tmp/tfhub_modules/2febfc4e01f38d50fac8ac922d87e18391e34060/variables/variables with MobilenetV2/expanded_conv_8/depthwise/BatchNorm/beta\n"
     ]
    },
    {
     "name": "stdout",
     "output_type": "stream",
     "text": [
      "INFO:tensorflow:Initialize variable module/MobilenetV2/expanded_conv_8/depthwise/BatchNorm/gamma:0 from checkpoint /tmp/tfhub_modules/2febfc4e01f38d50fac8ac922d87e18391e34060/variables/variables with MobilenetV2/expanded_conv_8/depthwise/BatchNorm/gamma\n"
     ]
    },
    {
     "name": "stderr",
     "output_type": "stream",
     "text": [
      "INFO:tensorflow:Initialize variable module/MobilenetV2/expanded_conv_8/depthwise/BatchNorm/gamma:0 from checkpoint /tmp/tfhub_modules/2febfc4e01f38d50fac8ac922d87e18391e34060/variables/variables with MobilenetV2/expanded_conv_8/depthwise/BatchNorm/gamma\n"
     ]
    },
    {
     "name": "stdout",
     "output_type": "stream",
     "text": [
      "INFO:tensorflow:Initialize variable module/MobilenetV2/expanded_conv_8/depthwise/BatchNorm/moving_mean:0 from checkpoint /tmp/tfhub_modules/2febfc4e01f38d50fac8ac922d87e18391e34060/variables/variables with MobilenetV2/expanded_conv_8/depthwise/BatchNorm/moving_mean\n"
     ]
    },
    {
     "name": "stderr",
     "output_type": "stream",
     "text": [
      "INFO:tensorflow:Initialize variable module/MobilenetV2/expanded_conv_8/depthwise/BatchNorm/moving_mean:0 from checkpoint /tmp/tfhub_modules/2febfc4e01f38d50fac8ac922d87e18391e34060/variables/variables with MobilenetV2/expanded_conv_8/depthwise/BatchNorm/moving_mean\n"
     ]
    },
    {
     "name": "stdout",
     "output_type": "stream",
     "text": [
      "INFO:tensorflow:Initialize variable module/MobilenetV2/expanded_conv_8/depthwise/BatchNorm/moving_variance:0 from checkpoint /tmp/tfhub_modules/2febfc4e01f38d50fac8ac922d87e18391e34060/variables/variables with MobilenetV2/expanded_conv_8/depthwise/BatchNorm/moving_variance\n"
     ]
    },
    {
     "name": "stderr",
     "output_type": "stream",
     "text": [
      "INFO:tensorflow:Initialize variable module/MobilenetV2/expanded_conv_8/depthwise/BatchNorm/moving_variance:0 from checkpoint /tmp/tfhub_modules/2febfc4e01f38d50fac8ac922d87e18391e34060/variables/variables with MobilenetV2/expanded_conv_8/depthwise/BatchNorm/moving_variance\n"
     ]
    },
    {
     "name": "stdout",
     "output_type": "stream",
     "text": [
      "INFO:tensorflow:Initialize variable module/MobilenetV2/expanded_conv_8/depthwise/depthwise_weights:0 from checkpoint /tmp/tfhub_modules/2febfc4e01f38d50fac8ac922d87e18391e34060/variables/variables with MobilenetV2/expanded_conv_8/depthwise/depthwise_weights\n"
     ]
    },
    {
     "name": "stderr",
     "output_type": "stream",
     "text": [
      "INFO:tensorflow:Initialize variable module/MobilenetV2/expanded_conv_8/depthwise/depthwise_weights:0 from checkpoint /tmp/tfhub_modules/2febfc4e01f38d50fac8ac922d87e18391e34060/variables/variables with MobilenetV2/expanded_conv_8/depthwise/depthwise_weights\n"
     ]
    },
    {
     "name": "stdout",
     "output_type": "stream",
     "text": [
      "INFO:tensorflow:Initialize variable module/MobilenetV2/expanded_conv_8/expand/BatchNorm/beta:0 from checkpoint /tmp/tfhub_modules/2febfc4e01f38d50fac8ac922d87e18391e34060/variables/variables with MobilenetV2/expanded_conv_8/expand/BatchNorm/beta\n"
     ]
    },
    {
     "name": "stderr",
     "output_type": "stream",
     "text": [
      "INFO:tensorflow:Initialize variable module/MobilenetV2/expanded_conv_8/expand/BatchNorm/beta:0 from checkpoint /tmp/tfhub_modules/2febfc4e01f38d50fac8ac922d87e18391e34060/variables/variables with MobilenetV2/expanded_conv_8/expand/BatchNorm/beta\n"
     ]
    },
    {
     "name": "stdout",
     "output_type": "stream",
     "text": [
      "INFO:tensorflow:Initialize variable module/MobilenetV2/expanded_conv_8/expand/BatchNorm/gamma:0 from checkpoint /tmp/tfhub_modules/2febfc4e01f38d50fac8ac922d87e18391e34060/variables/variables with MobilenetV2/expanded_conv_8/expand/BatchNorm/gamma\n"
     ]
    },
    {
     "name": "stderr",
     "output_type": "stream",
     "text": [
      "INFO:tensorflow:Initialize variable module/MobilenetV2/expanded_conv_8/expand/BatchNorm/gamma:0 from checkpoint /tmp/tfhub_modules/2febfc4e01f38d50fac8ac922d87e18391e34060/variables/variables with MobilenetV2/expanded_conv_8/expand/BatchNorm/gamma\n"
     ]
    },
    {
     "name": "stdout",
     "output_type": "stream",
     "text": [
      "INFO:tensorflow:Initialize variable module/MobilenetV2/expanded_conv_8/expand/BatchNorm/moving_mean:0 from checkpoint /tmp/tfhub_modules/2febfc4e01f38d50fac8ac922d87e18391e34060/variables/variables with MobilenetV2/expanded_conv_8/expand/BatchNorm/moving_mean\n"
     ]
    },
    {
     "name": "stderr",
     "output_type": "stream",
     "text": [
      "INFO:tensorflow:Initialize variable module/MobilenetV2/expanded_conv_8/expand/BatchNorm/moving_mean:0 from checkpoint /tmp/tfhub_modules/2febfc4e01f38d50fac8ac922d87e18391e34060/variables/variables with MobilenetV2/expanded_conv_8/expand/BatchNorm/moving_mean\n"
     ]
    },
    {
     "name": "stdout",
     "output_type": "stream",
     "text": [
      "INFO:tensorflow:Initialize variable module/MobilenetV2/expanded_conv_8/expand/BatchNorm/moving_variance:0 from checkpoint /tmp/tfhub_modules/2febfc4e01f38d50fac8ac922d87e18391e34060/variables/variables with MobilenetV2/expanded_conv_8/expand/BatchNorm/moving_variance\n"
     ]
    },
    {
     "name": "stderr",
     "output_type": "stream",
     "text": [
      "INFO:tensorflow:Initialize variable module/MobilenetV2/expanded_conv_8/expand/BatchNorm/moving_variance:0 from checkpoint /tmp/tfhub_modules/2febfc4e01f38d50fac8ac922d87e18391e34060/variables/variables with MobilenetV2/expanded_conv_8/expand/BatchNorm/moving_variance\n"
     ]
    },
    {
     "name": "stdout",
     "output_type": "stream",
     "text": [
      "INFO:tensorflow:Initialize variable module/MobilenetV2/expanded_conv_8/expand/weights:0 from checkpoint /tmp/tfhub_modules/2febfc4e01f38d50fac8ac922d87e18391e34060/variables/variables with MobilenetV2/expanded_conv_8/expand/weights\n"
     ]
    },
    {
     "name": "stderr",
     "output_type": "stream",
     "text": [
      "INFO:tensorflow:Initialize variable module/MobilenetV2/expanded_conv_8/expand/weights:0 from checkpoint /tmp/tfhub_modules/2febfc4e01f38d50fac8ac922d87e18391e34060/variables/variables with MobilenetV2/expanded_conv_8/expand/weights\n"
     ]
    },
    {
     "name": "stdout",
     "output_type": "stream",
     "text": [
      "INFO:tensorflow:Initialize variable module/MobilenetV2/expanded_conv_8/project/BatchNorm/beta:0 from checkpoint /tmp/tfhub_modules/2febfc4e01f38d50fac8ac922d87e18391e34060/variables/variables with MobilenetV2/expanded_conv_8/project/BatchNorm/beta\n"
     ]
    },
    {
     "name": "stderr",
     "output_type": "stream",
     "text": [
      "INFO:tensorflow:Initialize variable module/MobilenetV2/expanded_conv_8/project/BatchNorm/beta:0 from checkpoint /tmp/tfhub_modules/2febfc4e01f38d50fac8ac922d87e18391e34060/variables/variables with MobilenetV2/expanded_conv_8/project/BatchNorm/beta\n"
     ]
    },
    {
     "name": "stdout",
     "output_type": "stream",
     "text": [
      "INFO:tensorflow:Initialize variable module/MobilenetV2/expanded_conv_8/project/BatchNorm/gamma:0 from checkpoint /tmp/tfhub_modules/2febfc4e01f38d50fac8ac922d87e18391e34060/variables/variables with MobilenetV2/expanded_conv_8/project/BatchNorm/gamma\n"
     ]
    },
    {
     "name": "stderr",
     "output_type": "stream",
     "text": [
      "INFO:tensorflow:Initialize variable module/MobilenetV2/expanded_conv_8/project/BatchNorm/gamma:0 from checkpoint /tmp/tfhub_modules/2febfc4e01f38d50fac8ac922d87e18391e34060/variables/variables with MobilenetV2/expanded_conv_8/project/BatchNorm/gamma\n"
     ]
    },
    {
     "name": "stdout",
     "output_type": "stream",
     "text": [
      "INFO:tensorflow:Initialize variable module/MobilenetV2/expanded_conv_8/project/BatchNorm/moving_mean:0 from checkpoint /tmp/tfhub_modules/2febfc4e01f38d50fac8ac922d87e18391e34060/variables/variables with MobilenetV2/expanded_conv_8/project/BatchNorm/moving_mean\n"
     ]
    },
    {
     "name": "stderr",
     "output_type": "stream",
     "text": [
      "INFO:tensorflow:Initialize variable module/MobilenetV2/expanded_conv_8/project/BatchNorm/moving_mean:0 from checkpoint /tmp/tfhub_modules/2febfc4e01f38d50fac8ac922d87e18391e34060/variables/variables with MobilenetV2/expanded_conv_8/project/BatchNorm/moving_mean\n"
     ]
    },
    {
     "name": "stdout",
     "output_type": "stream",
     "text": [
      "INFO:tensorflow:Initialize variable module/MobilenetV2/expanded_conv_8/project/BatchNorm/moving_variance:0 from checkpoint /tmp/tfhub_modules/2febfc4e01f38d50fac8ac922d87e18391e34060/variables/variables with MobilenetV2/expanded_conv_8/project/BatchNorm/moving_variance\n"
     ]
    },
    {
     "name": "stderr",
     "output_type": "stream",
     "text": [
      "INFO:tensorflow:Initialize variable module/MobilenetV2/expanded_conv_8/project/BatchNorm/moving_variance:0 from checkpoint /tmp/tfhub_modules/2febfc4e01f38d50fac8ac922d87e18391e34060/variables/variables with MobilenetV2/expanded_conv_8/project/BatchNorm/moving_variance\n"
     ]
    },
    {
     "name": "stdout",
     "output_type": "stream",
     "text": [
      "INFO:tensorflow:Initialize variable module/MobilenetV2/expanded_conv_8/project/weights:0 from checkpoint /tmp/tfhub_modules/2febfc4e01f38d50fac8ac922d87e18391e34060/variables/variables with MobilenetV2/expanded_conv_8/project/weights\n"
     ]
    },
    {
     "name": "stderr",
     "output_type": "stream",
     "text": [
      "INFO:tensorflow:Initialize variable module/MobilenetV2/expanded_conv_8/project/weights:0 from checkpoint /tmp/tfhub_modules/2febfc4e01f38d50fac8ac922d87e18391e34060/variables/variables with MobilenetV2/expanded_conv_8/project/weights\n"
     ]
    },
    {
     "name": "stdout",
     "output_type": "stream",
     "text": [
      "INFO:tensorflow:Initialize variable module/MobilenetV2/expanded_conv_9/depthwise/BatchNorm/beta:0 from checkpoint /tmp/tfhub_modules/2febfc4e01f38d50fac8ac922d87e18391e34060/variables/variables with MobilenetV2/expanded_conv_9/depthwise/BatchNorm/beta\n"
     ]
    },
    {
     "name": "stderr",
     "output_type": "stream",
     "text": [
      "INFO:tensorflow:Initialize variable module/MobilenetV2/expanded_conv_9/depthwise/BatchNorm/beta:0 from checkpoint /tmp/tfhub_modules/2febfc4e01f38d50fac8ac922d87e18391e34060/variables/variables with MobilenetV2/expanded_conv_9/depthwise/BatchNorm/beta\n"
     ]
    },
    {
     "name": "stdout",
     "output_type": "stream",
     "text": [
      "INFO:tensorflow:Initialize variable module/MobilenetV2/expanded_conv_9/depthwise/BatchNorm/gamma:0 from checkpoint /tmp/tfhub_modules/2febfc4e01f38d50fac8ac922d87e18391e34060/variables/variables with MobilenetV2/expanded_conv_9/depthwise/BatchNorm/gamma\n"
     ]
    },
    {
     "name": "stderr",
     "output_type": "stream",
     "text": [
      "INFO:tensorflow:Initialize variable module/MobilenetV2/expanded_conv_9/depthwise/BatchNorm/gamma:0 from checkpoint /tmp/tfhub_modules/2febfc4e01f38d50fac8ac922d87e18391e34060/variables/variables with MobilenetV2/expanded_conv_9/depthwise/BatchNorm/gamma\n"
     ]
    },
    {
     "name": "stdout",
     "output_type": "stream",
     "text": [
      "INFO:tensorflow:Initialize variable module/MobilenetV2/expanded_conv_9/depthwise/BatchNorm/moving_mean:0 from checkpoint /tmp/tfhub_modules/2febfc4e01f38d50fac8ac922d87e18391e34060/variables/variables with MobilenetV2/expanded_conv_9/depthwise/BatchNorm/moving_mean\n"
     ]
    },
    {
     "name": "stderr",
     "output_type": "stream",
     "text": [
      "INFO:tensorflow:Initialize variable module/MobilenetV2/expanded_conv_9/depthwise/BatchNorm/moving_mean:0 from checkpoint /tmp/tfhub_modules/2febfc4e01f38d50fac8ac922d87e18391e34060/variables/variables with MobilenetV2/expanded_conv_9/depthwise/BatchNorm/moving_mean\n"
     ]
    },
    {
     "name": "stdout",
     "output_type": "stream",
     "text": [
      "INFO:tensorflow:Initialize variable module/MobilenetV2/expanded_conv_9/depthwise/BatchNorm/moving_variance:0 from checkpoint /tmp/tfhub_modules/2febfc4e01f38d50fac8ac922d87e18391e34060/variables/variables with MobilenetV2/expanded_conv_9/depthwise/BatchNorm/moving_variance\n"
     ]
    },
    {
     "name": "stderr",
     "output_type": "stream",
     "text": [
      "INFO:tensorflow:Initialize variable module/MobilenetV2/expanded_conv_9/depthwise/BatchNorm/moving_variance:0 from checkpoint /tmp/tfhub_modules/2febfc4e01f38d50fac8ac922d87e18391e34060/variables/variables with MobilenetV2/expanded_conv_9/depthwise/BatchNorm/moving_variance\n"
     ]
    },
    {
     "name": "stdout",
     "output_type": "stream",
     "text": [
      "INFO:tensorflow:Initialize variable module/MobilenetV2/expanded_conv_9/depthwise/depthwise_weights:0 from checkpoint /tmp/tfhub_modules/2febfc4e01f38d50fac8ac922d87e18391e34060/variables/variables with MobilenetV2/expanded_conv_9/depthwise/depthwise_weights\n"
     ]
    },
    {
     "name": "stderr",
     "output_type": "stream",
     "text": [
      "INFO:tensorflow:Initialize variable module/MobilenetV2/expanded_conv_9/depthwise/depthwise_weights:0 from checkpoint /tmp/tfhub_modules/2febfc4e01f38d50fac8ac922d87e18391e34060/variables/variables with MobilenetV2/expanded_conv_9/depthwise/depthwise_weights\n"
     ]
    },
    {
     "name": "stdout",
     "output_type": "stream",
     "text": [
      "INFO:tensorflow:Initialize variable module/MobilenetV2/expanded_conv_9/expand/BatchNorm/beta:0 from checkpoint /tmp/tfhub_modules/2febfc4e01f38d50fac8ac922d87e18391e34060/variables/variables with MobilenetV2/expanded_conv_9/expand/BatchNorm/beta\n"
     ]
    },
    {
     "name": "stderr",
     "output_type": "stream",
     "text": [
      "INFO:tensorflow:Initialize variable module/MobilenetV2/expanded_conv_9/expand/BatchNorm/beta:0 from checkpoint /tmp/tfhub_modules/2febfc4e01f38d50fac8ac922d87e18391e34060/variables/variables with MobilenetV2/expanded_conv_9/expand/BatchNorm/beta\n"
     ]
    },
    {
     "name": "stdout",
     "output_type": "stream",
     "text": [
      "INFO:tensorflow:Initialize variable module/MobilenetV2/expanded_conv_9/expand/BatchNorm/gamma:0 from checkpoint /tmp/tfhub_modules/2febfc4e01f38d50fac8ac922d87e18391e34060/variables/variables with MobilenetV2/expanded_conv_9/expand/BatchNorm/gamma\n"
     ]
    },
    {
     "name": "stderr",
     "output_type": "stream",
     "text": [
      "INFO:tensorflow:Initialize variable module/MobilenetV2/expanded_conv_9/expand/BatchNorm/gamma:0 from checkpoint /tmp/tfhub_modules/2febfc4e01f38d50fac8ac922d87e18391e34060/variables/variables with MobilenetV2/expanded_conv_9/expand/BatchNorm/gamma\n"
     ]
    },
    {
     "name": "stdout",
     "output_type": "stream",
     "text": [
      "INFO:tensorflow:Initialize variable module/MobilenetV2/expanded_conv_9/expand/BatchNorm/moving_mean:0 from checkpoint /tmp/tfhub_modules/2febfc4e01f38d50fac8ac922d87e18391e34060/variables/variables with MobilenetV2/expanded_conv_9/expand/BatchNorm/moving_mean\n"
     ]
    },
    {
     "name": "stderr",
     "output_type": "stream",
     "text": [
      "INFO:tensorflow:Initialize variable module/MobilenetV2/expanded_conv_9/expand/BatchNorm/moving_mean:0 from checkpoint /tmp/tfhub_modules/2febfc4e01f38d50fac8ac922d87e18391e34060/variables/variables with MobilenetV2/expanded_conv_9/expand/BatchNorm/moving_mean\n"
     ]
    },
    {
     "name": "stdout",
     "output_type": "stream",
     "text": [
      "INFO:tensorflow:Initialize variable module/MobilenetV2/expanded_conv_9/expand/BatchNorm/moving_variance:0 from checkpoint /tmp/tfhub_modules/2febfc4e01f38d50fac8ac922d87e18391e34060/variables/variables with MobilenetV2/expanded_conv_9/expand/BatchNorm/moving_variance\n"
     ]
    },
    {
     "name": "stderr",
     "output_type": "stream",
     "text": [
      "INFO:tensorflow:Initialize variable module/MobilenetV2/expanded_conv_9/expand/BatchNorm/moving_variance:0 from checkpoint /tmp/tfhub_modules/2febfc4e01f38d50fac8ac922d87e18391e34060/variables/variables with MobilenetV2/expanded_conv_9/expand/BatchNorm/moving_variance\n"
     ]
    },
    {
     "name": "stdout",
     "output_type": "stream",
     "text": [
      "INFO:tensorflow:Initialize variable module/MobilenetV2/expanded_conv_9/expand/weights:0 from checkpoint /tmp/tfhub_modules/2febfc4e01f38d50fac8ac922d87e18391e34060/variables/variables with MobilenetV2/expanded_conv_9/expand/weights\n"
     ]
    },
    {
     "name": "stderr",
     "output_type": "stream",
     "text": [
      "INFO:tensorflow:Initialize variable module/MobilenetV2/expanded_conv_9/expand/weights:0 from checkpoint /tmp/tfhub_modules/2febfc4e01f38d50fac8ac922d87e18391e34060/variables/variables with MobilenetV2/expanded_conv_9/expand/weights\n"
     ]
    },
    {
     "name": "stdout",
     "output_type": "stream",
     "text": [
      "INFO:tensorflow:Initialize variable module/MobilenetV2/expanded_conv_9/project/BatchNorm/beta:0 from checkpoint /tmp/tfhub_modules/2febfc4e01f38d50fac8ac922d87e18391e34060/variables/variables with MobilenetV2/expanded_conv_9/project/BatchNorm/beta\n"
     ]
    },
    {
     "name": "stderr",
     "output_type": "stream",
     "text": [
      "INFO:tensorflow:Initialize variable module/MobilenetV2/expanded_conv_9/project/BatchNorm/beta:0 from checkpoint /tmp/tfhub_modules/2febfc4e01f38d50fac8ac922d87e18391e34060/variables/variables with MobilenetV2/expanded_conv_9/project/BatchNorm/beta\n"
     ]
    },
    {
     "name": "stdout",
     "output_type": "stream",
     "text": [
      "INFO:tensorflow:Initialize variable module/MobilenetV2/expanded_conv_9/project/BatchNorm/gamma:0 from checkpoint /tmp/tfhub_modules/2febfc4e01f38d50fac8ac922d87e18391e34060/variables/variables with MobilenetV2/expanded_conv_9/project/BatchNorm/gamma\n"
     ]
    },
    {
     "name": "stderr",
     "output_type": "stream",
     "text": [
      "INFO:tensorflow:Initialize variable module/MobilenetV2/expanded_conv_9/project/BatchNorm/gamma:0 from checkpoint /tmp/tfhub_modules/2febfc4e01f38d50fac8ac922d87e18391e34060/variables/variables with MobilenetV2/expanded_conv_9/project/BatchNorm/gamma\n"
     ]
    },
    {
     "name": "stdout",
     "output_type": "stream",
     "text": [
      "INFO:tensorflow:Initialize variable module/MobilenetV2/expanded_conv_9/project/BatchNorm/moving_mean:0 from checkpoint /tmp/tfhub_modules/2febfc4e01f38d50fac8ac922d87e18391e34060/variables/variables with MobilenetV2/expanded_conv_9/project/BatchNorm/moving_mean\n"
     ]
    },
    {
     "name": "stderr",
     "output_type": "stream",
     "text": [
      "INFO:tensorflow:Initialize variable module/MobilenetV2/expanded_conv_9/project/BatchNorm/moving_mean:0 from checkpoint /tmp/tfhub_modules/2febfc4e01f38d50fac8ac922d87e18391e34060/variables/variables with MobilenetV2/expanded_conv_9/project/BatchNorm/moving_mean\n"
     ]
    },
    {
     "name": "stdout",
     "output_type": "stream",
     "text": [
      "INFO:tensorflow:Initialize variable module/MobilenetV2/expanded_conv_9/project/BatchNorm/moving_variance:0 from checkpoint /tmp/tfhub_modules/2febfc4e01f38d50fac8ac922d87e18391e34060/variables/variables with MobilenetV2/expanded_conv_9/project/BatchNorm/moving_variance\n"
     ]
    },
    {
     "name": "stderr",
     "output_type": "stream",
     "text": [
      "INFO:tensorflow:Initialize variable module/MobilenetV2/expanded_conv_9/project/BatchNorm/moving_variance:0 from checkpoint /tmp/tfhub_modules/2febfc4e01f38d50fac8ac922d87e18391e34060/variables/variables with MobilenetV2/expanded_conv_9/project/BatchNorm/moving_variance\n"
     ]
    },
    {
     "name": "stdout",
     "output_type": "stream",
     "text": [
      "INFO:tensorflow:Initialize variable module/MobilenetV2/expanded_conv_9/project/weights:0 from checkpoint /tmp/tfhub_modules/2febfc4e01f38d50fac8ac922d87e18391e34060/variables/variables with MobilenetV2/expanded_conv_9/project/weights\n"
     ]
    },
    {
     "name": "stderr",
     "output_type": "stream",
     "text": [
      "INFO:tensorflow:Initialize variable module/MobilenetV2/expanded_conv_9/project/weights:0 from checkpoint /tmp/tfhub_modules/2febfc4e01f38d50fac8ac922d87e18391e34060/variables/variables with MobilenetV2/expanded_conv_9/project/weights\n"
     ]
    },
    {
     "name": "stdout",
     "output_type": "stream",
     "text": [
      "INFO:tensorflow:Creating bottleneck at /tmp/bottleneck/anthro /UX5IP9.jpg_https~tfhub.dev~google~imagenet~mobilenet_v2_100_96~classification~1.txt\n"
     ]
    },
    {
     "name": "stderr",
     "output_type": "stream",
     "text": [
      "INFO:tensorflow:Creating bottleneck at /tmp/bottleneck/anthro /UX5IP9.jpg_https~tfhub.dev~google~imagenet~mobilenet_v2_100_96~classification~1.txt\n"
     ]
    },
    {
     "name": "stdout",
     "output_type": "stream",
     "text": [
      "INFO:tensorflow:Creating bottleneck at /tmp/bottleneck/anthro /XR6ZZD.jpg_https~tfhub.dev~google~imagenet~mobilenet_v2_100_96~classification~1.txt\n"
     ]
    },
    {
     "name": "stderr",
     "output_type": "stream",
     "text": [
      "INFO:tensorflow:Creating bottleneck at /tmp/bottleneck/anthro /XR6ZZD.jpg_https~tfhub.dev~google~imagenet~mobilenet_v2_100_96~classification~1.txt\n"
     ]
    },
    {
     "name": "stdout",
     "output_type": "stream",
     "text": [
      "INFO:tensorflow:Creating bottleneck at /tmp/bottleneck/anthro /ZMMN0X.jpg_https~tfhub.dev~google~imagenet~mobilenet_v2_100_96~classification~1.txt\n"
     ]
    },
    {
     "name": "stderr",
     "output_type": "stream",
     "text": [
      "INFO:tensorflow:Creating bottleneck at /tmp/bottleneck/anthro /ZMMN0X.jpg_https~tfhub.dev~google~imagenet~mobilenet_v2_100_96~classification~1.txt\n"
     ]
    },
    {
     "name": "stdout",
     "output_type": "stream",
     "text": [
      "INFO:tensorflow:Creating bottleneck at /tmp/bottleneck/anthro /GISCJH.jpg_https~tfhub.dev~google~imagenet~mobilenet_v2_100_96~classification~1.txt\n"
     ]
    },
    {
     "name": "stderr",
     "output_type": "stream",
     "text": [
      "INFO:tensorflow:Creating bottleneck at /tmp/bottleneck/anthro /GISCJH.jpg_https~tfhub.dev~google~imagenet~mobilenet_v2_100_96~classification~1.txt\n"
     ]
    },
    {
     "name": "stdout",
     "output_type": "stream",
     "text": [
      "INFO:tensorflow:Creating bottleneck at /tmp/bottleneck/anthro /3II05X.jpg_https~tfhub.dev~google~imagenet~mobilenet_v2_100_96~classification~1.txt\n"
     ]
    },
    {
     "name": "stderr",
     "output_type": "stream",
     "text": [
      "INFO:tensorflow:Creating bottleneck at /tmp/bottleneck/anthro /3II05X.jpg_https~tfhub.dev~google~imagenet~mobilenet_v2_100_96~classification~1.txt\n"
     ]
    },
    {
     "name": "stdout",
     "output_type": "stream",
     "text": [
      "INFO:tensorflow:Creating bottleneck at /tmp/bottleneck/anthro /LVAIMB.jpg_https~tfhub.dev~google~imagenet~mobilenet_v2_100_96~classification~1.txt\n"
     ]
    },
    {
     "name": "stderr",
     "output_type": "stream",
     "text": [
      "INFO:tensorflow:Creating bottleneck at /tmp/bottleneck/anthro /LVAIMB.jpg_https~tfhub.dev~google~imagenet~mobilenet_v2_100_96~classification~1.txt\n"
     ]
    },
    {
     "name": "stdout",
     "output_type": "stream",
     "text": [
      "INFO:tensorflow:Creating bottleneck at /tmp/bottleneck/anthro /EMU9PF.jpg_https~tfhub.dev~google~imagenet~mobilenet_v2_100_96~classification~1.txt\n"
     ]
    },
    {
     "name": "stderr",
     "output_type": "stream",
     "text": [
      "INFO:tensorflow:Creating bottleneck at /tmp/bottleneck/anthro /EMU9PF.jpg_https~tfhub.dev~google~imagenet~mobilenet_v2_100_96~classification~1.txt\n"
     ]
    },
    {
     "name": "stdout",
     "output_type": "stream",
     "text": [
      "INFO:tensorflow:Creating bottleneck at /tmp/bottleneck/anthro /5XKHWF.jpg_https~tfhub.dev~google~imagenet~mobilenet_v2_100_96~classification~1.txt\n"
     ]
    },
    {
     "name": "stderr",
     "output_type": "stream",
     "text": [
      "INFO:tensorflow:Creating bottleneck at /tmp/bottleneck/anthro /5XKHWF.jpg_https~tfhub.dev~google~imagenet~mobilenet_v2_100_96~classification~1.txt\n"
     ]
    },
    {
     "name": "stdout",
     "output_type": "stream",
     "text": [
      "INFO:tensorflow:Creating bottleneck at /tmp/bottleneck/anthro /E9QCKV.jpg_https~tfhub.dev~google~imagenet~mobilenet_v2_100_96~classification~1.txt\n"
     ]
    },
    {
     "name": "stderr",
     "output_type": "stream",
     "text": [
      "INFO:tensorflow:Creating bottleneck at /tmp/bottleneck/anthro /E9QCKV.jpg_https~tfhub.dev~google~imagenet~mobilenet_v2_100_96~classification~1.txt\n"
     ]
    },
    {
     "name": "stdout",
     "output_type": "stream",
     "text": [
      "INFO:tensorflow:Creating bottleneck at /tmp/bottleneck/anthro /OK506Y.jpg_https~tfhub.dev~google~imagenet~mobilenet_v2_100_96~classification~1.txt\n"
     ]
    },
    {
     "name": "stderr",
     "output_type": "stream",
     "text": [
      "INFO:tensorflow:Creating bottleneck at /tmp/bottleneck/anthro /OK506Y.jpg_https~tfhub.dev~google~imagenet~mobilenet_v2_100_96~classification~1.txt\n"
     ]
    },
    {
     "name": "stdout",
     "output_type": "stream",
     "text": [
      "INFO:tensorflow:Creating bottleneck at /tmp/bottleneck/anthro /8APYX6.jpg_https~tfhub.dev~google~imagenet~mobilenet_v2_100_96~classification~1.txt\n"
     ]
    },
    {
     "name": "stderr",
     "output_type": "stream",
     "text": [
      "INFO:tensorflow:Creating bottleneck at /tmp/bottleneck/anthro /8APYX6.jpg_https~tfhub.dev~google~imagenet~mobilenet_v2_100_96~classification~1.txt\n"
     ]
    },
    {
     "name": "stdout",
     "output_type": "stream",
     "text": [
      "INFO:tensorflow:Creating bottleneck at /tmp/bottleneck/anthro /IGXRO5.jpg_https~tfhub.dev~google~imagenet~mobilenet_v2_100_96~classification~1.txt\n"
     ]
    },
    {
     "name": "stderr",
     "output_type": "stream",
     "text": [
      "INFO:tensorflow:Creating bottleneck at /tmp/bottleneck/anthro /IGXRO5.jpg_https~tfhub.dev~google~imagenet~mobilenet_v2_100_96~classification~1.txt\n"
     ]
    },
    {
     "name": "stdout",
     "output_type": "stream",
     "text": [
      "INFO:tensorflow:Creating bottleneck at /tmp/bottleneck/anthro /A1YW3E.jpg_https~tfhub.dev~google~imagenet~mobilenet_v2_100_96~classification~1.txt\n"
     ]
    },
    {
     "name": "stderr",
     "output_type": "stream",
     "text": [
      "INFO:tensorflow:Creating bottleneck at /tmp/bottleneck/anthro /A1YW3E.jpg_https~tfhub.dev~google~imagenet~mobilenet_v2_100_96~classification~1.txt\n"
     ]
    },
    {
     "name": "stdout",
     "output_type": "stream",
     "text": [
      "INFO:tensorflow:Creating bottleneck at /tmp/bottleneck/anthro /ZPI0R1.jpg_https~tfhub.dev~google~imagenet~mobilenet_v2_100_96~classification~1.txt\n"
     ]
    },
    {
     "name": "stderr",
     "output_type": "stream",
     "text": [
      "INFO:tensorflow:Creating bottleneck at /tmp/bottleneck/anthro /ZPI0R1.jpg_https~tfhub.dev~google~imagenet~mobilenet_v2_100_96~classification~1.txt\n"
     ]
    },
    {
     "name": "stdout",
     "output_type": "stream",
     "text": [
      "INFO:tensorflow:Creating bottleneck at /tmp/bottleneck/anthro /YKZLAZ.jpg_https~tfhub.dev~google~imagenet~mobilenet_v2_100_96~classification~1.txt\n"
     ]
    },
    {
     "name": "stderr",
     "output_type": "stream",
     "text": [
      "INFO:tensorflow:Creating bottleneck at /tmp/bottleneck/anthro /YKZLAZ.jpg_https~tfhub.dev~google~imagenet~mobilenet_v2_100_96~classification~1.txt\n"
     ]
    },
    {
     "name": "stdout",
     "output_type": "stream",
     "text": [
      "INFO:tensorflow:Creating bottleneck at /tmp/bottleneck/anthro /EYB0KM.jpg_https~tfhub.dev~google~imagenet~mobilenet_v2_100_96~classification~1.txt\n"
     ]
    },
    {
     "name": "stderr",
     "output_type": "stream",
     "text": [
      "INFO:tensorflow:Creating bottleneck at /tmp/bottleneck/anthro /EYB0KM.jpg_https~tfhub.dev~google~imagenet~mobilenet_v2_100_96~classification~1.txt\n"
     ]
    },
    {
     "name": "stdout",
     "output_type": "stream",
     "text": [
      "INFO:tensorflow:Creating bottleneck at /tmp/bottleneck/anthro /04EQBT.jpg_https~tfhub.dev~google~imagenet~mobilenet_v2_100_96~classification~1.txt\n"
     ]
    },
    {
     "name": "stderr",
     "output_type": "stream",
     "text": [
      "INFO:tensorflow:Creating bottleneck at /tmp/bottleneck/anthro /04EQBT.jpg_https~tfhub.dev~google~imagenet~mobilenet_v2_100_96~classification~1.txt\n"
     ]
    },
    {
     "name": "stdout",
     "output_type": "stream",
     "text": [
      "INFO:tensorflow:Creating bottleneck at /tmp/bottleneck/anthro /5CWQH5.jpg_https~tfhub.dev~google~imagenet~mobilenet_v2_100_96~classification~1.txt\n"
     ]
    },
    {
     "name": "stderr",
     "output_type": "stream",
     "text": [
      "INFO:tensorflow:Creating bottleneck at /tmp/bottleneck/anthro /5CWQH5.jpg_https~tfhub.dev~google~imagenet~mobilenet_v2_100_96~classification~1.txt\n"
     ]
    },
    {
     "name": "stdout",
     "output_type": "stream",
     "text": [
      "INFO:tensorflow:Creating bottleneck at /tmp/bottleneck/anthro /ADL17X.jpg_https~tfhub.dev~google~imagenet~mobilenet_v2_100_96~classification~1.txt\n"
     ]
    },
    {
     "name": "stderr",
     "output_type": "stream",
     "text": [
      "INFO:tensorflow:Creating bottleneck at /tmp/bottleneck/anthro /ADL17X.jpg_https~tfhub.dev~google~imagenet~mobilenet_v2_100_96~classification~1.txt\n"
     ]
    },
    {
     "name": "stdout",
     "output_type": "stream",
     "text": [
      "INFO:tensorflow:Creating bottleneck at /tmp/bottleneck/anthro /BCN2MB.jpg_https~tfhub.dev~google~imagenet~mobilenet_v2_100_96~classification~1.txt\n"
     ]
    },
    {
     "name": "stderr",
     "output_type": "stream",
     "text": [
      "INFO:tensorflow:Creating bottleneck at /tmp/bottleneck/anthro /BCN2MB.jpg_https~tfhub.dev~google~imagenet~mobilenet_v2_100_96~classification~1.txt\n"
     ]
    },
    {
     "name": "stdout",
     "output_type": "stream",
     "text": [
      "INFO:tensorflow:Creating bottleneck at /tmp/bottleneck/anthro /NGD17P.jpg_https~tfhub.dev~google~imagenet~mobilenet_v2_100_96~classification~1.txt\n"
     ]
    },
    {
     "name": "stderr",
     "output_type": "stream",
     "text": [
      "INFO:tensorflow:Creating bottleneck at /tmp/bottleneck/anthro /NGD17P.jpg_https~tfhub.dev~google~imagenet~mobilenet_v2_100_96~classification~1.txt\n"
     ]
    },
    {
     "name": "stdout",
     "output_type": "stream",
     "text": [
      "INFO:tensorflow:Creating bottleneck at /tmp/bottleneck/anthro /5G3F81.jpg_https~tfhub.dev~google~imagenet~mobilenet_v2_100_96~classification~1.txt\n"
     ]
    },
    {
     "name": "stderr",
     "output_type": "stream",
     "text": [
      "INFO:tensorflow:Creating bottleneck at /tmp/bottleneck/anthro /5G3F81.jpg_https~tfhub.dev~google~imagenet~mobilenet_v2_100_96~classification~1.txt\n"
     ]
    },
    {
     "name": "stdout",
     "output_type": "stream",
     "text": [
      "INFO:tensorflow:Creating bottleneck at /tmp/bottleneck/anthro /YNYU7L.jpg_https~tfhub.dev~google~imagenet~mobilenet_v2_100_96~classification~1.txt\n"
     ]
    },
    {
     "name": "stderr",
     "output_type": "stream",
     "text": [
      "INFO:tensorflow:Creating bottleneck at /tmp/bottleneck/anthro /YNYU7L.jpg_https~tfhub.dev~google~imagenet~mobilenet_v2_100_96~classification~1.txt\n"
     ]
    },
    {
     "name": "stdout",
     "output_type": "stream",
     "text": [
      "INFO:tensorflow:Creating bottleneck at /tmp/bottleneck/anthro /0V28WB.jpg_https~tfhub.dev~google~imagenet~mobilenet_v2_100_96~classification~1.txt\n"
     ]
    },
    {
     "name": "stderr",
     "output_type": "stream",
     "text": [
      "INFO:tensorflow:Creating bottleneck at /tmp/bottleneck/anthro /0V28WB.jpg_https~tfhub.dev~google~imagenet~mobilenet_v2_100_96~classification~1.txt\n"
     ]
    },
    {
     "name": "stdout",
     "output_type": "stream",
     "text": [
      "INFO:tensorflow:Creating bottleneck at /tmp/bottleneck/anthro /SWAF37.jpg_https~tfhub.dev~google~imagenet~mobilenet_v2_100_96~classification~1.txt\n"
     ]
    },
    {
     "name": "stderr",
     "output_type": "stream",
     "text": [
      "INFO:tensorflow:Creating bottleneck at /tmp/bottleneck/anthro /SWAF37.jpg_https~tfhub.dev~google~imagenet~mobilenet_v2_100_96~classification~1.txt\n"
     ]
    },
    {
     "name": "stdout",
     "output_type": "stream",
     "text": [
      "INFO:tensorflow:Creating bottleneck at /tmp/bottleneck/anthro /YSZ9C7.jpg_https~tfhub.dev~google~imagenet~mobilenet_v2_100_96~classification~1.txt\n"
     ]
    },
    {
     "name": "stderr",
     "output_type": "stream",
     "text": [
      "INFO:tensorflow:Creating bottleneck at /tmp/bottleneck/anthro /YSZ9C7.jpg_https~tfhub.dev~google~imagenet~mobilenet_v2_100_96~classification~1.txt\n"
     ]
    },
    {
     "name": "stdout",
     "output_type": "stream",
     "text": [
      "INFO:tensorflow:Creating bottleneck at /tmp/bottleneck/anthro /EL27IP.jpg_https~tfhub.dev~google~imagenet~mobilenet_v2_100_96~classification~1.txt\n"
     ]
    },
    {
     "name": "stderr",
     "output_type": "stream",
     "text": [
      "INFO:tensorflow:Creating bottleneck at /tmp/bottleneck/anthro /EL27IP.jpg_https~tfhub.dev~google~imagenet~mobilenet_v2_100_96~classification~1.txt\n"
     ]
    },
    {
     "name": "stdout",
     "output_type": "stream",
     "text": [
      "INFO:tensorflow:Creating bottleneck at /tmp/bottleneck/anthro /D6ZJIQ.jpg_https~tfhub.dev~google~imagenet~mobilenet_v2_100_96~classification~1.txt\n"
     ]
    },
    {
     "name": "stderr",
     "output_type": "stream",
     "text": [
      "INFO:tensorflow:Creating bottleneck at /tmp/bottleneck/anthro /D6ZJIQ.jpg_https~tfhub.dev~google~imagenet~mobilenet_v2_100_96~classification~1.txt\n"
     ]
    },
    {
     "name": "stdout",
     "output_type": "stream",
     "text": [
      "INFO:tensorflow:Creating bottleneck at /tmp/bottleneck/anthro /EUZP27.jpg_https~tfhub.dev~google~imagenet~mobilenet_v2_100_96~classification~1.txt\n"
     ]
    },
    {
     "name": "stderr",
     "output_type": "stream",
     "text": [
      "INFO:tensorflow:Creating bottleneck at /tmp/bottleneck/anthro /EUZP27.jpg_https~tfhub.dev~google~imagenet~mobilenet_v2_100_96~classification~1.txt\n"
     ]
    },
    {
     "name": "stdout",
     "output_type": "stream",
     "text": [
      "INFO:tensorflow:Creating bottleneck at /tmp/bottleneck/anthro /CUXP94.jpg_https~tfhub.dev~google~imagenet~mobilenet_v2_100_96~classification~1.txt\n"
     ]
    },
    {
     "name": "stderr",
     "output_type": "stream",
     "text": [
      "INFO:tensorflow:Creating bottleneck at /tmp/bottleneck/anthro /CUXP94.jpg_https~tfhub.dev~google~imagenet~mobilenet_v2_100_96~classification~1.txt\n"
     ]
    },
    {
     "name": "stdout",
     "output_type": "stream",
     "text": [
      "INFO:tensorflow:Creating bottleneck at /tmp/bottleneck/anthro /3PWWE3.jpg_https~tfhub.dev~google~imagenet~mobilenet_v2_100_96~classification~1.txt\n"
     ]
    },
    {
     "name": "stderr",
     "output_type": "stream",
     "text": [
      "INFO:tensorflow:Creating bottleneck at /tmp/bottleneck/anthro /3PWWE3.jpg_https~tfhub.dev~google~imagenet~mobilenet_v2_100_96~classification~1.txt\n"
     ]
    },
    {
     "name": "stdout",
     "output_type": "stream",
     "text": [
      "INFO:tensorflow:Creating bottleneck at /tmp/bottleneck/anthro /H8KJ5V.jpg_https~tfhub.dev~google~imagenet~mobilenet_v2_100_96~classification~1.txt\n"
     ]
    },
    {
     "name": "stderr",
     "output_type": "stream",
     "text": [
      "INFO:tensorflow:Creating bottleneck at /tmp/bottleneck/anthro /H8KJ5V.jpg_https~tfhub.dev~google~imagenet~mobilenet_v2_100_96~classification~1.txt\n"
     ]
    },
    {
     "name": "stdout",
     "output_type": "stream",
     "text": [
      "INFO:tensorflow:Creating bottleneck at /tmp/bottleneck/anthro /3KBH45.jpg_https~tfhub.dev~google~imagenet~mobilenet_v2_100_96~classification~1.txt\n"
     ]
    },
    {
     "name": "stderr",
     "output_type": "stream",
     "text": [
      "INFO:tensorflow:Creating bottleneck at /tmp/bottleneck/anthro /3KBH45.jpg_https~tfhub.dev~google~imagenet~mobilenet_v2_100_96~classification~1.txt\n"
     ]
    },
    {
     "name": "stdout",
     "output_type": "stream",
     "text": [
      "INFO:tensorflow:Creating bottleneck at /tmp/bottleneck/anthro /BOEIJN.jpg_https~tfhub.dev~google~imagenet~mobilenet_v2_100_96~classification~1.txt\n"
     ]
    },
    {
     "name": "stderr",
     "output_type": "stream",
     "text": [
      "INFO:tensorflow:Creating bottleneck at /tmp/bottleneck/anthro /BOEIJN.jpg_https~tfhub.dev~google~imagenet~mobilenet_v2_100_96~classification~1.txt\n"
     ]
    },
    {
     "name": "stdout",
     "output_type": "stream",
     "text": [
      "INFO:tensorflow:Creating bottleneck at /tmp/bottleneck/anthro /MULME4.jpg_https~tfhub.dev~google~imagenet~mobilenet_v2_100_96~classification~1.txt\n"
     ]
    },
    {
     "name": "stderr",
     "output_type": "stream",
     "text": [
      "INFO:tensorflow:Creating bottleneck at /tmp/bottleneck/anthro /MULME4.jpg_https~tfhub.dev~google~imagenet~mobilenet_v2_100_96~classification~1.txt\n"
     ]
    },
    {
     "name": "stdout",
     "output_type": "stream",
     "text": [
      "INFO:tensorflow:Creating bottleneck at /tmp/bottleneck/anthro /7ECFDR.jpg_https~tfhub.dev~google~imagenet~mobilenet_v2_100_96~classification~1.txt\n"
     ]
    },
    {
     "name": "stderr",
     "output_type": "stream",
     "text": [
      "INFO:tensorflow:Creating bottleneck at /tmp/bottleneck/anthro /7ECFDR.jpg_https~tfhub.dev~google~imagenet~mobilenet_v2_100_96~classification~1.txt\n"
     ]
    },
    {
     "name": "stdout",
     "output_type": "stream",
     "text": [
      "INFO:tensorflow:Creating bottleneck at /tmp/bottleneck/anthro /I5BF7R.jpg_https~tfhub.dev~google~imagenet~mobilenet_v2_100_96~classification~1.txt\n"
     ]
    },
    {
     "name": "stderr",
     "output_type": "stream",
     "text": [
      "INFO:tensorflow:Creating bottleneck at /tmp/bottleneck/anthro /I5BF7R.jpg_https~tfhub.dev~google~imagenet~mobilenet_v2_100_96~classification~1.txt\n"
     ]
    },
    {
     "name": "stdout",
     "output_type": "stream",
     "text": [
      "INFO:tensorflow:Creating bottleneck at /tmp/bottleneck/anthro /25SOHZ.jpg_https~tfhub.dev~google~imagenet~mobilenet_v2_100_96~classification~1.txt\n"
     ]
    },
    {
     "name": "stderr",
     "output_type": "stream",
     "text": [
      "INFO:tensorflow:Creating bottleneck at /tmp/bottleneck/anthro /25SOHZ.jpg_https~tfhub.dev~google~imagenet~mobilenet_v2_100_96~classification~1.txt\n"
     ]
    },
    {
     "name": "stdout",
     "output_type": "stream",
     "text": [
      "INFO:tensorflow:Creating bottleneck at /tmp/bottleneck/anthro /N5JC43.jpg_https~tfhub.dev~google~imagenet~mobilenet_v2_100_96~classification~1.txt\n"
     ]
    },
    {
     "name": "stderr",
     "output_type": "stream",
     "text": [
      "INFO:tensorflow:Creating bottleneck at /tmp/bottleneck/anthro /N5JC43.jpg_https~tfhub.dev~google~imagenet~mobilenet_v2_100_96~classification~1.txt\n"
     ]
    },
    {
     "name": "stdout",
     "output_type": "stream",
     "text": [
      "INFO:tensorflow:Creating bottleneck at /tmp/bottleneck/anthro /BTRRK5.jpg_https~tfhub.dev~google~imagenet~mobilenet_v2_100_96~classification~1.txt\n"
     ]
    },
    {
     "name": "stderr",
     "output_type": "stream",
     "text": [
      "INFO:tensorflow:Creating bottleneck at /tmp/bottleneck/anthro /BTRRK5.jpg_https~tfhub.dev~google~imagenet~mobilenet_v2_100_96~classification~1.txt\n"
     ]
    },
    {
     "name": "stdout",
     "output_type": "stream",
     "text": [
      "INFO:tensorflow:Creating bottleneck at /tmp/bottleneck/anthro /FB035W.jpg_https~tfhub.dev~google~imagenet~mobilenet_v2_100_96~classification~1.txt\n"
     ]
    },
    {
     "name": "stderr",
     "output_type": "stream",
     "text": [
      "INFO:tensorflow:Creating bottleneck at /tmp/bottleneck/anthro /FB035W.jpg_https~tfhub.dev~google~imagenet~mobilenet_v2_100_96~classification~1.txt\n"
     ]
    },
    {
     "name": "stdout",
     "output_type": "stream",
     "text": [
      "INFO:tensorflow:Creating bottleneck at /tmp/bottleneck/anthro /LEXZCU.jpg_https~tfhub.dev~google~imagenet~mobilenet_v2_100_96~classification~1.txt\n"
     ]
    },
    {
     "name": "stderr",
     "output_type": "stream",
     "text": [
      "INFO:tensorflow:Creating bottleneck at /tmp/bottleneck/anthro /LEXZCU.jpg_https~tfhub.dev~google~imagenet~mobilenet_v2_100_96~classification~1.txt\n"
     ]
    },
    {
     "name": "stdout",
     "output_type": "stream",
     "text": [
      "INFO:tensorflow:Creating bottleneck at /tmp/bottleneck/anthro /ILKD5J.jpg_https~tfhub.dev~google~imagenet~mobilenet_v2_100_96~classification~1.txt\n"
     ]
    },
    {
     "name": "stderr",
     "output_type": "stream",
     "text": [
      "INFO:tensorflow:Creating bottleneck at /tmp/bottleneck/anthro /ILKD5J.jpg_https~tfhub.dev~google~imagenet~mobilenet_v2_100_96~classification~1.txt\n"
     ]
    },
    {
     "name": "stdout",
     "output_type": "stream",
     "text": [
      "INFO:tensorflow:Creating bottleneck at /tmp/bottleneck/anthro /V3MWC7.jpg_https~tfhub.dev~google~imagenet~mobilenet_v2_100_96~classification~1.txt\n"
     ]
    },
    {
     "name": "stderr",
     "output_type": "stream",
     "text": [
      "INFO:tensorflow:Creating bottleneck at /tmp/bottleneck/anthro /V3MWC7.jpg_https~tfhub.dev~google~imagenet~mobilenet_v2_100_96~classification~1.txt\n"
     ]
    },
    {
     "name": "stdout",
     "output_type": "stream",
     "text": [
      "INFO:tensorflow:Creating bottleneck at /tmp/bottleneck/anthro /MDI1IE.jpg_https~tfhub.dev~google~imagenet~mobilenet_v2_100_96~classification~1.txt\n"
     ]
    },
    {
     "name": "stderr",
     "output_type": "stream",
     "text": [
      "INFO:tensorflow:Creating bottleneck at /tmp/bottleneck/anthro /MDI1IE.jpg_https~tfhub.dev~google~imagenet~mobilenet_v2_100_96~classification~1.txt\n"
     ]
    },
    {
     "name": "stdout",
     "output_type": "stream",
     "text": [
      "INFO:tensorflow:Creating bottleneck at /tmp/bottleneck/anthro /6HCBZI.jpg_https~tfhub.dev~google~imagenet~mobilenet_v2_100_96~classification~1.txt\n"
     ]
    },
    {
     "name": "stderr",
     "output_type": "stream",
     "text": [
      "INFO:tensorflow:Creating bottleneck at /tmp/bottleneck/anthro /6HCBZI.jpg_https~tfhub.dev~google~imagenet~mobilenet_v2_100_96~classification~1.txt\n"
     ]
    },
    {
     "name": "stdout",
     "output_type": "stream",
     "text": [
      "INFO:tensorflow:Creating bottleneck at /tmp/bottleneck/anthro /4ES9VL.jpg_https~tfhub.dev~google~imagenet~mobilenet_v2_100_96~classification~1.txt\n"
     ]
    },
    {
     "name": "stderr",
     "output_type": "stream",
     "text": [
      "INFO:tensorflow:Creating bottleneck at /tmp/bottleneck/anthro /4ES9VL.jpg_https~tfhub.dev~google~imagenet~mobilenet_v2_100_96~classification~1.txt\n"
     ]
    },
    {
     "name": "stdout",
     "output_type": "stream",
     "text": [
      "INFO:tensorflow:Creating bottleneck at /tmp/bottleneck/anthro /Y8H78J.jpg_https~tfhub.dev~google~imagenet~mobilenet_v2_100_96~classification~1.txt\n"
     ]
    },
    {
     "name": "stderr",
     "output_type": "stream",
     "text": [
      "INFO:tensorflow:Creating bottleneck at /tmp/bottleneck/anthro /Y8H78J.jpg_https~tfhub.dev~google~imagenet~mobilenet_v2_100_96~classification~1.txt\n"
     ]
    },
    {
     "name": "stdout",
     "output_type": "stream",
     "text": [
      "INFO:tensorflow:Creating bottleneck at /tmp/bottleneck/anthro /VIRQYY.jpg_https~tfhub.dev~google~imagenet~mobilenet_v2_100_96~classification~1.txt\n"
     ]
    },
    {
     "name": "stderr",
     "output_type": "stream",
     "text": [
      "INFO:tensorflow:Creating bottleneck at /tmp/bottleneck/anthro /VIRQYY.jpg_https~tfhub.dev~google~imagenet~mobilenet_v2_100_96~classification~1.txt\n"
     ]
    },
    {
     "name": "stdout",
     "output_type": "stream",
     "text": [
      "INFO:tensorflow:Creating bottleneck at /tmp/bottleneck/anthro /7ZWPC1.jpg_https~tfhub.dev~google~imagenet~mobilenet_v2_100_96~classification~1.txt\n"
     ]
    },
    {
     "name": "stderr",
     "output_type": "stream",
     "text": [
      "INFO:tensorflow:Creating bottleneck at /tmp/bottleneck/anthro /7ZWPC1.jpg_https~tfhub.dev~google~imagenet~mobilenet_v2_100_96~classification~1.txt\n"
     ]
    },
    {
     "name": "stdout",
     "output_type": "stream",
     "text": [
      "INFO:tensorflow:Creating bottleneck at /tmp/bottleneck/anthro /5BIC2H.jpg_https~tfhub.dev~google~imagenet~mobilenet_v2_100_96~classification~1.txt\n"
     ]
    },
    {
     "name": "stderr",
     "output_type": "stream",
     "text": [
      "INFO:tensorflow:Creating bottleneck at /tmp/bottleneck/anthro /5BIC2H.jpg_https~tfhub.dev~google~imagenet~mobilenet_v2_100_96~classification~1.txt\n"
     ]
    },
    {
     "name": "stdout",
     "output_type": "stream",
     "text": [
      "INFO:tensorflow:Creating bottleneck at /tmp/bottleneck/anthro /AMAFEF.jpg_https~tfhub.dev~google~imagenet~mobilenet_v2_100_96~classification~1.txt\n"
     ]
    },
    {
     "name": "stderr",
     "output_type": "stream",
     "text": [
      "INFO:tensorflow:Creating bottleneck at /tmp/bottleneck/anthro /AMAFEF.jpg_https~tfhub.dev~google~imagenet~mobilenet_v2_100_96~classification~1.txt\n"
     ]
    },
    {
     "name": "stdout",
     "output_type": "stream",
     "text": [
      "INFO:tensorflow:Creating bottleneck at /tmp/bottleneck/anthro /OB87X3.jpg_https~tfhub.dev~google~imagenet~mobilenet_v2_100_96~classification~1.txt\n"
     ]
    },
    {
     "name": "stderr",
     "output_type": "stream",
     "text": [
      "INFO:tensorflow:Creating bottleneck at /tmp/bottleneck/anthro /OB87X3.jpg_https~tfhub.dev~google~imagenet~mobilenet_v2_100_96~classification~1.txt\n"
     ]
    },
    {
     "name": "stdout",
     "output_type": "stream",
     "text": [
      "INFO:tensorflow:Creating bottleneck at /tmp/bottleneck/anthro /1VLXA8.jpg_https~tfhub.dev~google~imagenet~mobilenet_v2_100_96~classification~1.txt\n"
     ]
    },
    {
     "name": "stderr",
     "output_type": "stream",
     "text": [
      "INFO:tensorflow:Creating bottleneck at /tmp/bottleneck/anthro /1VLXA8.jpg_https~tfhub.dev~google~imagenet~mobilenet_v2_100_96~classification~1.txt\n"
     ]
    },
    {
     "name": "stdout",
     "output_type": "stream",
     "text": [
      "INFO:tensorflow:Creating bottleneck at /tmp/bottleneck/anthro /LIGXYW.jpg_https~tfhub.dev~google~imagenet~mobilenet_v2_100_96~classification~1.txt\n"
     ]
    },
    {
     "name": "stderr",
     "output_type": "stream",
     "text": [
      "INFO:tensorflow:Creating bottleneck at /tmp/bottleneck/anthro /LIGXYW.jpg_https~tfhub.dev~google~imagenet~mobilenet_v2_100_96~classification~1.txt\n"
     ]
    },
    {
     "name": "stdout",
     "output_type": "stream",
     "text": [
      "INFO:tensorflow:Creating bottleneck at /tmp/bottleneck/anthro /HFH89F.jpg_https~tfhub.dev~google~imagenet~mobilenet_v2_100_96~classification~1.txt\n"
     ]
    },
    {
     "name": "stderr",
     "output_type": "stream",
     "text": [
      "INFO:tensorflow:Creating bottleneck at /tmp/bottleneck/anthro /HFH89F.jpg_https~tfhub.dev~google~imagenet~mobilenet_v2_100_96~classification~1.txt\n"
     ]
    },
    {
     "name": "stdout",
     "output_type": "stream",
     "text": [
      "INFO:tensorflow:Creating bottleneck at /tmp/bottleneck/anthro /O27HHX.jpg_https~tfhub.dev~google~imagenet~mobilenet_v2_100_96~classification~1.txt\n"
     ]
    },
    {
     "name": "stderr",
     "output_type": "stream",
     "text": [
      "INFO:tensorflow:Creating bottleneck at /tmp/bottleneck/anthro /O27HHX.jpg_https~tfhub.dev~google~imagenet~mobilenet_v2_100_96~classification~1.txt\n"
     ]
    },
    {
     "name": "stdout",
     "output_type": "stream",
     "text": [
      "INFO:tensorflow:Creating bottleneck at /tmp/bottleneck/anthro /9P95PS.jpg_https~tfhub.dev~google~imagenet~mobilenet_v2_100_96~classification~1.txt\n"
     ]
    },
    {
     "name": "stderr",
     "output_type": "stream",
     "text": [
      "INFO:tensorflow:Creating bottleneck at /tmp/bottleneck/anthro /9P95PS.jpg_https~tfhub.dev~google~imagenet~mobilenet_v2_100_96~classification~1.txt\n"
     ]
    },
    {
     "name": "stdout",
     "output_type": "stream",
     "text": [
      "INFO:tensorflow:Creating bottleneck at /tmp/bottleneck/anthro /BIZOQP.jpg_https~tfhub.dev~google~imagenet~mobilenet_v2_100_96~classification~1.txt\n"
     ]
    },
    {
     "name": "stderr",
     "output_type": "stream",
     "text": [
      "INFO:tensorflow:Creating bottleneck at /tmp/bottleneck/anthro /BIZOQP.jpg_https~tfhub.dev~google~imagenet~mobilenet_v2_100_96~classification~1.txt\n"
     ]
    },
    {
     "name": "stdout",
     "output_type": "stream",
     "text": [
      "INFO:tensorflow:Creating bottleneck at /tmp/bottleneck/anthro /1DTLDS.jpg_https~tfhub.dev~google~imagenet~mobilenet_v2_100_96~classification~1.txt\n"
     ]
    },
    {
     "name": "stderr",
     "output_type": "stream",
     "text": [
      "INFO:tensorflow:Creating bottleneck at /tmp/bottleneck/anthro /1DTLDS.jpg_https~tfhub.dev~google~imagenet~mobilenet_v2_100_96~classification~1.txt\n"
     ]
    },
    {
     "name": "stdout",
     "output_type": "stream",
     "text": [
      "INFO:tensorflow:Creating bottleneck at /tmp/bottleneck/anthro /QX2166.jpg_https~tfhub.dev~google~imagenet~mobilenet_v2_100_96~classification~1.txt\n"
     ]
    },
    {
     "name": "stderr",
     "output_type": "stream",
     "text": [
      "INFO:tensorflow:Creating bottleneck at /tmp/bottleneck/anthro /QX2166.jpg_https~tfhub.dev~google~imagenet~mobilenet_v2_100_96~classification~1.txt\n"
     ]
    },
    {
     "name": "stdout",
     "output_type": "stream",
     "text": [
      "INFO:tensorflow:Creating bottleneck at /tmp/bottleneck/anthro /6W1CRZ.jpg_https~tfhub.dev~google~imagenet~mobilenet_v2_100_96~classification~1.txt\n"
     ]
    },
    {
     "name": "stderr",
     "output_type": "stream",
     "text": [
      "INFO:tensorflow:Creating bottleneck at /tmp/bottleneck/anthro /6W1CRZ.jpg_https~tfhub.dev~google~imagenet~mobilenet_v2_100_96~classification~1.txt\n"
     ]
    },
    {
     "name": "stdout",
     "output_type": "stream",
     "text": [
      "INFO:tensorflow:Creating bottleneck at /tmp/bottleneck/anthro /RKSJ4P.jpg_https~tfhub.dev~google~imagenet~mobilenet_v2_100_96~classification~1.txt\n"
     ]
    },
    {
     "name": "stderr",
     "output_type": "stream",
     "text": [
      "INFO:tensorflow:Creating bottleneck at /tmp/bottleneck/anthro /RKSJ4P.jpg_https~tfhub.dev~google~imagenet~mobilenet_v2_100_96~classification~1.txt\n"
     ]
    },
    {
     "name": "stdout",
     "output_type": "stream",
     "text": [
      "INFO:tensorflow:Creating bottleneck at /tmp/bottleneck/anthro /1MXHKM.jpg_https~tfhub.dev~google~imagenet~mobilenet_v2_100_96~classification~1.txt\n"
     ]
    },
    {
     "name": "stderr",
     "output_type": "stream",
     "text": [
      "INFO:tensorflow:Creating bottleneck at /tmp/bottleneck/anthro /1MXHKM.jpg_https~tfhub.dev~google~imagenet~mobilenet_v2_100_96~classification~1.txt\n"
     ]
    },
    {
     "name": "stdout",
     "output_type": "stream",
     "text": [
      "INFO:tensorflow:Creating bottleneck at /tmp/bottleneck/anthro /21XHWT.jpg_https~tfhub.dev~google~imagenet~mobilenet_v2_100_96~classification~1.txt\n"
     ]
    },
    {
     "name": "stderr",
     "output_type": "stream",
     "text": [
      "INFO:tensorflow:Creating bottleneck at /tmp/bottleneck/anthro /21XHWT.jpg_https~tfhub.dev~google~imagenet~mobilenet_v2_100_96~classification~1.txt\n"
     ]
    },
    {
     "name": "stdout",
     "output_type": "stream",
     "text": [
      "INFO:tensorflow:Creating bottleneck at /tmp/bottleneck/anthro /32H36F.jpg_https~tfhub.dev~google~imagenet~mobilenet_v2_100_96~classification~1.txt\n"
     ]
    },
    {
     "name": "stderr",
     "output_type": "stream",
     "text": [
      "INFO:tensorflow:Creating bottleneck at /tmp/bottleneck/anthro /32H36F.jpg_https~tfhub.dev~google~imagenet~mobilenet_v2_100_96~classification~1.txt\n"
     ]
    },
    {
     "name": "stdout",
     "output_type": "stream",
     "text": [
      "INFO:tensorflow:Creating bottleneck at /tmp/bottleneck/anthro /RF25EI.jpg_https~tfhub.dev~google~imagenet~mobilenet_v2_100_96~classification~1.txt\n"
     ]
    },
    {
     "name": "stderr",
     "output_type": "stream",
     "text": [
      "INFO:tensorflow:Creating bottleneck at /tmp/bottleneck/anthro /RF25EI.jpg_https~tfhub.dev~google~imagenet~mobilenet_v2_100_96~classification~1.txt\n"
     ]
    },
    {
     "name": "stdout",
     "output_type": "stream",
     "text": [
      "INFO:tensorflow:Creating bottleneck at /tmp/bottleneck/anthro /FAP58B.jpg_https~tfhub.dev~google~imagenet~mobilenet_v2_100_96~classification~1.txt\n"
     ]
    },
    {
     "name": "stderr",
     "output_type": "stream",
     "text": [
      "INFO:tensorflow:Creating bottleneck at /tmp/bottleneck/anthro /FAP58B.jpg_https~tfhub.dev~google~imagenet~mobilenet_v2_100_96~classification~1.txt\n"
     ]
    },
    {
     "name": "stdout",
     "output_type": "stream",
     "text": [
      "INFO:tensorflow:Creating bottleneck at /tmp/bottleneck/anthro /U3GAI3.jpg_https~tfhub.dev~google~imagenet~mobilenet_v2_100_96~classification~1.txt\n"
     ]
    },
    {
     "name": "stderr",
     "output_type": "stream",
     "text": [
      "INFO:tensorflow:Creating bottleneck at /tmp/bottleneck/anthro /U3GAI3.jpg_https~tfhub.dev~google~imagenet~mobilenet_v2_100_96~classification~1.txt\n"
     ]
    },
    {
     "name": "stdout",
     "output_type": "stream",
     "text": [
      "INFO:tensorflow:Creating bottleneck at /tmp/bottleneck/anthro /G0SWFM.jpg_https~tfhub.dev~google~imagenet~mobilenet_v2_100_96~classification~1.txt\n"
     ]
    },
    {
     "name": "stderr",
     "output_type": "stream",
     "text": [
      "INFO:tensorflow:Creating bottleneck at /tmp/bottleneck/anthro /G0SWFM.jpg_https~tfhub.dev~google~imagenet~mobilenet_v2_100_96~classification~1.txt\n"
     ]
    },
    {
     "name": "stdout",
     "output_type": "stream",
     "text": [
      "INFO:tensorflow:Creating bottleneck at /tmp/bottleneck/anthro /LJLP0T.jpg_https~tfhub.dev~google~imagenet~mobilenet_v2_100_96~classification~1.txt\n"
     ]
    },
    {
     "name": "stderr",
     "output_type": "stream",
     "text": [
      "INFO:tensorflow:Creating bottleneck at /tmp/bottleneck/anthro /LJLP0T.jpg_https~tfhub.dev~google~imagenet~mobilenet_v2_100_96~classification~1.txt\n"
     ]
    },
    {
     "name": "stdout",
     "output_type": "stream",
     "text": [
      "INFO:tensorflow:Creating bottleneck at /tmp/bottleneck/anthro /DZDK60.jpg_https~tfhub.dev~google~imagenet~mobilenet_v2_100_96~classification~1.txt\n"
     ]
    },
    {
     "name": "stderr",
     "output_type": "stream",
     "text": [
      "INFO:tensorflow:Creating bottleneck at /tmp/bottleneck/anthro /DZDK60.jpg_https~tfhub.dev~google~imagenet~mobilenet_v2_100_96~classification~1.txt\n"
     ]
    },
    {
     "name": "stdout",
     "output_type": "stream",
     "text": [
      "INFO:tensorflow:Creating bottleneck at /tmp/bottleneck/anthro /IILQIN.jpg_https~tfhub.dev~google~imagenet~mobilenet_v2_100_96~classification~1.txt\n"
     ]
    },
    {
     "name": "stderr",
     "output_type": "stream",
     "text": [
      "INFO:tensorflow:Creating bottleneck at /tmp/bottleneck/anthro /IILQIN.jpg_https~tfhub.dev~google~imagenet~mobilenet_v2_100_96~classification~1.txt\n"
     ]
    },
    {
     "name": "stdout",
     "output_type": "stream",
     "text": [
      "INFO:tensorflow:Creating bottleneck at /tmp/bottleneck/anthro /7SPHYR.jpg_https~tfhub.dev~google~imagenet~mobilenet_v2_100_96~classification~1.txt\n"
     ]
    },
    {
     "name": "stderr",
     "output_type": "stream",
     "text": [
      "INFO:tensorflow:Creating bottleneck at /tmp/bottleneck/anthro /7SPHYR.jpg_https~tfhub.dev~google~imagenet~mobilenet_v2_100_96~classification~1.txt\n"
     ]
    },
    {
     "name": "stdout",
     "output_type": "stream",
     "text": [
      "INFO:tensorflow:Creating bottleneck at /tmp/bottleneck/anthro /EE69HA.jpg_https~tfhub.dev~google~imagenet~mobilenet_v2_100_96~classification~1.txt\n"
     ]
    },
    {
     "name": "stderr",
     "output_type": "stream",
     "text": [
      "INFO:tensorflow:Creating bottleneck at /tmp/bottleneck/anthro /EE69HA.jpg_https~tfhub.dev~google~imagenet~mobilenet_v2_100_96~classification~1.txt\n"
     ]
    },
    {
     "name": "stdout",
     "output_type": "stream",
     "text": [
      "INFO:tensorflow:Creating bottleneck at /tmp/bottleneck/anthro /2GAMU5.jpg_https~tfhub.dev~google~imagenet~mobilenet_v2_100_96~classification~1.txt\n"
     ]
    },
    {
     "name": "stderr",
     "output_type": "stream",
     "text": [
      "INFO:tensorflow:Creating bottleneck at /tmp/bottleneck/anthro /2GAMU5.jpg_https~tfhub.dev~google~imagenet~mobilenet_v2_100_96~classification~1.txt\n"
     ]
    },
    {
     "name": "stdout",
     "output_type": "stream",
     "text": [
      "INFO:tensorflow:Creating bottleneck at /tmp/bottleneck/anthro /VSBI2W.jpg_https~tfhub.dev~google~imagenet~mobilenet_v2_100_96~classification~1.txt\n"
     ]
    },
    {
     "name": "stderr",
     "output_type": "stream",
     "text": [
      "INFO:tensorflow:Creating bottleneck at /tmp/bottleneck/anthro /VSBI2W.jpg_https~tfhub.dev~google~imagenet~mobilenet_v2_100_96~classification~1.txt\n"
     ]
    },
    {
     "name": "stdout",
     "output_type": "stream",
     "text": [
      "INFO:tensorflow:Creating bottleneck at /tmp/bottleneck/anthro /SCQS35.jpg_https~tfhub.dev~google~imagenet~mobilenet_v2_100_96~classification~1.txt\n"
     ]
    },
    {
     "name": "stderr",
     "output_type": "stream",
     "text": [
      "INFO:tensorflow:Creating bottleneck at /tmp/bottleneck/anthro /SCQS35.jpg_https~tfhub.dev~google~imagenet~mobilenet_v2_100_96~classification~1.txt\n"
     ]
    },
    {
     "name": "stdout",
     "output_type": "stream",
     "text": [
      "INFO:tensorflow:Creating bottleneck at /tmp/bottleneck/anthro /KN4434.jpg_https~tfhub.dev~google~imagenet~mobilenet_v2_100_96~classification~1.txt\n"
     ]
    },
    {
     "name": "stderr",
     "output_type": "stream",
     "text": [
      "INFO:tensorflow:Creating bottleneck at /tmp/bottleneck/anthro /KN4434.jpg_https~tfhub.dev~google~imagenet~mobilenet_v2_100_96~classification~1.txt\n"
     ]
    },
    {
     "name": "stdout",
     "output_type": "stream",
     "text": [
      "INFO:tensorflow:Creating bottleneck at /tmp/bottleneck/anthro /F46S1S.jpg_https~tfhub.dev~google~imagenet~mobilenet_v2_100_96~classification~1.txt\n"
     ]
    },
    {
     "name": "stderr",
     "output_type": "stream",
     "text": [
      "INFO:tensorflow:Creating bottleneck at /tmp/bottleneck/anthro /F46S1S.jpg_https~tfhub.dev~google~imagenet~mobilenet_v2_100_96~classification~1.txt\n"
     ]
    },
    {
     "name": "stdout",
     "output_type": "stream",
     "text": [
      "INFO:tensorflow:Creating bottleneck at /tmp/bottleneck/anthro /NNO4T1.jpg_https~tfhub.dev~google~imagenet~mobilenet_v2_100_96~classification~1.txt\n"
     ]
    },
    {
     "name": "stderr",
     "output_type": "stream",
     "text": [
      "INFO:tensorflow:Creating bottleneck at /tmp/bottleneck/anthro /NNO4T1.jpg_https~tfhub.dev~google~imagenet~mobilenet_v2_100_96~classification~1.txt\n"
     ]
    },
    {
     "name": "stdout",
     "output_type": "stream",
     "text": [
      "INFO:tensorflow:Creating bottleneck at /tmp/bottleneck/anthro /FLAS6J.jpg_https~tfhub.dev~google~imagenet~mobilenet_v2_100_96~classification~1.txt\n"
     ]
    },
    {
     "name": "stderr",
     "output_type": "stream",
     "text": [
      "INFO:tensorflow:Creating bottleneck at /tmp/bottleneck/anthro /FLAS6J.jpg_https~tfhub.dev~google~imagenet~mobilenet_v2_100_96~classification~1.txt\n"
     ]
    },
    {
     "name": "stdout",
     "output_type": "stream",
     "text": [
      "INFO:tensorflow:Creating bottleneck at /tmp/bottleneck/anthro /FJVFUJ.jpg_https~tfhub.dev~google~imagenet~mobilenet_v2_100_96~classification~1.txt\n"
     ]
    },
    {
     "name": "stderr",
     "output_type": "stream",
     "text": [
      "INFO:tensorflow:Creating bottleneck at /tmp/bottleneck/anthro /FJVFUJ.jpg_https~tfhub.dev~google~imagenet~mobilenet_v2_100_96~classification~1.txt\n"
     ]
    },
    {
     "name": "stdout",
     "output_type": "stream",
     "text": [
      "INFO:tensorflow:Creating bottleneck at /tmp/bottleneck/anthro /RX2A58.jpg_https~tfhub.dev~google~imagenet~mobilenet_v2_100_96~classification~1.txt\n"
     ]
    },
    {
     "name": "stderr",
     "output_type": "stream",
     "text": [
      "INFO:tensorflow:Creating bottleneck at /tmp/bottleneck/anthro /RX2A58.jpg_https~tfhub.dev~google~imagenet~mobilenet_v2_100_96~classification~1.txt\n"
     ]
    },
    {
     "name": "stdout",
     "output_type": "stream",
     "text": [
      "INFO:tensorflow:Creating bottleneck at /tmp/bottleneck/anthro /G9IKYM.jpg_https~tfhub.dev~google~imagenet~mobilenet_v2_100_96~classification~1.txt\n"
     ]
    },
    {
     "name": "stderr",
     "output_type": "stream",
     "text": [
      "INFO:tensorflow:Creating bottleneck at /tmp/bottleneck/anthro /G9IKYM.jpg_https~tfhub.dev~google~imagenet~mobilenet_v2_100_96~classification~1.txt\n"
     ]
    },
    {
     "name": "stdout",
     "output_type": "stream",
     "text": [
      "INFO:tensorflow:Creating bottleneck at /tmp/bottleneck/anthro /P2SYST.jpg_https~tfhub.dev~google~imagenet~mobilenet_v2_100_96~classification~1.txt\n"
     ]
    },
    {
     "name": "stderr",
     "output_type": "stream",
     "text": [
      "INFO:tensorflow:Creating bottleneck at /tmp/bottleneck/anthro /P2SYST.jpg_https~tfhub.dev~google~imagenet~mobilenet_v2_100_96~classification~1.txt\n"
     ]
    },
    {
     "name": "stdout",
     "output_type": "stream",
     "text": [
      "INFO:tensorflow:Creating bottleneck at /tmp/bottleneck/anthro /3C0ZZE.jpg_https~tfhub.dev~google~imagenet~mobilenet_v2_100_96~classification~1.txt\n"
     ]
    },
    {
     "name": "stderr",
     "output_type": "stream",
     "text": [
      "INFO:tensorflow:Creating bottleneck at /tmp/bottleneck/anthro /3C0ZZE.jpg_https~tfhub.dev~google~imagenet~mobilenet_v2_100_96~classification~1.txt\n"
     ]
    },
    {
     "name": "stdout",
     "output_type": "stream",
     "text": [
      "INFO:tensorflow:Creating bottleneck at /tmp/bottleneck/anthro /899ORZ.jpg_https~tfhub.dev~google~imagenet~mobilenet_v2_100_96~classification~1.txt\n"
     ]
    },
    {
     "name": "stderr",
     "output_type": "stream",
     "text": [
      "INFO:tensorflow:Creating bottleneck at /tmp/bottleneck/anthro /899ORZ.jpg_https~tfhub.dev~google~imagenet~mobilenet_v2_100_96~classification~1.txt\n"
     ]
    },
    {
     "name": "stdout",
     "output_type": "stream",
     "text": [
      "INFO:tensorflow:Creating bottleneck at /tmp/bottleneck/anthro /T8WRM3.jpg_https~tfhub.dev~google~imagenet~mobilenet_v2_100_96~classification~1.txt\n"
     ]
    },
    {
     "name": "stderr",
     "output_type": "stream",
     "text": [
      "INFO:tensorflow:Creating bottleneck at /tmp/bottleneck/anthro /T8WRM3.jpg_https~tfhub.dev~google~imagenet~mobilenet_v2_100_96~classification~1.txt\n"
     ]
    },
    {
     "name": "stdout",
     "output_type": "stream",
     "text": [
      "INFO:tensorflow:Creating bottleneck at /tmp/bottleneck/anthro /VTFY64.jpg_https~tfhub.dev~google~imagenet~mobilenet_v2_100_96~classification~1.txt\n"
     ]
    },
    {
     "name": "stderr",
     "output_type": "stream",
     "text": [
      "INFO:tensorflow:Creating bottleneck at /tmp/bottleneck/anthro /VTFY64.jpg_https~tfhub.dev~google~imagenet~mobilenet_v2_100_96~classification~1.txt\n"
     ]
    },
    {
     "name": "stdout",
     "output_type": "stream",
     "text": [
      "INFO:tensorflow:Creating bottleneck at /tmp/bottleneck/anthro /F2WXR7.jpg_https~tfhub.dev~google~imagenet~mobilenet_v2_100_96~classification~1.txt\n"
     ]
    },
    {
     "name": "stderr",
     "output_type": "stream",
     "text": [
      "INFO:tensorflow:Creating bottleneck at /tmp/bottleneck/anthro /F2WXR7.jpg_https~tfhub.dev~google~imagenet~mobilenet_v2_100_96~classification~1.txt\n"
     ]
    },
    {
     "name": "stdout",
     "output_type": "stream",
     "text": [
      "INFO:tensorflow:Creating bottleneck at /tmp/bottleneck/anthro /FA9AI0.jpg_https~tfhub.dev~google~imagenet~mobilenet_v2_100_96~classification~1.txt\n"
     ]
    },
    {
     "name": "stderr",
     "output_type": "stream",
     "text": [
      "INFO:tensorflow:Creating bottleneck at /tmp/bottleneck/anthro /FA9AI0.jpg_https~tfhub.dev~google~imagenet~mobilenet_v2_100_96~classification~1.txt\n"
     ]
    },
    {
     "name": "stdout",
     "output_type": "stream",
     "text": [
      "INFO:tensorflow:Creating bottleneck at /tmp/bottleneck/anthro /J5ERE3.jpg_https~tfhub.dev~google~imagenet~mobilenet_v2_100_96~classification~1.txt\n"
     ]
    },
    {
     "name": "stderr",
     "output_type": "stream",
     "text": [
      "INFO:tensorflow:Creating bottleneck at /tmp/bottleneck/anthro /J5ERE3.jpg_https~tfhub.dev~google~imagenet~mobilenet_v2_100_96~classification~1.txt\n"
     ]
    },
    {
     "name": "stdout",
     "output_type": "stream",
     "text": [
      "INFO:tensorflow:Creating bottleneck at /tmp/bottleneck/anthro /19LGFP.jpg_https~tfhub.dev~google~imagenet~mobilenet_v2_100_96~classification~1.txt\n"
     ]
    },
    {
     "name": "stderr",
     "output_type": "stream",
     "text": [
      "INFO:tensorflow:Creating bottleneck at /tmp/bottleneck/anthro /19LGFP.jpg_https~tfhub.dev~google~imagenet~mobilenet_v2_100_96~classification~1.txt\n"
     ]
    },
    {
     "name": "stdout",
     "output_type": "stream",
     "text": [
      "INFO:tensorflow:Creating bottleneck at /tmp/bottleneck/anthro /WC5HSY.jpg_https~tfhub.dev~google~imagenet~mobilenet_v2_100_96~classification~1.txt\n"
     ]
    },
    {
     "name": "stderr",
     "output_type": "stream",
     "text": [
      "INFO:tensorflow:Creating bottleneck at /tmp/bottleneck/anthro /WC5HSY.jpg_https~tfhub.dev~google~imagenet~mobilenet_v2_100_96~classification~1.txt\n"
     ]
    },
    {
     "name": "stdout",
     "output_type": "stream",
     "text": [
      "INFO:tensorflow:Creating bottleneck at /tmp/bottleneck/anthro /UNGPVR.jpg_https~tfhub.dev~google~imagenet~mobilenet_v2_100_96~classification~1.txt\n"
     ]
    },
    {
     "name": "stderr",
     "output_type": "stream",
     "text": [
      "INFO:tensorflow:Creating bottleneck at /tmp/bottleneck/anthro /UNGPVR.jpg_https~tfhub.dev~google~imagenet~mobilenet_v2_100_96~classification~1.txt\n"
     ]
    },
    {
     "name": "stdout",
     "output_type": "stream",
     "text": [
      "INFO:tensorflow:Creating bottleneck at /tmp/bottleneck/anthro /4DY3OQ.jpg_https~tfhub.dev~google~imagenet~mobilenet_v2_100_96~classification~1.txt\n"
     ]
    },
    {
     "name": "stderr",
     "output_type": "stream",
     "text": [
      "INFO:tensorflow:Creating bottleneck at /tmp/bottleneck/anthro /4DY3OQ.jpg_https~tfhub.dev~google~imagenet~mobilenet_v2_100_96~classification~1.txt\n"
     ]
    },
    {
     "name": "stdout",
     "output_type": "stream",
     "text": [
      "INFO:tensorflow:Creating bottleneck at /tmp/bottleneck/anthro /O1G359.jpg_https~tfhub.dev~google~imagenet~mobilenet_v2_100_96~classification~1.txt\n"
     ]
    },
    {
     "name": "stderr",
     "output_type": "stream",
     "text": [
      "INFO:tensorflow:Creating bottleneck at /tmp/bottleneck/anthro /O1G359.jpg_https~tfhub.dev~google~imagenet~mobilenet_v2_100_96~classification~1.txt\n"
     ]
    },
    {
     "name": "stdout",
     "output_type": "stream",
     "text": [
      "INFO:tensorflow:Creating bottleneck at /tmp/bottleneck/anthro /Y0DZQ7.jpg_https~tfhub.dev~google~imagenet~mobilenet_v2_100_96~classification~1.txt\n"
     ]
    },
    {
     "name": "stderr",
     "output_type": "stream",
     "text": [
      "INFO:tensorflow:Creating bottleneck at /tmp/bottleneck/anthro /Y0DZQ7.jpg_https~tfhub.dev~google~imagenet~mobilenet_v2_100_96~classification~1.txt\n"
     ]
    },
    {
     "name": "stdout",
     "output_type": "stream",
     "text": [
      "INFO:tensorflow:Creating bottleneck at /tmp/bottleneck/anthro /V775PE.jpg_https~tfhub.dev~google~imagenet~mobilenet_v2_100_96~classification~1.txt\n"
     ]
    },
    {
     "name": "stderr",
     "output_type": "stream",
     "text": [
      "INFO:tensorflow:Creating bottleneck at /tmp/bottleneck/anthro /V775PE.jpg_https~tfhub.dev~google~imagenet~mobilenet_v2_100_96~classification~1.txt\n"
     ]
    },
    {
     "name": "stdout",
     "output_type": "stream",
     "text": [
      "INFO:tensorflow:100 bottleneck files created.\n"
     ]
    },
    {
     "name": "stderr",
     "output_type": "stream",
     "text": [
      "INFO:tensorflow:100 bottleneck files created.\n"
     ]
    },
    {
     "name": "stdout",
     "output_type": "stream",
     "text": [
      "INFO:tensorflow:Creating bottleneck at /tmp/bottleneck/anthro /0E1952.jpg_https~tfhub.dev~google~imagenet~mobilenet_v2_100_96~classification~1.txt\n"
     ]
    },
    {
     "name": "stderr",
     "output_type": "stream",
     "text": [
      "INFO:tensorflow:Creating bottleneck at /tmp/bottleneck/anthro /0E1952.jpg_https~tfhub.dev~google~imagenet~mobilenet_v2_100_96~classification~1.txt\n"
     ]
    },
    {
     "name": "stdout",
     "output_type": "stream",
     "text": [
      "INFO:tensorflow:Creating bottleneck at /tmp/bottleneck/anthro /819ZVC.jpg_https~tfhub.dev~google~imagenet~mobilenet_v2_100_96~classification~1.txt\n"
     ]
    },
    {
     "name": "stderr",
     "output_type": "stream",
     "text": [
      "INFO:tensorflow:Creating bottleneck at /tmp/bottleneck/anthro /819ZVC.jpg_https~tfhub.dev~google~imagenet~mobilenet_v2_100_96~classification~1.txt\n"
     ]
    },
    {
     "name": "stdout",
     "output_type": "stream",
     "text": [
      "INFO:tensorflow:Creating bottleneck at /tmp/bottleneck/anthro /N1AS2Q.jpg_https~tfhub.dev~google~imagenet~mobilenet_v2_100_96~classification~1.txt\n"
     ]
    },
    {
     "name": "stderr",
     "output_type": "stream",
     "text": [
      "INFO:tensorflow:Creating bottleneck at /tmp/bottleneck/anthro /N1AS2Q.jpg_https~tfhub.dev~google~imagenet~mobilenet_v2_100_96~classification~1.txt\n"
     ]
    },
    {
     "name": "stdout",
     "output_type": "stream",
     "text": [
      "INFO:tensorflow:Creating bottleneck at /tmp/bottleneck/anthro /9QCRKX.jpg_https~tfhub.dev~google~imagenet~mobilenet_v2_100_96~classification~1.txt\n"
     ]
    },
    {
     "name": "stderr",
     "output_type": "stream",
     "text": [
      "INFO:tensorflow:Creating bottleneck at /tmp/bottleneck/anthro /9QCRKX.jpg_https~tfhub.dev~google~imagenet~mobilenet_v2_100_96~classification~1.txt\n"
     ]
    },
    {
     "name": "stdout",
     "output_type": "stream",
     "text": [
      "INFO:tensorflow:Creating bottleneck at /tmp/bottleneck/anthro /A67MLP.jpg_https~tfhub.dev~google~imagenet~mobilenet_v2_100_96~classification~1.txt\n"
     ]
    },
    {
     "name": "stderr",
     "output_type": "stream",
     "text": [
      "INFO:tensorflow:Creating bottleneck at /tmp/bottleneck/anthro /A67MLP.jpg_https~tfhub.dev~google~imagenet~mobilenet_v2_100_96~classification~1.txt\n"
     ]
    },
    {
     "name": "stdout",
     "output_type": "stream",
     "text": [
      "INFO:tensorflow:Creating bottleneck at /tmp/bottleneck/anthro /YRRTBX.jpg_https~tfhub.dev~google~imagenet~mobilenet_v2_100_96~classification~1.txt\n"
     ]
    },
    {
     "name": "stderr",
     "output_type": "stream",
     "text": [
      "INFO:tensorflow:Creating bottleneck at /tmp/bottleneck/anthro /YRRTBX.jpg_https~tfhub.dev~google~imagenet~mobilenet_v2_100_96~classification~1.txt\n"
     ]
    },
    {
     "name": "stdout",
     "output_type": "stream",
     "text": [
      "INFO:tensorflow:Creating bottleneck at /tmp/bottleneck/anthro /VY6R9P.jpg_https~tfhub.dev~google~imagenet~mobilenet_v2_100_96~classification~1.txt\n"
     ]
    },
    {
     "name": "stderr",
     "output_type": "stream",
     "text": [
      "INFO:tensorflow:Creating bottleneck at /tmp/bottleneck/anthro /VY6R9P.jpg_https~tfhub.dev~google~imagenet~mobilenet_v2_100_96~classification~1.txt\n"
     ]
    },
    {
     "name": "stdout",
     "output_type": "stream",
     "text": [
      "INFO:tensorflow:Creating bottleneck at /tmp/bottleneck/anthro /NBH21E.jpg_https~tfhub.dev~google~imagenet~mobilenet_v2_100_96~classification~1.txt\n"
     ]
    },
    {
     "name": "stderr",
     "output_type": "stream",
     "text": [
      "INFO:tensorflow:Creating bottleneck at /tmp/bottleneck/anthro /NBH21E.jpg_https~tfhub.dev~google~imagenet~mobilenet_v2_100_96~classification~1.txt\n"
     ]
    },
    {
     "name": "stdout",
     "output_type": "stream",
     "text": [
      "INFO:tensorflow:Creating bottleneck at /tmp/bottleneck/anthro /VZC09O.jpg_https~tfhub.dev~google~imagenet~mobilenet_v2_100_96~classification~1.txt\n"
     ]
    },
    {
     "name": "stderr",
     "output_type": "stream",
     "text": [
      "INFO:tensorflow:Creating bottleneck at /tmp/bottleneck/anthro /VZC09O.jpg_https~tfhub.dev~google~imagenet~mobilenet_v2_100_96~classification~1.txt\n"
     ]
    },
    {
     "name": "stdout",
     "output_type": "stream",
     "text": [
      "INFO:tensorflow:Creating bottleneck at /tmp/bottleneck/anthro /6G1LOZ.jpg_https~tfhub.dev~google~imagenet~mobilenet_v2_100_96~classification~1.txt\n"
     ]
    },
    {
     "name": "stderr",
     "output_type": "stream",
     "text": [
      "INFO:tensorflow:Creating bottleneck at /tmp/bottleneck/anthro /6G1LOZ.jpg_https~tfhub.dev~google~imagenet~mobilenet_v2_100_96~classification~1.txt\n"
     ]
    },
    {
     "name": "stdout",
     "output_type": "stream",
     "text": [
      "INFO:tensorflow:Creating bottleneck at /tmp/bottleneck/anthro /YZ4YEU.jpg_https~tfhub.dev~google~imagenet~mobilenet_v2_100_96~classification~1.txt\n"
     ]
    },
    {
     "name": "stderr",
     "output_type": "stream",
     "text": [
      "INFO:tensorflow:Creating bottleneck at /tmp/bottleneck/anthro /YZ4YEU.jpg_https~tfhub.dev~google~imagenet~mobilenet_v2_100_96~classification~1.txt\n"
     ]
    },
    {
     "name": "stdout",
     "output_type": "stream",
     "text": [
      "INFO:tensorflow:Creating bottleneck at /tmp/bottleneck/anthro /TNV6R1.jpg_https~tfhub.dev~google~imagenet~mobilenet_v2_100_96~classification~1.txt\n"
     ]
    },
    {
     "name": "stderr",
     "output_type": "stream",
     "text": [
      "INFO:tensorflow:Creating bottleneck at /tmp/bottleneck/anthro /TNV6R1.jpg_https~tfhub.dev~google~imagenet~mobilenet_v2_100_96~classification~1.txt\n"
     ]
    },
    {
     "name": "stdout",
     "output_type": "stream",
     "text": [
      "INFO:tensorflow:Creating bottleneck at /tmp/bottleneck/anthro /5MMAFG.jpg_https~tfhub.dev~google~imagenet~mobilenet_v2_100_96~classification~1.txt\n"
     ]
    },
    {
     "name": "stderr",
     "output_type": "stream",
     "text": [
      "INFO:tensorflow:Creating bottleneck at /tmp/bottleneck/anthro /5MMAFG.jpg_https~tfhub.dev~google~imagenet~mobilenet_v2_100_96~classification~1.txt\n"
     ]
    },
    {
     "name": "stdout",
     "output_type": "stream",
     "text": [
      "INFO:tensorflow:Creating bottleneck at /tmp/bottleneck/anthro /SVYWDJ.jpg_https~tfhub.dev~google~imagenet~mobilenet_v2_100_96~classification~1.txt\n"
     ]
    },
    {
     "name": "stderr",
     "output_type": "stream",
     "text": [
      "INFO:tensorflow:Creating bottleneck at /tmp/bottleneck/anthro /SVYWDJ.jpg_https~tfhub.dev~google~imagenet~mobilenet_v2_100_96~classification~1.txt\n"
     ]
    },
    {
     "name": "stdout",
     "output_type": "stream",
     "text": [
      "INFO:tensorflow:Creating bottleneck at /tmp/bottleneck/anthro /GHF29X.jpg_https~tfhub.dev~google~imagenet~mobilenet_v2_100_96~classification~1.txt\n"
     ]
    },
    {
     "name": "stderr",
     "output_type": "stream",
     "text": [
      "INFO:tensorflow:Creating bottleneck at /tmp/bottleneck/anthro /GHF29X.jpg_https~tfhub.dev~google~imagenet~mobilenet_v2_100_96~classification~1.txt\n"
     ]
    },
    {
     "name": "stdout",
     "output_type": "stream",
     "text": [
      "INFO:tensorflow:Creating bottleneck at /tmp/bottleneck/anthro /OCOZBV.jpg_https~tfhub.dev~google~imagenet~mobilenet_v2_100_96~classification~1.txt\n"
     ]
    },
    {
     "name": "stderr",
     "output_type": "stream",
     "text": [
      "INFO:tensorflow:Creating bottleneck at /tmp/bottleneck/anthro /OCOZBV.jpg_https~tfhub.dev~google~imagenet~mobilenet_v2_100_96~classification~1.txt\n"
     ]
    },
    {
     "name": "stdout",
     "output_type": "stream",
     "text": [
      "INFO:tensorflow:Creating bottleneck at /tmp/bottleneck/anthro /NFQ4I0.jpg_https~tfhub.dev~google~imagenet~mobilenet_v2_100_96~classification~1.txt\n"
     ]
    },
    {
     "name": "stderr",
     "output_type": "stream",
     "text": [
      "INFO:tensorflow:Creating bottleneck at /tmp/bottleneck/anthro /NFQ4I0.jpg_https~tfhub.dev~google~imagenet~mobilenet_v2_100_96~classification~1.txt\n"
     ]
    },
    {
     "name": "stdout",
     "output_type": "stream",
     "text": [
      "INFO:tensorflow:Creating bottleneck at /tmp/bottleneck/anthro /VB2AZS.jpg_https~tfhub.dev~google~imagenet~mobilenet_v2_100_96~classification~1.txt\n"
     ]
    },
    {
     "name": "stderr",
     "output_type": "stream",
     "text": [
      "INFO:tensorflow:Creating bottleneck at /tmp/bottleneck/anthro /VB2AZS.jpg_https~tfhub.dev~google~imagenet~mobilenet_v2_100_96~classification~1.txt\n"
     ]
    },
    {
     "name": "stdout",
     "output_type": "stream",
     "text": [
      "INFO:tensorflow:Creating bottleneck at /tmp/bottleneck/anthro /6A5TVX.jpg_https~tfhub.dev~google~imagenet~mobilenet_v2_100_96~classification~1.txt\n"
     ]
    },
    {
     "name": "stderr",
     "output_type": "stream",
     "text": [
      "INFO:tensorflow:Creating bottleneck at /tmp/bottleneck/anthro /6A5TVX.jpg_https~tfhub.dev~google~imagenet~mobilenet_v2_100_96~classification~1.txt\n"
     ]
    },
    {
     "name": "stdout",
     "output_type": "stream",
     "text": [
      "INFO:tensorflow:Creating bottleneck at /tmp/bottleneck/anthro /8A1NBK.jpg_https~tfhub.dev~google~imagenet~mobilenet_v2_100_96~classification~1.txt\n"
     ]
    },
    {
     "name": "stderr",
     "output_type": "stream",
     "text": [
      "INFO:tensorflow:Creating bottleneck at /tmp/bottleneck/anthro /8A1NBK.jpg_https~tfhub.dev~google~imagenet~mobilenet_v2_100_96~classification~1.txt\n"
     ]
    },
    {
     "name": "stdout",
     "output_type": "stream",
     "text": [
      "INFO:tensorflow:Creating bottleneck at /tmp/bottleneck/anthro /8H5Y2X.jpg_https~tfhub.dev~google~imagenet~mobilenet_v2_100_96~classification~1.txt\n"
     ]
    },
    {
     "name": "stderr",
     "output_type": "stream",
     "text": [
      "INFO:tensorflow:Creating bottleneck at /tmp/bottleneck/anthro /8H5Y2X.jpg_https~tfhub.dev~google~imagenet~mobilenet_v2_100_96~classification~1.txt\n"
     ]
    },
    {
     "name": "stdout",
     "output_type": "stream",
     "text": [
      "INFO:tensorflow:Creating bottleneck at /tmp/bottleneck/anthro /85YD2V.jpg_https~tfhub.dev~google~imagenet~mobilenet_v2_100_96~classification~1.txt\n"
     ]
    },
    {
     "name": "stderr",
     "output_type": "stream",
     "text": [
      "INFO:tensorflow:Creating bottleneck at /tmp/bottleneck/anthro /85YD2V.jpg_https~tfhub.dev~google~imagenet~mobilenet_v2_100_96~classification~1.txt\n"
     ]
    },
    {
     "name": "stdout",
     "output_type": "stream",
     "text": [
      "INFO:tensorflow:Creating bottleneck at /tmp/bottleneck/anthro /J8MQVR.jpg_https~tfhub.dev~google~imagenet~mobilenet_v2_100_96~classification~1.txt\n"
     ]
    },
    {
     "name": "stderr",
     "output_type": "stream",
     "text": [
      "INFO:tensorflow:Creating bottleneck at /tmp/bottleneck/anthro /J8MQVR.jpg_https~tfhub.dev~google~imagenet~mobilenet_v2_100_96~classification~1.txt\n"
     ]
    },
    {
     "name": "stdout",
     "output_type": "stream",
     "text": [
      "INFO:tensorflow:Creating bottleneck at /tmp/bottleneck/anthro /6W0JKI.jpg_https~tfhub.dev~google~imagenet~mobilenet_v2_100_96~classification~1.txt\n"
     ]
    },
    {
     "name": "stderr",
     "output_type": "stream",
     "text": [
      "INFO:tensorflow:Creating bottleneck at /tmp/bottleneck/anthro /6W0JKI.jpg_https~tfhub.dev~google~imagenet~mobilenet_v2_100_96~classification~1.txt\n"
     ]
    },
    {
     "name": "stdout",
     "output_type": "stream",
     "text": [
      "INFO:tensorflow:Creating bottleneck at /tmp/bottleneck/anthro /AIZ5OZ.jpg_https~tfhub.dev~google~imagenet~mobilenet_v2_100_96~classification~1.txt\n"
     ]
    },
    {
     "name": "stderr",
     "output_type": "stream",
     "text": [
      "INFO:tensorflow:Creating bottleneck at /tmp/bottleneck/anthro /AIZ5OZ.jpg_https~tfhub.dev~google~imagenet~mobilenet_v2_100_96~classification~1.txt\n"
     ]
    },
    {
     "name": "stdout",
     "output_type": "stream",
     "text": [
      "INFO:tensorflow:Creating bottleneck at /tmp/bottleneck/anthro /DC1R13.jpg_https~tfhub.dev~google~imagenet~mobilenet_v2_100_96~classification~1.txt\n"
     ]
    },
    {
     "name": "stderr",
     "output_type": "stream",
     "text": [
      "INFO:tensorflow:Creating bottleneck at /tmp/bottleneck/anthro /DC1R13.jpg_https~tfhub.dev~google~imagenet~mobilenet_v2_100_96~classification~1.txt\n"
     ]
    },
    {
     "name": "stdout",
     "output_type": "stream",
     "text": [
      "INFO:tensorflow:Creating bottleneck at /tmp/bottleneck/anthro /5TUF41.jpg_https~tfhub.dev~google~imagenet~mobilenet_v2_100_96~classification~1.txt\n"
     ]
    },
    {
     "name": "stderr",
     "output_type": "stream",
     "text": [
      "INFO:tensorflow:Creating bottleneck at /tmp/bottleneck/anthro /5TUF41.jpg_https~tfhub.dev~google~imagenet~mobilenet_v2_100_96~classification~1.txt\n"
     ]
    },
    {
     "name": "stdout",
     "output_type": "stream",
     "text": [
      "INFO:tensorflow:Creating bottleneck at /tmp/bottleneck/anthro /KVYOLR.jpg_https~tfhub.dev~google~imagenet~mobilenet_v2_100_96~classification~1.txt\n"
     ]
    },
    {
     "name": "stderr",
     "output_type": "stream",
     "text": [
      "INFO:tensorflow:Creating bottleneck at /tmp/bottleneck/anthro /KVYOLR.jpg_https~tfhub.dev~google~imagenet~mobilenet_v2_100_96~classification~1.txt\n"
     ]
    },
    {
     "name": "stdout",
     "output_type": "stream",
     "text": [
      "INFO:tensorflow:Creating bottleneck at /tmp/bottleneck/anthro /MC96B5.jpg_https~tfhub.dev~google~imagenet~mobilenet_v2_100_96~classification~1.txt\n"
     ]
    },
    {
     "name": "stderr",
     "output_type": "stream",
     "text": [
      "INFO:tensorflow:Creating bottleneck at /tmp/bottleneck/anthro /MC96B5.jpg_https~tfhub.dev~google~imagenet~mobilenet_v2_100_96~classification~1.txt\n"
     ]
    },
    {
     "name": "stdout",
     "output_type": "stream",
     "text": [
      "INFO:tensorflow:Creating bottleneck at /tmp/bottleneck/anthro /1T11QI.jpg_https~tfhub.dev~google~imagenet~mobilenet_v2_100_96~classification~1.txt\n"
     ]
    },
    {
     "name": "stderr",
     "output_type": "stream",
     "text": [
      "INFO:tensorflow:Creating bottleneck at /tmp/bottleneck/anthro /1T11QI.jpg_https~tfhub.dev~google~imagenet~mobilenet_v2_100_96~classification~1.txt\n"
     ]
    },
    {
     "name": "stdout",
     "output_type": "stream",
     "text": [
      "INFO:tensorflow:Creating bottleneck at /tmp/bottleneck/anthro /38GRAJ.jpg_https~tfhub.dev~google~imagenet~mobilenet_v2_100_96~classification~1.txt\n"
     ]
    },
    {
     "name": "stderr",
     "output_type": "stream",
     "text": [
      "INFO:tensorflow:Creating bottleneck at /tmp/bottleneck/anthro /38GRAJ.jpg_https~tfhub.dev~google~imagenet~mobilenet_v2_100_96~classification~1.txt\n"
     ]
    },
    {
     "name": "stdout",
     "output_type": "stream",
     "text": [
      "INFO:tensorflow:Creating bottleneck at /tmp/bottleneck/anthro /G57REJ.jpg_https~tfhub.dev~google~imagenet~mobilenet_v2_100_96~classification~1.txt\n"
     ]
    },
    {
     "name": "stderr",
     "output_type": "stream",
     "text": [
      "INFO:tensorflow:Creating bottleneck at /tmp/bottleneck/anthro /G57REJ.jpg_https~tfhub.dev~google~imagenet~mobilenet_v2_100_96~classification~1.txt\n"
     ]
    },
    {
     "name": "stdout",
     "output_type": "stream",
     "text": [
      "INFO:tensorflow:Creating bottleneck at /tmp/bottleneck/anthro /ERQ529.jpg_https~tfhub.dev~google~imagenet~mobilenet_v2_100_96~classification~1.txt\n"
     ]
    },
    {
     "name": "stderr",
     "output_type": "stream",
     "text": [
      "INFO:tensorflow:Creating bottleneck at /tmp/bottleneck/anthro /ERQ529.jpg_https~tfhub.dev~google~imagenet~mobilenet_v2_100_96~classification~1.txt\n"
     ]
    },
    {
     "name": "stdout",
     "output_type": "stream",
     "text": [
      "INFO:tensorflow:Creating bottleneck at /tmp/bottleneck/anthro /67ROMW.jpg_https~tfhub.dev~google~imagenet~mobilenet_v2_100_96~classification~1.txt\n"
     ]
    },
    {
     "name": "stderr",
     "output_type": "stream",
     "text": [
      "INFO:tensorflow:Creating bottleneck at /tmp/bottleneck/anthro /67ROMW.jpg_https~tfhub.dev~google~imagenet~mobilenet_v2_100_96~classification~1.txt\n"
     ]
    },
    {
     "name": "stdout",
     "output_type": "stream",
     "text": [
      "INFO:tensorflow:Creating bottleneck at /tmp/bottleneck/anthro /M77YFL.jpg_https~tfhub.dev~google~imagenet~mobilenet_v2_100_96~classification~1.txt\n"
     ]
    },
    {
     "name": "stderr",
     "output_type": "stream",
     "text": [
      "INFO:tensorflow:Creating bottleneck at /tmp/bottleneck/anthro /M77YFL.jpg_https~tfhub.dev~google~imagenet~mobilenet_v2_100_96~classification~1.txt\n"
     ]
    },
    {
     "name": "stdout",
     "output_type": "stream",
     "text": [
      "INFO:tensorflow:Creating bottleneck at /tmp/bottleneck/anthro /AGECQV.jpg_https~tfhub.dev~google~imagenet~mobilenet_v2_100_96~classification~1.txt\n"
     ]
    },
    {
     "name": "stderr",
     "output_type": "stream",
     "text": [
      "INFO:tensorflow:Creating bottleneck at /tmp/bottleneck/anthro /AGECQV.jpg_https~tfhub.dev~google~imagenet~mobilenet_v2_100_96~classification~1.txt\n"
     ]
    },
    {
     "name": "stdout",
     "output_type": "stream",
     "text": [
      "INFO:tensorflow:Creating bottleneck at /tmp/bottleneck/anthro /1PDGH3.jpg_https~tfhub.dev~google~imagenet~mobilenet_v2_100_96~classification~1.txt\n"
     ]
    },
    {
     "name": "stderr",
     "output_type": "stream",
     "text": [
      "INFO:tensorflow:Creating bottleneck at /tmp/bottleneck/anthro /1PDGH3.jpg_https~tfhub.dev~google~imagenet~mobilenet_v2_100_96~classification~1.txt\n"
     ]
    },
    {
     "name": "stdout",
     "output_type": "stream",
     "text": [
      "INFO:tensorflow:Creating bottleneck at /tmp/bottleneck/anthro /QUG3ZV.jpg_https~tfhub.dev~google~imagenet~mobilenet_v2_100_96~classification~1.txt\n"
     ]
    },
    {
     "name": "stderr",
     "output_type": "stream",
     "text": [
      "INFO:tensorflow:Creating bottleneck at /tmp/bottleneck/anthro /QUG3ZV.jpg_https~tfhub.dev~google~imagenet~mobilenet_v2_100_96~classification~1.txt\n"
     ]
    },
    {
     "name": "stdout",
     "output_type": "stream",
     "text": [
      "INFO:tensorflow:Creating bottleneck at /tmp/bottleneck/anthro /EQ4S7S.jpg_https~tfhub.dev~google~imagenet~mobilenet_v2_100_96~classification~1.txt\n"
     ]
    },
    {
     "name": "stderr",
     "output_type": "stream",
     "text": [
      "INFO:tensorflow:Creating bottleneck at /tmp/bottleneck/anthro /EQ4S7S.jpg_https~tfhub.dev~google~imagenet~mobilenet_v2_100_96~classification~1.txt\n"
     ]
    },
    {
     "name": "stdout",
     "output_type": "stream",
     "text": [
      "INFO:tensorflow:Creating bottleneck at /tmp/bottleneck/anthro /8880JD.jpg_https~tfhub.dev~google~imagenet~mobilenet_v2_100_96~classification~1.txt\n"
     ]
    },
    {
     "name": "stderr",
     "output_type": "stream",
     "text": [
      "INFO:tensorflow:Creating bottleneck at /tmp/bottleneck/anthro /8880JD.jpg_https~tfhub.dev~google~imagenet~mobilenet_v2_100_96~classification~1.txt\n"
     ]
    },
    {
     "name": "stdout",
     "output_type": "stream",
     "text": [
      "INFO:tensorflow:Creating bottleneck at /tmp/bottleneck/anthro /FBM9IE.jpg_https~tfhub.dev~google~imagenet~mobilenet_v2_100_96~classification~1.txt\n"
     ]
    },
    {
     "name": "stderr",
     "output_type": "stream",
     "text": [
      "INFO:tensorflow:Creating bottleneck at /tmp/bottleneck/anthro /FBM9IE.jpg_https~tfhub.dev~google~imagenet~mobilenet_v2_100_96~classification~1.txt\n"
     ]
    },
    {
     "name": "stdout",
     "output_type": "stream",
     "text": [
      "INFO:tensorflow:Creating bottleneck at /tmp/bottleneck/anthro /T5A2EC.jpg_https~tfhub.dev~google~imagenet~mobilenet_v2_100_96~classification~1.txt\n"
     ]
    },
    {
     "name": "stderr",
     "output_type": "stream",
     "text": [
      "INFO:tensorflow:Creating bottleneck at /tmp/bottleneck/anthro /T5A2EC.jpg_https~tfhub.dev~google~imagenet~mobilenet_v2_100_96~classification~1.txt\n"
     ]
    },
    {
     "name": "stdout",
     "output_type": "stream",
     "text": [
      "INFO:tensorflow:Creating bottleneck at /tmp/bottleneck/anthro /X3JL55.jpg_https~tfhub.dev~google~imagenet~mobilenet_v2_100_96~classification~1.txt\n"
     ]
    },
    {
     "name": "stderr",
     "output_type": "stream",
     "text": [
      "INFO:tensorflow:Creating bottleneck at /tmp/bottleneck/anthro /X3JL55.jpg_https~tfhub.dev~google~imagenet~mobilenet_v2_100_96~classification~1.txt\n"
     ]
    },
    {
     "name": "stdout",
     "output_type": "stream",
     "text": [
      "INFO:tensorflow:Creating bottleneck at /tmp/bottleneck/anthro /CFTYVV.jpg_https~tfhub.dev~google~imagenet~mobilenet_v2_100_96~classification~1.txt\n"
     ]
    },
    {
     "name": "stderr",
     "output_type": "stream",
     "text": [
      "INFO:tensorflow:Creating bottleneck at /tmp/bottleneck/anthro /CFTYVV.jpg_https~tfhub.dev~google~imagenet~mobilenet_v2_100_96~classification~1.txt\n"
     ]
    },
    {
     "name": "stdout",
     "output_type": "stream",
     "text": [
      "INFO:tensorflow:Creating bottleneck at /tmp/bottleneck/anthro /63THFQ.jpg_https~tfhub.dev~google~imagenet~mobilenet_v2_100_96~classification~1.txt\n"
     ]
    },
    {
     "name": "stderr",
     "output_type": "stream",
     "text": [
      "INFO:tensorflow:Creating bottleneck at /tmp/bottleneck/anthro /63THFQ.jpg_https~tfhub.dev~google~imagenet~mobilenet_v2_100_96~classification~1.txt\n"
     ]
    },
    {
     "name": "stdout",
     "output_type": "stream",
     "text": [
      "INFO:tensorflow:Creating bottleneck at /tmp/bottleneck/anthro /ZMQI9K.jpg_https~tfhub.dev~google~imagenet~mobilenet_v2_100_96~classification~1.txt\n"
     ]
    },
    {
     "name": "stderr",
     "output_type": "stream",
     "text": [
      "INFO:tensorflow:Creating bottleneck at /tmp/bottleneck/anthro /ZMQI9K.jpg_https~tfhub.dev~google~imagenet~mobilenet_v2_100_96~classification~1.txt\n"
     ]
    },
    {
     "name": "stdout",
     "output_type": "stream",
     "text": [
      "INFO:tensorflow:Creating bottleneck at /tmp/bottleneck/anthro /VYYF3P.jpg_https~tfhub.dev~google~imagenet~mobilenet_v2_100_96~classification~1.txt\n"
     ]
    },
    {
     "name": "stderr",
     "output_type": "stream",
     "text": [
      "INFO:tensorflow:Creating bottleneck at /tmp/bottleneck/anthro /VYYF3P.jpg_https~tfhub.dev~google~imagenet~mobilenet_v2_100_96~classification~1.txt\n"
     ]
    },
    {
     "name": "stdout",
     "output_type": "stream",
     "text": [
      "INFO:tensorflow:Creating bottleneck at /tmp/bottleneck/anthro /KX1QK9.jpg_https~tfhub.dev~google~imagenet~mobilenet_v2_100_96~classification~1.txt\n"
     ]
    },
    {
     "name": "stderr",
     "output_type": "stream",
     "text": [
      "INFO:tensorflow:Creating bottleneck at /tmp/bottleneck/anthro /KX1QK9.jpg_https~tfhub.dev~google~imagenet~mobilenet_v2_100_96~classification~1.txt\n"
     ]
    },
    {
     "name": "stdout",
     "output_type": "stream",
     "text": [
      "INFO:tensorflow:Creating bottleneck at /tmp/bottleneck/anthro /BRAZ46.jpg_https~tfhub.dev~google~imagenet~mobilenet_v2_100_96~classification~1.txt\n"
     ]
    },
    {
     "name": "stderr",
     "output_type": "stream",
     "text": [
      "INFO:tensorflow:Creating bottleneck at /tmp/bottleneck/anthro /BRAZ46.jpg_https~tfhub.dev~google~imagenet~mobilenet_v2_100_96~classification~1.txt\n"
     ]
    },
    {
     "name": "stdout",
     "output_type": "stream",
     "text": [
      "INFO:tensorflow:Creating bottleneck at /tmp/bottleneck/anthro /ZF4IWJ.jpg_https~tfhub.dev~google~imagenet~mobilenet_v2_100_96~classification~1.txt\n"
     ]
    },
    {
     "name": "stderr",
     "output_type": "stream",
     "text": [
      "INFO:tensorflow:Creating bottleneck at /tmp/bottleneck/anthro /ZF4IWJ.jpg_https~tfhub.dev~google~imagenet~mobilenet_v2_100_96~classification~1.txt\n"
     ]
    },
    {
     "name": "stdout",
     "output_type": "stream",
     "text": [
      "INFO:tensorflow:Creating bottleneck at /tmp/bottleneck/anthro /UMFEG4.jpg_https~tfhub.dev~google~imagenet~mobilenet_v2_100_96~classification~1.txt\n"
     ]
    },
    {
     "name": "stderr",
     "output_type": "stream",
     "text": [
      "INFO:tensorflow:Creating bottleneck at /tmp/bottleneck/anthro /UMFEG4.jpg_https~tfhub.dev~google~imagenet~mobilenet_v2_100_96~classification~1.txt\n"
     ]
    },
    {
     "name": "stdout",
     "output_type": "stream",
     "text": [
      "INFO:tensorflow:Creating bottleneck at /tmp/bottleneck/anthro /GEJPC2.jpg_https~tfhub.dev~google~imagenet~mobilenet_v2_100_96~classification~1.txt\n"
     ]
    },
    {
     "name": "stderr",
     "output_type": "stream",
     "text": [
      "INFO:tensorflow:Creating bottleneck at /tmp/bottleneck/anthro /GEJPC2.jpg_https~tfhub.dev~google~imagenet~mobilenet_v2_100_96~classification~1.txt\n"
     ]
    },
    {
     "name": "stdout",
     "output_type": "stream",
     "text": [
      "INFO:tensorflow:Creating bottleneck at /tmp/bottleneck/anthro /RNYD1E.jpg_https~tfhub.dev~google~imagenet~mobilenet_v2_100_96~classification~1.txt\n"
     ]
    },
    {
     "name": "stderr",
     "output_type": "stream",
     "text": [
      "INFO:tensorflow:Creating bottleneck at /tmp/bottleneck/anthro /RNYD1E.jpg_https~tfhub.dev~google~imagenet~mobilenet_v2_100_96~classification~1.txt\n"
     ]
    },
    {
     "name": "stdout",
     "output_type": "stream",
     "text": [
      "INFO:tensorflow:Creating bottleneck at /tmp/bottleneck/anthro /EU9ZRU.jpg_https~tfhub.dev~google~imagenet~mobilenet_v2_100_96~classification~1.txt\n"
     ]
    },
    {
     "name": "stderr",
     "output_type": "stream",
     "text": [
      "INFO:tensorflow:Creating bottleneck at /tmp/bottleneck/anthro /EU9ZRU.jpg_https~tfhub.dev~google~imagenet~mobilenet_v2_100_96~classification~1.txt\n"
     ]
    },
    {
     "name": "stdout",
     "output_type": "stream",
     "text": [
      "INFO:tensorflow:Creating bottleneck at /tmp/bottleneck/anthro /JOOZJ7.jpg_https~tfhub.dev~google~imagenet~mobilenet_v2_100_96~classification~1.txt\n"
     ]
    },
    {
     "name": "stderr",
     "output_type": "stream",
     "text": [
      "INFO:tensorflow:Creating bottleneck at /tmp/bottleneck/anthro /JOOZJ7.jpg_https~tfhub.dev~google~imagenet~mobilenet_v2_100_96~classification~1.txt\n"
     ]
    },
    {
     "name": "stdout",
     "output_type": "stream",
     "text": [
      "INFO:tensorflow:Creating bottleneck at /tmp/bottleneck/anthro /2DJ6AO.jpg_https~tfhub.dev~google~imagenet~mobilenet_v2_100_96~classification~1.txt\n"
     ]
    },
    {
     "name": "stderr",
     "output_type": "stream",
     "text": [
      "INFO:tensorflow:Creating bottleneck at /tmp/bottleneck/anthro /2DJ6AO.jpg_https~tfhub.dev~google~imagenet~mobilenet_v2_100_96~classification~1.txt\n"
     ]
    },
    {
     "name": "stdout",
     "output_type": "stream",
     "text": [
      "INFO:tensorflow:Creating bottleneck at /tmp/bottleneck/anthro /QLB81M.jpg_https~tfhub.dev~google~imagenet~mobilenet_v2_100_96~classification~1.txt\n"
     ]
    },
    {
     "name": "stderr",
     "output_type": "stream",
     "text": [
      "INFO:tensorflow:Creating bottleneck at /tmp/bottleneck/anthro /QLB81M.jpg_https~tfhub.dev~google~imagenet~mobilenet_v2_100_96~classification~1.txt\n"
     ]
    },
    {
     "name": "stdout",
     "output_type": "stream",
     "text": [
      "INFO:tensorflow:Creating bottleneck at /tmp/bottleneck/anthro /KUDXHD.jpg_https~tfhub.dev~google~imagenet~mobilenet_v2_100_96~classification~1.txt\n"
     ]
    },
    {
     "name": "stderr",
     "output_type": "stream",
     "text": [
      "INFO:tensorflow:Creating bottleneck at /tmp/bottleneck/anthro /KUDXHD.jpg_https~tfhub.dev~google~imagenet~mobilenet_v2_100_96~classification~1.txt\n"
     ]
    },
    {
     "name": "stdout",
     "output_type": "stream",
     "text": [
      "INFO:tensorflow:Creating bottleneck at /tmp/bottleneck/anthro /QMBWFH.jpg_https~tfhub.dev~google~imagenet~mobilenet_v2_100_96~classification~1.txt\n"
     ]
    },
    {
     "name": "stderr",
     "output_type": "stream",
     "text": [
      "INFO:tensorflow:Creating bottleneck at /tmp/bottleneck/anthro /QMBWFH.jpg_https~tfhub.dev~google~imagenet~mobilenet_v2_100_96~classification~1.txt\n"
     ]
    },
    {
     "name": "stdout",
     "output_type": "stream",
     "text": [
      "INFO:tensorflow:Creating bottleneck at /tmp/bottleneck/anthro /VEJCSK.jpg_https~tfhub.dev~google~imagenet~mobilenet_v2_100_96~classification~1.txt\n"
     ]
    },
    {
     "name": "stderr",
     "output_type": "stream",
     "text": [
      "INFO:tensorflow:Creating bottleneck at /tmp/bottleneck/anthro /VEJCSK.jpg_https~tfhub.dev~google~imagenet~mobilenet_v2_100_96~classification~1.txt\n"
     ]
    },
    {
     "name": "stdout",
     "output_type": "stream",
     "text": [
      "INFO:tensorflow:Creating bottleneck at /tmp/bottleneck/anthro /3F9SYD.jpg_https~tfhub.dev~google~imagenet~mobilenet_v2_100_96~classification~1.txt\n"
     ]
    },
    {
     "name": "stderr",
     "output_type": "stream",
     "text": [
      "INFO:tensorflow:Creating bottleneck at /tmp/bottleneck/anthro /3F9SYD.jpg_https~tfhub.dev~google~imagenet~mobilenet_v2_100_96~classification~1.txt\n"
     ]
    },
    {
     "name": "stdout",
     "output_type": "stream",
     "text": [
      "INFO:tensorflow:Creating bottleneck at /tmp/bottleneck/anthro /6G63C7.jpg_https~tfhub.dev~google~imagenet~mobilenet_v2_100_96~classification~1.txt\n"
     ]
    },
    {
     "name": "stderr",
     "output_type": "stream",
     "text": [
      "INFO:tensorflow:Creating bottleneck at /tmp/bottleneck/anthro /6G63C7.jpg_https~tfhub.dev~google~imagenet~mobilenet_v2_100_96~classification~1.txt\n"
     ]
    },
    {
     "name": "stdout",
     "output_type": "stream",
     "text": [
      "INFO:tensorflow:Creating bottleneck at /tmp/bottleneck/anthro /K3OYXO.jpg_https~tfhub.dev~google~imagenet~mobilenet_v2_100_96~classification~1.txt\n"
     ]
    },
    {
     "name": "stderr",
     "output_type": "stream",
     "text": [
      "INFO:tensorflow:Creating bottleneck at /tmp/bottleneck/anthro /K3OYXO.jpg_https~tfhub.dev~google~imagenet~mobilenet_v2_100_96~classification~1.txt\n"
     ]
    },
    {
     "name": "stdout",
     "output_type": "stream",
     "text": [
      "INFO:tensorflow:Creating bottleneck at /tmp/bottleneck/anthro /JVI7IU.jpg_https~tfhub.dev~google~imagenet~mobilenet_v2_100_96~classification~1.txt\n"
     ]
    },
    {
     "name": "stderr",
     "output_type": "stream",
     "text": [
      "INFO:tensorflow:Creating bottleneck at /tmp/bottleneck/anthro /JVI7IU.jpg_https~tfhub.dev~google~imagenet~mobilenet_v2_100_96~classification~1.txt\n"
     ]
    },
    {
     "name": "stdout",
     "output_type": "stream",
     "text": [
      "INFO:tensorflow:Creating bottleneck at /tmp/bottleneck/anthro /ZXXLZD.jpg_https~tfhub.dev~google~imagenet~mobilenet_v2_100_96~classification~1.txt\n"
     ]
    },
    {
     "name": "stderr",
     "output_type": "stream",
     "text": [
      "INFO:tensorflow:Creating bottleneck at /tmp/bottleneck/anthro /ZXXLZD.jpg_https~tfhub.dev~google~imagenet~mobilenet_v2_100_96~classification~1.txt\n"
     ]
    },
    {
     "name": "stdout",
     "output_type": "stream",
     "text": [
      "INFO:tensorflow:Creating bottleneck at /tmp/bottleneck/anthro /P6A6OB.jpg_https~tfhub.dev~google~imagenet~mobilenet_v2_100_96~classification~1.txt\n"
     ]
    },
    {
     "name": "stderr",
     "output_type": "stream",
     "text": [
      "INFO:tensorflow:Creating bottleneck at /tmp/bottleneck/anthro /P6A6OB.jpg_https~tfhub.dev~google~imagenet~mobilenet_v2_100_96~classification~1.txt\n"
     ]
    },
    {
     "name": "stdout",
     "output_type": "stream",
     "text": [
      "INFO:tensorflow:Creating bottleneck at /tmp/bottleneck/anthro /44QBSB.jpg_https~tfhub.dev~google~imagenet~mobilenet_v2_100_96~classification~1.txt\n"
     ]
    },
    {
     "name": "stderr",
     "output_type": "stream",
     "text": [
      "INFO:tensorflow:Creating bottleneck at /tmp/bottleneck/anthro /44QBSB.jpg_https~tfhub.dev~google~imagenet~mobilenet_v2_100_96~classification~1.txt\n"
     ]
    },
    {
     "name": "stdout",
     "output_type": "stream",
     "text": [
      "INFO:tensorflow:Creating bottleneck at /tmp/bottleneck/anthro /QR0MNF.jpg_https~tfhub.dev~google~imagenet~mobilenet_v2_100_96~classification~1.txt\n"
     ]
    },
    {
     "name": "stderr",
     "output_type": "stream",
     "text": [
      "INFO:tensorflow:Creating bottleneck at /tmp/bottleneck/anthro /QR0MNF.jpg_https~tfhub.dev~google~imagenet~mobilenet_v2_100_96~classification~1.txt\n"
     ]
    },
    {
     "name": "stdout",
     "output_type": "stream",
     "text": [
      "INFO:tensorflow:Creating bottleneck at /tmp/bottleneck/anthro /2779OE.jpg_https~tfhub.dev~google~imagenet~mobilenet_v2_100_96~classification~1.txt\n"
     ]
    },
    {
     "name": "stderr",
     "output_type": "stream",
     "text": [
      "INFO:tensorflow:Creating bottleneck at /tmp/bottleneck/anthro /2779OE.jpg_https~tfhub.dev~google~imagenet~mobilenet_v2_100_96~classification~1.txt\n"
     ]
    },
    {
     "name": "stdout",
     "output_type": "stream",
     "text": [
      "INFO:tensorflow:Creating bottleneck at /tmp/bottleneck/anthro /N0EIMD.jpg_https~tfhub.dev~google~imagenet~mobilenet_v2_100_96~classification~1.txt\n"
     ]
    },
    {
     "name": "stderr",
     "output_type": "stream",
     "text": [
      "INFO:tensorflow:Creating bottleneck at /tmp/bottleneck/anthro /N0EIMD.jpg_https~tfhub.dev~google~imagenet~mobilenet_v2_100_96~classification~1.txt\n"
     ]
    },
    {
     "name": "stdout",
     "output_type": "stream",
     "text": [
      "INFO:tensorflow:Creating bottleneck at /tmp/bottleneck/anthro /HBTXWI.jpg_https~tfhub.dev~google~imagenet~mobilenet_v2_100_96~classification~1.txt\n"
     ]
    },
    {
     "name": "stderr",
     "output_type": "stream",
     "text": [
      "INFO:tensorflow:Creating bottleneck at /tmp/bottleneck/anthro /HBTXWI.jpg_https~tfhub.dev~google~imagenet~mobilenet_v2_100_96~classification~1.txt\n"
     ]
    },
    {
     "name": "stdout",
     "output_type": "stream",
     "text": [
      "INFO:tensorflow:Creating bottleneck at /tmp/bottleneck/anthro /MKOX4I.jpg_https~tfhub.dev~google~imagenet~mobilenet_v2_100_96~classification~1.txt\n"
     ]
    },
    {
     "name": "stderr",
     "output_type": "stream",
     "text": [
      "INFO:tensorflow:Creating bottleneck at /tmp/bottleneck/anthro /MKOX4I.jpg_https~tfhub.dev~google~imagenet~mobilenet_v2_100_96~classification~1.txt\n"
     ]
    },
    {
     "name": "stdout",
     "output_type": "stream",
     "text": [
      "INFO:tensorflow:Creating bottleneck at /tmp/bottleneck/anthro /GWSOAL.jpg_https~tfhub.dev~google~imagenet~mobilenet_v2_100_96~classification~1.txt\n"
     ]
    },
    {
     "name": "stderr",
     "output_type": "stream",
     "text": [
      "INFO:tensorflow:Creating bottleneck at /tmp/bottleneck/anthro /GWSOAL.jpg_https~tfhub.dev~google~imagenet~mobilenet_v2_100_96~classification~1.txt\n"
     ]
    },
    {
     "name": "stdout",
     "output_type": "stream",
     "text": [
      "INFO:tensorflow:Creating bottleneck at /tmp/bottleneck/anthro /MHC12N.jpg_https~tfhub.dev~google~imagenet~mobilenet_v2_100_96~classification~1.txt\n"
     ]
    },
    {
     "name": "stderr",
     "output_type": "stream",
     "text": [
      "INFO:tensorflow:Creating bottleneck at /tmp/bottleneck/anthro /MHC12N.jpg_https~tfhub.dev~google~imagenet~mobilenet_v2_100_96~classification~1.txt\n"
     ]
    },
    {
     "name": "stdout",
     "output_type": "stream",
     "text": [
      "INFO:tensorflow:Creating bottleneck at /tmp/bottleneck/anthro /7GB1ST.jpg_https~tfhub.dev~google~imagenet~mobilenet_v2_100_96~classification~1.txt\n"
     ]
    },
    {
     "name": "stderr",
     "output_type": "stream",
     "text": [
      "INFO:tensorflow:Creating bottleneck at /tmp/bottleneck/anthro /7GB1ST.jpg_https~tfhub.dev~google~imagenet~mobilenet_v2_100_96~classification~1.txt\n"
     ]
    },
    {
     "name": "stdout",
     "output_type": "stream",
     "text": [
      "INFO:tensorflow:Creating bottleneck at /tmp/bottleneck/anthro /MVBN1C.jpg_https~tfhub.dev~google~imagenet~mobilenet_v2_100_96~classification~1.txt\n"
     ]
    },
    {
     "name": "stderr",
     "output_type": "stream",
     "text": [
      "INFO:tensorflow:Creating bottleneck at /tmp/bottleneck/anthro /MVBN1C.jpg_https~tfhub.dev~google~imagenet~mobilenet_v2_100_96~classification~1.txt\n"
     ]
    },
    {
     "name": "stdout",
     "output_type": "stream",
     "text": [
      "INFO:tensorflow:Creating bottleneck at /tmp/bottleneck/anthro /K3I9ZN.jpg_https~tfhub.dev~google~imagenet~mobilenet_v2_100_96~classification~1.txt\n"
     ]
    },
    {
     "name": "stderr",
     "output_type": "stream",
     "text": [
      "INFO:tensorflow:Creating bottleneck at /tmp/bottleneck/anthro /K3I9ZN.jpg_https~tfhub.dev~google~imagenet~mobilenet_v2_100_96~classification~1.txt\n"
     ]
    },
    {
     "name": "stdout",
     "output_type": "stream",
     "text": [
      "INFO:tensorflow:Creating bottleneck at /tmp/bottleneck/anthro /V44EY4.jpg_https~tfhub.dev~google~imagenet~mobilenet_v2_100_96~classification~1.txt\n"
     ]
    },
    {
     "name": "stderr",
     "output_type": "stream",
     "text": [
      "INFO:tensorflow:Creating bottleneck at /tmp/bottleneck/anthro /V44EY4.jpg_https~tfhub.dev~google~imagenet~mobilenet_v2_100_96~classification~1.txt\n"
     ]
    },
    {
     "name": "stdout",
     "output_type": "stream",
     "text": [
      "INFO:tensorflow:Creating bottleneck at /tmp/bottleneck/anthro /ZRBIU1.jpg_https~tfhub.dev~google~imagenet~mobilenet_v2_100_96~classification~1.txt\n"
     ]
    },
    {
     "name": "stderr",
     "output_type": "stream",
     "text": [
      "INFO:tensorflow:Creating bottleneck at /tmp/bottleneck/anthro /ZRBIU1.jpg_https~tfhub.dev~google~imagenet~mobilenet_v2_100_96~classification~1.txt\n"
     ]
    },
    {
     "name": "stdout",
     "output_type": "stream",
     "text": [
      "INFO:tensorflow:Creating bottleneck at /tmp/bottleneck/anthro /FIPOGQ.jpg_https~tfhub.dev~google~imagenet~mobilenet_v2_100_96~classification~1.txt\n"
     ]
    },
    {
     "name": "stderr",
     "output_type": "stream",
     "text": [
      "INFO:tensorflow:Creating bottleneck at /tmp/bottleneck/anthro /FIPOGQ.jpg_https~tfhub.dev~google~imagenet~mobilenet_v2_100_96~classification~1.txt\n"
     ]
    },
    {
     "name": "stdout",
     "output_type": "stream",
     "text": [
      "INFO:tensorflow:Creating bottleneck at /tmp/bottleneck/anthro /GB2746.jpg_https~tfhub.dev~google~imagenet~mobilenet_v2_100_96~classification~1.txt\n"
     ]
    },
    {
     "name": "stderr",
     "output_type": "stream",
     "text": [
      "INFO:tensorflow:Creating bottleneck at /tmp/bottleneck/anthro /GB2746.jpg_https~tfhub.dev~google~imagenet~mobilenet_v2_100_96~classification~1.txt\n"
     ]
    },
    {
     "name": "stdout",
     "output_type": "stream",
     "text": [
      "INFO:tensorflow:Creating bottleneck at /tmp/bottleneck/anthro /VEURQS.jpg_https~tfhub.dev~google~imagenet~mobilenet_v2_100_96~classification~1.txt\n"
     ]
    },
    {
     "name": "stderr",
     "output_type": "stream",
     "text": [
      "INFO:tensorflow:Creating bottleneck at /tmp/bottleneck/anthro /VEURQS.jpg_https~tfhub.dev~google~imagenet~mobilenet_v2_100_96~classification~1.txt\n"
     ]
    },
    {
     "name": "stdout",
     "output_type": "stream",
     "text": [
      "INFO:tensorflow:Creating bottleneck at /tmp/bottleneck/anthro /OPJPQY.jpg_https~tfhub.dev~google~imagenet~mobilenet_v2_100_96~classification~1.txt\n"
     ]
    },
    {
     "name": "stderr",
     "output_type": "stream",
     "text": [
      "INFO:tensorflow:Creating bottleneck at /tmp/bottleneck/anthro /OPJPQY.jpg_https~tfhub.dev~google~imagenet~mobilenet_v2_100_96~classification~1.txt\n"
     ]
    },
    {
     "name": "stdout",
     "output_type": "stream",
     "text": [
      "INFO:tensorflow:Creating bottleneck at /tmp/bottleneck/anthro /82IJD7.jpg_https~tfhub.dev~google~imagenet~mobilenet_v2_100_96~classification~1.txt\n"
     ]
    },
    {
     "name": "stderr",
     "output_type": "stream",
     "text": [
      "INFO:tensorflow:Creating bottleneck at /tmp/bottleneck/anthro /82IJD7.jpg_https~tfhub.dev~google~imagenet~mobilenet_v2_100_96~classification~1.txt\n"
     ]
    },
    {
     "name": "stdout",
     "output_type": "stream",
     "text": [
      "INFO:tensorflow:Creating bottleneck at /tmp/bottleneck/anthro /9RLC1I.jpg_https~tfhub.dev~google~imagenet~mobilenet_v2_100_96~classification~1.txt\n"
     ]
    },
    {
     "name": "stderr",
     "output_type": "stream",
     "text": [
      "INFO:tensorflow:Creating bottleneck at /tmp/bottleneck/anthro /9RLC1I.jpg_https~tfhub.dev~google~imagenet~mobilenet_v2_100_96~classification~1.txt\n"
     ]
    },
    {
     "name": "stdout",
     "output_type": "stream",
     "text": [
      "INFO:tensorflow:Creating bottleneck at /tmp/bottleneck/anthro /4PUCUI.jpg_https~tfhub.dev~google~imagenet~mobilenet_v2_100_96~classification~1.txt\n"
     ]
    },
    {
     "name": "stderr",
     "output_type": "stream",
     "text": [
      "INFO:tensorflow:Creating bottleneck at /tmp/bottleneck/anthro /4PUCUI.jpg_https~tfhub.dev~google~imagenet~mobilenet_v2_100_96~classification~1.txt\n"
     ]
    },
    {
     "name": "stdout",
     "output_type": "stream",
     "text": [
      "INFO:tensorflow:Creating bottleneck at /tmp/bottleneck/anthro /GXJU77.jpg_https~tfhub.dev~google~imagenet~mobilenet_v2_100_96~classification~1.txt\n"
     ]
    },
    {
     "name": "stderr",
     "output_type": "stream",
     "text": [
      "INFO:tensorflow:Creating bottleneck at /tmp/bottleneck/anthro /GXJU77.jpg_https~tfhub.dev~google~imagenet~mobilenet_v2_100_96~classification~1.txt\n"
     ]
    },
    {
     "name": "stdout",
     "output_type": "stream",
     "text": [
      "INFO:tensorflow:Creating bottleneck at /tmp/bottleneck/anthro /TMND56.jpg_https~tfhub.dev~google~imagenet~mobilenet_v2_100_96~classification~1.txt\n"
     ]
    },
    {
     "name": "stderr",
     "output_type": "stream",
     "text": [
      "INFO:tensorflow:Creating bottleneck at /tmp/bottleneck/anthro /TMND56.jpg_https~tfhub.dev~google~imagenet~mobilenet_v2_100_96~classification~1.txt\n"
     ]
    },
    {
     "name": "stdout",
     "output_type": "stream",
     "text": [
      "INFO:tensorflow:Creating bottleneck at /tmp/bottleneck/anthro /2RNQC4.jpg_https~tfhub.dev~google~imagenet~mobilenet_v2_100_96~classification~1.txt\n"
     ]
    },
    {
     "name": "stderr",
     "output_type": "stream",
     "text": [
      "INFO:tensorflow:Creating bottleneck at /tmp/bottleneck/anthro /2RNQC4.jpg_https~tfhub.dev~google~imagenet~mobilenet_v2_100_96~classification~1.txt\n"
     ]
    },
    {
     "name": "stdout",
     "output_type": "stream",
     "text": [
      "INFO:tensorflow:Creating bottleneck at /tmp/bottleneck/anthro /XPMR6K.jpg_https~tfhub.dev~google~imagenet~mobilenet_v2_100_96~classification~1.txt\n"
     ]
    },
    {
     "name": "stderr",
     "output_type": "stream",
     "text": [
      "INFO:tensorflow:Creating bottleneck at /tmp/bottleneck/anthro /XPMR6K.jpg_https~tfhub.dev~google~imagenet~mobilenet_v2_100_96~classification~1.txt\n"
     ]
    },
    {
     "name": "stdout",
     "output_type": "stream",
     "text": [
      "INFO:tensorflow:Creating bottleneck at /tmp/bottleneck/anthro /GBDRRN.jpg_https~tfhub.dev~google~imagenet~mobilenet_v2_100_96~classification~1.txt\n"
     ]
    },
    {
     "name": "stderr",
     "output_type": "stream",
     "text": [
      "INFO:tensorflow:Creating bottleneck at /tmp/bottleneck/anthro /GBDRRN.jpg_https~tfhub.dev~google~imagenet~mobilenet_v2_100_96~classification~1.txt\n"
     ]
    },
    {
     "name": "stdout",
     "output_type": "stream",
     "text": [
      "INFO:tensorflow:Creating bottleneck at /tmp/bottleneck/anthro /HRTBCP.jpg_https~tfhub.dev~google~imagenet~mobilenet_v2_100_96~classification~1.txt\n"
     ]
    },
    {
     "name": "stderr",
     "output_type": "stream",
     "text": [
      "INFO:tensorflow:Creating bottleneck at /tmp/bottleneck/anthro /HRTBCP.jpg_https~tfhub.dev~google~imagenet~mobilenet_v2_100_96~classification~1.txt\n"
     ]
    },
    {
     "name": "stdout",
     "output_type": "stream",
     "text": [
      "INFO:tensorflow:Creating bottleneck at /tmp/bottleneck/anthro /HLPP9I.jpg_https~tfhub.dev~google~imagenet~mobilenet_v2_100_96~classification~1.txt\n"
     ]
    },
    {
     "name": "stderr",
     "output_type": "stream",
     "text": [
      "INFO:tensorflow:Creating bottleneck at /tmp/bottleneck/anthro /HLPP9I.jpg_https~tfhub.dev~google~imagenet~mobilenet_v2_100_96~classification~1.txt\n"
     ]
    },
    {
     "name": "stdout",
     "output_type": "stream",
     "text": [
      "INFO:tensorflow:Creating bottleneck at /tmp/bottleneck/anthro /9IAK4J.jpg_https~tfhub.dev~google~imagenet~mobilenet_v2_100_96~classification~1.txt\n"
     ]
    },
    {
     "name": "stderr",
     "output_type": "stream",
     "text": [
      "INFO:tensorflow:Creating bottleneck at /tmp/bottleneck/anthro /9IAK4J.jpg_https~tfhub.dev~google~imagenet~mobilenet_v2_100_96~classification~1.txt\n"
     ]
    },
    {
     "name": "stdout",
     "output_type": "stream",
     "text": [
      "INFO:tensorflow:Creating bottleneck at /tmp/bottleneck/anthro /E19EE5.jpg_https~tfhub.dev~google~imagenet~mobilenet_v2_100_96~classification~1.txt\n"
     ]
    },
    {
     "name": "stderr",
     "output_type": "stream",
     "text": [
      "INFO:tensorflow:Creating bottleneck at /tmp/bottleneck/anthro /E19EE5.jpg_https~tfhub.dev~google~imagenet~mobilenet_v2_100_96~classification~1.txt\n"
     ]
    },
    {
     "name": "stdout",
     "output_type": "stream",
     "text": [
      "INFO:tensorflow:Creating bottleneck at /tmp/bottleneck/anthro /XL99MS.jpg_https~tfhub.dev~google~imagenet~mobilenet_v2_100_96~classification~1.txt\n"
     ]
    },
    {
     "name": "stderr",
     "output_type": "stream",
     "text": [
      "INFO:tensorflow:Creating bottleneck at /tmp/bottleneck/anthro /XL99MS.jpg_https~tfhub.dev~google~imagenet~mobilenet_v2_100_96~classification~1.txt\n"
     ]
    },
    {
     "name": "stdout",
     "output_type": "stream",
     "text": [
      "INFO:tensorflow:Creating bottleneck at /tmp/bottleneck/anthro /VJPSPA.jpg_https~tfhub.dev~google~imagenet~mobilenet_v2_100_96~classification~1.txt\n"
     ]
    },
    {
     "name": "stderr",
     "output_type": "stream",
     "text": [
      "INFO:tensorflow:Creating bottleneck at /tmp/bottleneck/anthro /VJPSPA.jpg_https~tfhub.dev~google~imagenet~mobilenet_v2_100_96~classification~1.txt\n"
     ]
    },
    {
     "name": "stdout",
     "output_type": "stream",
     "text": [
      "INFO:tensorflow:Creating bottleneck at /tmp/bottleneck/anthro /ZWE4XT.jpg_https~tfhub.dev~google~imagenet~mobilenet_v2_100_96~classification~1.txt\n"
     ]
    },
    {
     "name": "stderr",
     "output_type": "stream",
     "text": [
      "INFO:tensorflow:Creating bottleneck at /tmp/bottleneck/anthro /ZWE4XT.jpg_https~tfhub.dev~google~imagenet~mobilenet_v2_100_96~classification~1.txt\n"
     ]
    },
    {
     "name": "stdout",
     "output_type": "stream",
     "text": [
      "INFO:tensorflow:Creating bottleneck at /tmp/bottleneck/anthro /QCNA0S.jpg_https~tfhub.dev~google~imagenet~mobilenet_v2_100_96~classification~1.txt\n"
     ]
    },
    {
     "name": "stderr",
     "output_type": "stream",
     "text": [
      "INFO:tensorflow:Creating bottleneck at /tmp/bottleneck/anthro /QCNA0S.jpg_https~tfhub.dev~google~imagenet~mobilenet_v2_100_96~classification~1.txt\n"
     ]
    },
    {
     "name": "stdout",
     "output_type": "stream",
     "text": [
      "INFO:tensorflow:Creating bottleneck at /tmp/bottleneck/anthro /LFUGT0.jpg_https~tfhub.dev~google~imagenet~mobilenet_v2_100_96~classification~1.txt\n"
     ]
    },
    {
     "name": "stderr",
     "output_type": "stream",
     "text": [
      "INFO:tensorflow:Creating bottleneck at /tmp/bottleneck/anthro /LFUGT0.jpg_https~tfhub.dev~google~imagenet~mobilenet_v2_100_96~classification~1.txt\n"
     ]
    },
    {
     "name": "stdout",
     "output_type": "stream",
     "text": [
      "INFO:tensorflow:200 bottleneck files created.\n"
     ]
    },
    {
     "name": "stderr",
     "output_type": "stream",
     "text": [
      "INFO:tensorflow:200 bottleneck files created.\n"
     ]
    },
    {
     "name": "stdout",
     "output_type": "stream",
     "text": [
      "INFO:tensorflow:Creating bottleneck at /tmp/bottleneck/anthro /4TWKXY.jpg_https~tfhub.dev~google~imagenet~mobilenet_v2_100_96~classification~1.txt\n"
     ]
    },
    {
     "name": "stderr",
     "output_type": "stream",
     "text": [
      "INFO:tensorflow:Creating bottleneck at /tmp/bottleneck/anthro /4TWKXY.jpg_https~tfhub.dev~google~imagenet~mobilenet_v2_100_96~classification~1.txt\n"
     ]
    },
    {
     "name": "stdout",
     "output_type": "stream",
     "text": [
      "INFO:tensorflow:Creating bottleneck at /tmp/bottleneck/anthro /CS2MFI.jpg_https~tfhub.dev~google~imagenet~mobilenet_v2_100_96~classification~1.txt\n"
     ]
    },
    {
     "name": "stderr",
     "output_type": "stream",
     "text": [
      "INFO:tensorflow:Creating bottleneck at /tmp/bottleneck/anthro /CS2MFI.jpg_https~tfhub.dev~google~imagenet~mobilenet_v2_100_96~classification~1.txt\n"
     ]
    },
    {
     "name": "stdout",
     "output_type": "stream",
     "text": [
      "INFO:tensorflow:Creating bottleneck at /tmp/bottleneck/anthro /GADH1C.jpg_https~tfhub.dev~google~imagenet~mobilenet_v2_100_96~classification~1.txt\n"
     ]
    },
    {
     "name": "stderr",
     "output_type": "stream",
     "text": [
      "INFO:tensorflow:Creating bottleneck at /tmp/bottleneck/anthro /GADH1C.jpg_https~tfhub.dev~google~imagenet~mobilenet_v2_100_96~classification~1.txt\n"
     ]
    },
    {
     "name": "stdout",
     "output_type": "stream",
     "text": [
      "INFO:tensorflow:Creating bottleneck at /tmp/bottleneck/anthro /ME7TWQ.jpg_https~tfhub.dev~google~imagenet~mobilenet_v2_100_96~classification~1.txt\n"
     ]
    },
    {
     "name": "stderr",
     "output_type": "stream",
     "text": [
      "INFO:tensorflow:Creating bottleneck at /tmp/bottleneck/anthro /ME7TWQ.jpg_https~tfhub.dev~google~imagenet~mobilenet_v2_100_96~classification~1.txt\n"
     ]
    },
    {
     "name": "stdout",
     "output_type": "stream",
     "text": [
      "INFO:tensorflow:Creating bottleneck at /tmp/bottleneck/anthro /3Y90AL.jpg_https~tfhub.dev~google~imagenet~mobilenet_v2_100_96~classification~1.txt\n"
     ]
    },
    {
     "name": "stderr",
     "output_type": "stream",
     "text": [
      "INFO:tensorflow:Creating bottleneck at /tmp/bottleneck/anthro /3Y90AL.jpg_https~tfhub.dev~google~imagenet~mobilenet_v2_100_96~classification~1.txt\n"
     ]
    },
    {
     "name": "stdout",
     "output_type": "stream",
     "text": [
      "INFO:tensorflow:Creating bottleneck at /tmp/bottleneck/anthro /YYR4J9.jpg_https~tfhub.dev~google~imagenet~mobilenet_v2_100_96~classification~1.txt\n"
     ]
    },
    {
     "name": "stderr",
     "output_type": "stream",
     "text": [
      "INFO:tensorflow:Creating bottleneck at /tmp/bottleneck/anthro /YYR4J9.jpg_https~tfhub.dev~google~imagenet~mobilenet_v2_100_96~classification~1.txt\n"
     ]
    },
    {
     "name": "stdout",
     "output_type": "stream",
     "text": [
      "INFO:tensorflow:Creating bottleneck at /tmp/bottleneck/anthro /OW145T.jpg_https~tfhub.dev~google~imagenet~mobilenet_v2_100_96~classification~1.txt\n"
     ]
    },
    {
     "name": "stderr",
     "output_type": "stream",
     "text": [
      "INFO:tensorflow:Creating bottleneck at /tmp/bottleneck/anthro /OW145T.jpg_https~tfhub.dev~google~imagenet~mobilenet_v2_100_96~classification~1.txt\n"
     ]
    },
    {
     "name": "stdout",
     "output_type": "stream",
     "text": [
      "INFO:tensorflow:Creating bottleneck at /tmp/bottleneck/anthro /H9140N.jpg_https~tfhub.dev~google~imagenet~mobilenet_v2_100_96~classification~1.txt\n"
     ]
    },
    {
     "name": "stderr",
     "output_type": "stream",
     "text": [
      "INFO:tensorflow:Creating bottleneck at /tmp/bottleneck/anthro /H9140N.jpg_https~tfhub.dev~google~imagenet~mobilenet_v2_100_96~classification~1.txt\n"
     ]
    },
    {
     "name": "stdout",
     "output_type": "stream",
     "text": [
      "INFO:tensorflow:Creating bottleneck at /tmp/bottleneck/anthro /2M6CEA.jpg_https~tfhub.dev~google~imagenet~mobilenet_v2_100_96~classification~1.txt\n"
     ]
    },
    {
     "name": "stderr",
     "output_type": "stream",
     "text": [
      "INFO:tensorflow:Creating bottleneck at /tmp/bottleneck/anthro /2M6CEA.jpg_https~tfhub.dev~google~imagenet~mobilenet_v2_100_96~classification~1.txt\n"
     ]
    },
    {
     "name": "stdout",
     "output_type": "stream",
     "text": [
      "INFO:tensorflow:Creating bottleneck at /tmp/bottleneck/anthro /FTWW13.jpg_https~tfhub.dev~google~imagenet~mobilenet_v2_100_96~classification~1.txt\n"
     ]
    },
    {
     "name": "stderr",
     "output_type": "stream",
     "text": [
      "INFO:tensorflow:Creating bottleneck at /tmp/bottleneck/anthro /FTWW13.jpg_https~tfhub.dev~google~imagenet~mobilenet_v2_100_96~classification~1.txt\n"
     ]
    },
    {
     "name": "stdout",
     "output_type": "stream",
     "text": [
      "INFO:tensorflow:Creating bottleneck at /tmp/bottleneck/anthro /SEPBBI.jpg_https~tfhub.dev~google~imagenet~mobilenet_v2_100_96~classification~1.txt\n"
     ]
    },
    {
     "name": "stderr",
     "output_type": "stream",
     "text": [
      "INFO:tensorflow:Creating bottleneck at /tmp/bottleneck/anthro /SEPBBI.jpg_https~tfhub.dev~google~imagenet~mobilenet_v2_100_96~classification~1.txt\n"
     ]
    },
    {
     "name": "stdout",
     "output_type": "stream",
     "text": [
      "INFO:tensorflow:Creating bottleneck at /tmp/bottleneck/anthro /D6O4F9.jpg_https~tfhub.dev~google~imagenet~mobilenet_v2_100_96~classification~1.txt\n"
     ]
    },
    {
     "name": "stderr",
     "output_type": "stream",
     "text": [
      "INFO:tensorflow:Creating bottleneck at /tmp/bottleneck/anthro /D6O4F9.jpg_https~tfhub.dev~google~imagenet~mobilenet_v2_100_96~classification~1.txt\n"
     ]
    },
    {
     "name": "stdout",
     "output_type": "stream",
     "text": [
      "INFO:tensorflow:Creating bottleneck at /tmp/bottleneck/anthro /DCZCRQ.jpg_https~tfhub.dev~google~imagenet~mobilenet_v2_100_96~classification~1.txt\n"
     ]
    },
    {
     "name": "stderr",
     "output_type": "stream",
     "text": [
      "INFO:tensorflow:Creating bottleneck at /tmp/bottleneck/anthro /DCZCRQ.jpg_https~tfhub.dev~google~imagenet~mobilenet_v2_100_96~classification~1.txt\n"
     ]
    },
    {
     "name": "stdout",
     "output_type": "stream",
     "text": [
      "INFO:tensorflow:Creating bottleneck at /tmp/bottleneck/anthro /PM947X.jpg_https~tfhub.dev~google~imagenet~mobilenet_v2_100_96~classification~1.txt\n"
     ]
    },
    {
     "name": "stderr",
     "output_type": "stream",
     "text": [
      "INFO:tensorflow:Creating bottleneck at /tmp/bottleneck/anthro /PM947X.jpg_https~tfhub.dev~google~imagenet~mobilenet_v2_100_96~classification~1.txt\n"
     ]
    },
    {
     "name": "stdout",
     "output_type": "stream",
     "text": [
      "INFO:tensorflow:Creating bottleneck at /tmp/bottleneck/anthro /VO0IMA.jpg_https~tfhub.dev~google~imagenet~mobilenet_v2_100_96~classification~1.txt\n"
     ]
    },
    {
     "name": "stderr",
     "output_type": "stream",
     "text": [
      "INFO:tensorflow:Creating bottleneck at /tmp/bottleneck/anthro /VO0IMA.jpg_https~tfhub.dev~google~imagenet~mobilenet_v2_100_96~classification~1.txt\n"
     ]
    },
    {
     "name": "stdout",
     "output_type": "stream",
     "text": [
      "INFO:tensorflow:Creating bottleneck at /tmp/bottleneck/anthro /7X2KPZ.jpg_https~tfhub.dev~google~imagenet~mobilenet_v2_100_96~classification~1.txt\n"
     ]
    },
    {
     "name": "stderr",
     "output_type": "stream",
     "text": [
      "INFO:tensorflow:Creating bottleneck at /tmp/bottleneck/anthro /7X2KPZ.jpg_https~tfhub.dev~google~imagenet~mobilenet_v2_100_96~classification~1.txt\n"
     ]
    },
    {
     "name": "stdout",
     "output_type": "stream",
     "text": [
      "INFO:tensorflow:Creating bottleneck at /tmp/bottleneck/anthro /CVWM5I.jpg_https~tfhub.dev~google~imagenet~mobilenet_v2_100_96~classification~1.txt\n"
     ]
    },
    {
     "name": "stderr",
     "output_type": "stream",
     "text": [
      "INFO:tensorflow:Creating bottleneck at /tmp/bottleneck/anthro /CVWM5I.jpg_https~tfhub.dev~google~imagenet~mobilenet_v2_100_96~classification~1.txt\n"
     ]
    },
    {
     "name": "stdout",
     "output_type": "stream",
     "text": [
      "INFO:tensorflow:Creating bottleneck at /tmp/bottleneck/anthro /RC5Y2O.jpg_https~tfhub.dev~google~imagenet~mobilenet_v2_100_96~classification~1.txt\n"
     ]
    },
    {
     "name": "stderr",
     "output_type": "stream",
     "text": [
      "INFO:tensorflow:Creating bottleneck at /tmp/bottleneck/anthro /RC5Y2O.jpg_https~tfhub.dev~google~imagenet~mobilenet_v2_100_96~classification~1.txt\n"
     ]
    },
    {
     "name": "stdout",
     "output_type": "stream",
     "text": [
      "INFO:tensorflow:Creating bottleneck at /tmp/bottleneck/anthro /Q3WWGJ.jpg_https~tfhub.dev~google~imagenet~mobilenet_v2_100_96~classification~1.txt\n"
     ]
    },
    {
     "name": "stderr",
     "output_type": "stream",
     "text": [
      "INFO:tensorflow:Creating bottleneck at /tmp/bottleneck/anthro /Q3WWGJ.jpg_https~tfhub.dev~google~imagenet~mobilenet_v2_100_96~classification~1.txt\n"
     ]
    },
    {
     "name": "stdout",
     "output_type": "stream",
     "text": [
      "INFO:tensorflow:Creating bottleneck at /tmp/bottleneck/anthro /3YR7SR.jpg_https~tfhub.dev~google~imagenet~mobilenet_v2_100_96~classification~1.txt\n"
     ]
    },
    {
     "name": "stderr",
     "output_type": "stream",
     "text": [
      "INFO:tensorflow:Creating bottleneck at /tmp/bottleneck/anthro /3YR7SR.jpg_https~tfhub.dev~google~imagenet~mobilenet_v2_100_96~classification~1.txt\n"
     ]
    },
    {
     "name": "stdout",
     "output_type": "stream",
     "text": [
      "INFO:tensorflow:Creating bottleneck at /tmp/bottleneck/anthro /7TMG9P.jpg_https~tfhub.dev~google~imagenet~mobilenet_v2_100_96~classification~1.txt\n"
     ]
    },
    {
     "name": "stderr",
     "output_type": "stream",
     "text": [
      "INFO:tensorflow:Creating bottleneck at /tmp/bottleneck/anthro /7TMG9P.jpg_https~tfhub.dev~google~imagenet~mobilenet_v2_100_96~classification~1.txt\n"
     ]
    },
    {
     "name": "stdout",
     "output_type": "stream",
     "text": [
      "INFO:tensorflow:Creating bottleneck at /tmp/bottleneck/anthro /01TNQX.jpg_https~tfhub.dev~google~imagenet~mobilenet_v2_100_96~classification~1.txt\n"
     ]
    },
    {
     "name": "stderr",
     "output_type": "stream",
     "text": [
      "INFO:tensorflow:Creating bottleneck at /tmp/bottleneck/anthro /01TNQX.jpg_https~tfhub.dev~google~imagenet~mobilenet_v2_100_96~classification~1.txt\n"
     ]
    },
    {
     "name": "stdout",
     "output_type": "stream",
     "text": [
      "INFO:tensorflow:Creating bottleneck at /tmp/bottleneck/anthro /PBRQ8T.jpg_https~tfhub.dev~google~imagenet~mobilenet_v2_100_96~classification~1.txt\n"
     ]
    },
    {
     "name": "stderr",
     "output_type": "stream",
     "text": [
      "INFO:tensorflow:Creating bottleneck at /tmp/bottleneck/anthro /PBRQ8T.jpg_https~tfhub.dev~google~imagenet~mobilenet_v2_100_96~classification~1.txt\n"
     ]
    },
    {
     "name": "stdout",
     "output_type": "stream",
     "text": [
      "INFO:tensorflow:Creating bottleneck at /tmp/bottleneck/anthro /8AVZ51.jpg_https~tfhub.dev~google~imagenet~mobilenet_v2_100_96~classification~1.txt\n"
     ]
    },
    {
     "name": "stderr",
     "output_type": "stream",
     "text": [
      "INFO:tensorflow:Creating bottleneck at /tmp/bottleneck/anthro /8AVZ51.jpg_https~tfhub.dev~google~imagenet~mobilenet_v2_100_96~classification~1.txt\n"
     ]
    },
    {
     "name": "stdout",
     "output_type": "stream",
     "text": [
      "INFO:tensorflow:Creating bottleneck at /tmp/bottleneck/anthro /XMYBWW.jpg_https~tfhub.dev~google~imagenet~mobilenet_v2_100_96~classification~1.txt\n"
     ]
    },
    {
     "name": "stderr",
     "output_type": "stream",
     "text": [
      "INFO:tensorflow:Creating bottleneck at /tmp/bottleneck/anthro /XMYBWW.jpg_https~tfhub.dev~google~imagenet~mobilenet_v2_100_96~classification~1.txt\n"
     ]
    },
    {
     "name": "stdout",
     "output_type": "stream",
     "text": [
      "INFO:tensorflow:Creating bottleneck at /tmp/bottleneck/anthro /TWPDN8.jpg_https~tfhub.dev~google~imagenet~mobilenet_v2_100_96~classification~1.txt\n"
     ]
    },
    {
     "name": "stderr",
     "output_type": "stream",
     "text": [
      "INFO:tensorflow:Creating bottleneck at /tmp/bottleneck/anthro /TWPDN8.jpg_https~tfhub.dev~google~imagenet~mobilenet_v2_100_96~classification~1.txt\n"
     ]
    },
    {
     "name": "stdout",
     "output_type": "stream",
     "text": [
      "INFO:tensorflow:Creating bottleneck at /tmp/bottleneck/anthro /CTXX13.jpg_https~tfhub.dev~google~imagenet~mobilenet_v2_100_96~classification~1.txt\n"
     ]
    },
    {
     "name": "stderr",
     "output_type": "stream",
     "text": [
      "INFO:tensorflow:Creating bottleneck at /tmp/bottleneck/anthro /CTXX13.jpg_https~tfhub.dev~google~imagenet~mobilenet_v2_100_96~classification~1.txt\n"
     ]
    },
    {
     "name": "stdout",
     "output_type": "stream",
     "text": [
      "INFO:tensorflow:Creating bottleneck at /tmp/bottleneck/anthro /XF2HW0.jpg_https~tfhub.dev~google~imagenet~mobilenet_v2_100_96~classification~1.txt\n"
     ]
    },
    {
     "name": "stderr",
     "output_type": "stream",
     "text": [
      "INFO:tensorflow:Creating bottleneck at /tmp/bottleneck/anthro /XF2HW0.jpg_https~tfhub.dev~google~imagenet~mobilenet_v2_100_96~classification~1.txt\n"
     ]
    },
    {
     "name": "stdout",
     "output_type": "stream",
     "text": [
      "INFO:tensorflow:Creating bottleneck at /tmp/bottleneck/anthro /PKKZ08.jpg_https~tfhub.dev~google~imagenet~mobilenet_v2_100_96~classification~1.txt\n"
     ]
    },
    {
     "name": "stderr",
     "output_type": "stream",
     "text": [
      "INFO:tensorflow:Creating bottleneck at /tmp/bottleneck/anthro /PKKZ08.jpg_https~tfhub.dev~google~imagenet~mobilenet_v2_100_96~classification~1.txt\n"
     ]
    },
    {
     "name": "stdout",
     "output_type": "stream",
     "text": [
      "INFO:tensorflow:Creating bottleneck at /tmp/bottleneck/anthro /I5O0N1.jpg_https~tfhub.dev~google~imagenet~mobilenet_v2_100_96~classification~1.txt\n"
     ]
    },
    {
     "name": "stderr",
     "output_type": "stream",
     "text": [
      "INFO:tensorflow:Creating bottleneck at /tmp/bottleneck/anthro /I5O0N1.jpg_https~tfhub.dev~google~imagenet~mobilenet_v2_100_96~classification~1.txt\n"
     ]
    },
    {
     "name": "stdout",
     "output_type": "stream",
     "text": [
      "INFO:tensorflow:Creating bottleneck at /tmp/bottleneck/anthro /3LE424.jpg_https~tfhub.dev~google~imagenet~mobilenet_v2_100_96~classification~1.txt\n"
     ]
    },
    {
     "name": "stderr",
     "output_type": "stream",
     "text": [
      "INFO:tensorflow:Creating bottleneck at /tmp/bottleneck/anthro /3LE424.jpg_https~tfhub.dev~google~imagenet~mobilenet_v2_100_96~classification~1.txt\n"
     ]
    },
    {
     "name": "stdout",
     "output_type": "stream",
     "text": [
      "INFO:tensorflow:Creating bottleneck at /tmp/bottleneck/anthro /O484G7.jpg_https~tfhub.dev~google~imagenet~mobilenet_v2_100_96~classification~1.txt\n"
     ]
    },
    {
     "name": "stderr",
     "output_type": "stream",
     "text": [
      "INFO:tensorflow:Creating bottleneck at /tmp/bottleneck/anthro /O484G7.jpg_https~tfhub.dev~google~imagenet~mobilenet_v2_100_96~classification~1.txt\n"
     ]
    },
    {
     "name": "stdout",
     "output_type": "stream",
     "text": [
      "INFO:tensorflow:Creating bottleneck at /tmp/bottleneck/anthro /OAARUT.jpg_https~tfhub.dev~google~imagenet~mobilenet_v2_100_96~classification~1.txt\n"
     ]
    },
    {
     "name": "stderr",
     "output_type": "stream",
     "text": [
      "INFO:tensorflow:Creating bottleneck at /tmp/bottleneck/anthro /OAARUT.jpg_https~tfhub.dev~google~imagenet~mobilenet_v2_100_96~classification~1.txt\n"
     ]
    }
   ],
   "source": [
    "%run retrain.py --image_dir tile_96 --tfhub_module https://tfhub.dev/google/imagenet/mobilenet_v2_100_96/classification/1 --how_many_training_steps 1000 --output_labels labels.txt --output_graph mobilenetv2_96.pb "
   ]
  },
  {
   "cell_type": "code",
   "execution_count": null,
   "metadata": {
    "collapsed": true
   },
   "outputs": [],
   "source": []
  }
 ],
 "metadata": {
  "kernelspec": {
   "display_name": "Python 2",
   "language": "python",
   "name": "python2"
  },
  "language_info": {
   "codemirror_mode": {
    "name": "ipython",
    "version": 2
   },
   "file_extension": ".py",
   "mimetype": "text/x-python",
   "name": "python",
   "nbconvert_exporter": "python",
   "pygments_lexer": "ipython2",
   "version": "2.7.14"
  }
 },
 "nbformat": 4,
 "nbformat_minor": 2
}
